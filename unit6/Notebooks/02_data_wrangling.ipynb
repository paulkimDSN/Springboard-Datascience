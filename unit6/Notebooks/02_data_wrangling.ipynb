{
 "cells": [
  {
   "cell_type": "markdown",
   "metadata": {},
   "source": [
    "# 2 Data wrangling<a id='2_Data_wrangling'></a>"
   ]
  },
  {
   "cell_type": "markdown",
   "metadata": {},
   "source": [
    "## 2.1 Contents<a id='2.1_Contents'></a>\n",
    "* [2 Data wrangling](#2_Data_wrangling)\n",
    "  * [2.1 Contents](#2.1_Contents)\n",
    "  * [2.2 Introduction](#2.2_Introduction)\n",
    "    * [2.2.1 Recap Of Data Science Problem](#2.2.1_Recap_Of_Data_Science_Problem)\n",
    "    * [2.2.2 Introduction To Notebook](#2.2.2_Introduction_To_Notebook)\n",
    "  * [2.3 Imports](#2.3_Imports)\n",
    "  * [2.4 Objectives](#2.4_Objectives)\n",
    "  * [2.5 Load The Ski Resort Data](#2.5_Load_The_Ski_Resort_Data)\n",
    "  * [2.6 Explore The Data](#2.6_Explore_The_Data)\n",
    "    * [2.6.1 Find Your Resort Of Interest](#2.6.1_Find_Your_Resort_Of_Interest)\n",
    "    * [2.6.2 Number Of Missing Values By Column](#2.6.2_Number_Of_Missing_Values_By_Column)\n",
    "    * [2.6.3 Categorical Features](#2.6.3_Categorical_Features)\n",
    "      * [2.6.3.1 Unique Resort Names](#2.6.3.1_Unique_Resort_Names)\n",
    "      * [2.6.3.2 Region And State](#2.6.3.2_Region_And_State)\n",
    "      * [2.6.3.3 Number of distinct regions and states](#2.6.3.3_Number_of_distinct_regions_and_states)\n",
    "      * [2.6.3.4 Distribution Of Resorts By Region And State](#2.6.3.4_Distribution_Of_Resorts_By_Region_And_State)\n",
    "      * [2.6.3.5 Distribution Of Ticket Price By State](#2.6.3.5_Distribution_Of_Ticket_Price_By_State)\n",
    "        * [2.6.3.5.1 Average weekend and weekday price by state](#2.6.3.5.1_Average_weekend_and_weekday_price_by_state)\n",
    "        * [2.6.3.5.2 Distribution of weekday and weekend price by state](#2.6.3.5.2_Distribution_of_weekday_and_weekend_price_by_state)\n",
    "    * [2.6.4 Numeric Features](#2.6.4_Numeric_Features)\n",
    "      * [2.6.4.1 Numeric data summary](#2.6.4.1_Numeric_data_summary)\n",
    "      * [2.6.4.2 Distributions Of Feature Values](#2.6.4.2_Distributions_Of_Feature_Values)\n",
    "        * [2.6.4.2.1 SkiableTerrain_ac](#2.6.4.2.1_SkiableTerrain_ac)\n",
    "        * [2.6.4.2.2 Snow Making_ac](#2.6.4.2.2_Snow_Making_ac)\n",
    "        * [2.6.4.2.3 fastEight](#2.6.4.2.3_fastEight)\n",
    "        * [2.6.4.2.4 fastSixes and Trams](#2.6.4.2.4_fastSixes_and_Trams)\n",
    "  * [2.7 Derive State-wide Summary Statistics For Our Market Segment](#2.7_Derive_State-wide_Summary_Statistics_For_Our_Market_Segment)\n",
    "  * [2.8 Drop Rows With No Price Data](#2.8_Drop_Rows_With_No_Price_Data)\n",
    "  * [2.9 Review distributions](#2.9_Review_distributions)\n",
    "  * [2.10 Population data](#2.10_Population_data)\n",
    "  * [2.11 Target Feature](#2.11_Target_Feature)\n",
    "    * [2.11.1 Number Of Missing Values By Row - Resort](#2.11.1_Number_Of_Missing_Values_By_Row_-_Resort)\n",
    "  * [2.12 Save data](#2.12_Save_data)\n",
    "  * [2.13 Summary](#2.13_Summary)\n"
   ]
  },
  {
   "cell_type": "markdown",
   "metadata": {},
   "source": [
    "## 2.2 Introduction<a id='2.2_Introduction'></a>"
   ]
  },
  {
   "cell_type": "markdown",
   "metadata": {},
   "source": [
    "This step focuses on collecting your data, organizing it, and making sure it's well defined. Paying attention to these tasks will pay off greatly later on. Some data cleaning can be done at this stage, but it's important not to be overzealous in your cleaning before you've explored the data to better understand it."
   ]
  },
  {
   "cell_type": "markdown",
   "metadata": {},
   "source": [
    "### 2.2.1 Recap Of Data Science Problem<a id='2.2.1_Recap_Of_Data_Science_Problem'></a>"
   ]
  },
  {
   "cell_type": "markdown",
   "metadata": {},
   "source": [
    "The purpose of this data science project is to come up with a pricing model for ski resort tickets in our market segment. Big Mountain suspects it may not be maximizing its returns, relative to its position in the market. It also does not have a strong sense of what facilities matter most to visitors, particularly which ones they're most likely to pay more for. This project aims to build a predictive model for ticket price based on a number of facilities, or properties, boasted by resorts (*at the resorts).* \n",
    "This model will be used to provide guidance for Big Mountain's pricing and future facility investment plans."
   ]
  },
  {
   "cell_type": "markdown",
   "metadata": {},
   "source": [
    "### 2.2.2 Introduction To Notebook<a id='2.2.2_Introduction_To_Notebook'></a>"
   ]
  },
  {
   "cell_type": "markdown",
   "metadata": {},
   "source": [
    "Notebooks grow organically as we explore our data. If you used paper notebooks, you could discover a mistake and cross out or revise some earlier work. Later work may give you a reason to revisit earlier work and explore it further. The great thing about Jupyter notebooks is that you can edit, add, and move cells around without needing to cross out figures or scrawl in the margin. However, this means you can lose track of your changes easily. If you worked in a regulated environment, the company may have a a policy of always dating entries and clearly crossing out any mistakes, with your initials and the date.\n",
    "\n",
    "**Best practice here is to commit your changes using a version control system such as Git.** Try to get into the habit of adding and committing your files to the Git repository you're working in after you save them. You're are working in a Git repository, right? If you make a significant change, save the notebook and commit it to Git. In fact, if you're about to make a significant change, it's a good idea to commit before as well. Then if the change is a mess, you've got the previous version to go back to.\n",
    "\n",
    "**Another best practice with notebooks is to try to keep them organized with helpful headings and comments.** Not only can a good structure, but associated headings help you keep track of what you've done and your current focus. Anyone reading your notebook will have a much easier time following the flow of work. Remember, that 'anyone' will most likely be you. Be kind to future you!\n",
    "\n",
    "In this notebook, note how we try to use well structured, helpful headings that frequently are self-explanatory, and we make a brief note after any results to highlight key takeaways. This is an immense help to anyone reading your notebook and it will greatly help you when you come to summarise your findings. **Top tip: jot down key findings in a final summary at the end of the notebook as they arise. You can tidy this up later.** This is a great way to ensure important results don't get lost in the middle of your notebooks."
   ]
  },
  {
   "cell_type": "markdown",
   "metadata": {},
   "source": [
    "In this, and subsequent notebooks, there are coding tasks marked with `#Code task n#` with code to complete. The `___` will guide you to where you need to insert code."
   ]
  },
  {
   "cell_type": "markdown",
   "metadata": {},
   "source": [
    "## 2.3 Imports<a id='2.3_Imports'></a>"
   ]
  },
  {
   "cell_type": "markdown",
   "metadata": {},
   "source": [
    "Placing your imports all together at the start of your notebook means you only need to consult one place to check your notebook's dependencies. By all means import something 'in situ' later on when you're experimenting, but if the imported dependency ends up being kept, you should subsequently move the import statement here with the rest."
   ]
  },
  {
   "cell_type": "code",
<<<<<<< Updated upstream
   "execution_count": 1,
=======
   "execution_count": null,
>>>>>>> Stashed changes
   "metadata": {},
   "outputs": [],
   "source": [
    "#Code task 1#\n",
    "#Import pandas, matplotlib.pyplot, and seaborn in the correct lines below\n",
<<<<<<< Updated upstream
    "import pandas as pd\n",
    "import matplotlib.pyplot as plt\n",
    "import seaborn as sns\n",
=======
    "import ___ as pd\n",
    "import ___ as plt\n",
    "import ___ as sns\n",
>>>>>>> Stashed changes
    "import os\n",
    "\n",
    "from library.sb_utils import save_file\n"
   ]
  },
  {
   "cell_type": "markdown",
   "metadata": {},
   "source": [
    "## 2.4 Objectives<a id='2.4_Objectives'></a>"
   ]
  },
  {
   "cell_type": "markdown",
   "metadata": {},
   "source": [
    "There are some fundamental questions to resolve in this notebook before you move on.\n",
    "\n",
    "* Do you think you may have the data you need to tackle the desired question?\n",
    "    * Have you identified the required target value?\n",
    "    * Do you have potentially useful features?\n",
    "* Do you have any fundamental issues with the data?"
   ]
  },
  {
   "cell_type": "markdown",
   "metadata": {},
   "source": [
    "## 2.5 Load The Ski Resort Data<a id='2.5_Load_The_Ski_Resort_Data'></a>"
   ]
  },
  {
   "cell_type": "code",
   "execution_count": 2,
   "metadata": {},
   "outputs": [],
   "source": [
    "# the supplied CSV data file is the raw_data directory\n",
    "ski_data = pd.read_csv('../raw_data/ski_resort_data.csv')"
   ]
  },
  {
   "cell_type": "markdown",
   "metadata": {},
   "source": [
    "Good first steps in auditing the data are the info method and displaying the first few records with head."
   ]
  },
  {
   "cell_type": "code",
<<<<<<< Updated upstream
   "execution_count": 3,
   "metadata": {},
   "outputs": [
    {
     "name": "stdout",
     "output_type": "stream",
     "text": [
      "<class 'pandas.core.frame.DataFrame'>\n",
      "RangeIndex: 330 entries, 0 to 329\n",
      "Data columns (total 27 columns):\n",
      " #   Column             Non-Null Count  Dtype  \n",
      "---  ------             --------------  -----  \n",
      " 0   Name               330 non-null    object \n",
      " 1   Region             330 non-null    object \n",
      " 2   state              330 non-null    object \n",
      " 3   summit_elev        330 non-null    int64  \n",
      " 4   vertical_drop      330 non-null    int64  \n",
      " 5   base_elev          330 non-null    int64  \n",
      " 6   trams              330 non-null    int64  \n",
      " 7   fastEight          164 non-null    float64\n",
      " 8   fastSixes          330 non-null    int64  \n",
      " 9   fastQuads          330 non-null    int64  \n",
      " 10  quad               330 non-null    int64  \n",
      " 11  triple             330 non-null    int64  \n",
      " 12  double             330 non-null    int64  \n",
      " 13  surface            330 non-null    int64  \n",
      " 14  total_chairs       330 non-null    int64  \n",
      " 15  Runs               326 non-null    float64\n",
      " 16  TerrainParks       279 non-null    float64\n",
      " 17  LongestRun_mi      325 non-null    float64\n",
      " 18  SkiableTerrain_ac  327 non-null    float64\n",
      " 19  Snow Making_ac     284 non-null    float64\n",
      " 20  daysOpenLastYear   279 non-null    float64\n",
      " 21  yearsOpen          329 non-null    float64\n",
      " 22  averageSnowfall    316 non-null    float64\n",
      " 23  AdultWeekday       276 non-null    float64\n",
      " 24  AdultWeekend       279 non-null    float64\n",
      " 25  projectedDaysOpen  283 non-null    float64\n",
      " 26  NightSkiing_ac     187 non-null    float64\n",
      "dtypes: float64(13), int64(11), object(3)\n",
      "memory usage: 69.7+ KB\n"
     ]
    }
   ],
   "source": [
    "#Code task 2#\n",
    "#Call the info method on ski_data to see a summary of the data\n",
    "ski_data.info()"
=======
   "execution_count": null,
   "metadata": {},
   "outputs": [],
   "source": [
    "#Code task 2#\n",
    "#Call the info method on ski_data to see a summary of the data\n",
    "ski_data.___"
>>>>>>> Stashed changes
   ]
  },
  {
   "cell_type": "markdown",
   "metadata": {},
   "source": [
    "`AdultWeekday` is the price of an adult weekday ticket. `AdultWeekend` is the price of an adult weekend ticket. The other columns are potential features."
   ]
  },
  {
   "cell_type": "markdown",
   "metadata": {},
   "source": [
    "This immediately raises the question of what quantity will you want to model? You know you want to model the ticket price, but you realise there are two kinds of ticket price!"
   ]
  },
  {
   "cell_type": "code",
<<<<<<< Updated upstream
   "execution_count": 4,
   "metadata": {
    "scrolled": true
   },
=======
   "execution_count": null,
   "metadata": {
    "scrolled": true
   },
   "outputs": [],
   "source": [
    "#Code task 3#\n",
    "#Call the head method on ski_data to print the first several rows of the data\n",
    "ski_data.___"
   ]
  },
  {
   "cell_type": "markdown",
   "metadata": {},
   "source": [
    "The output above suggests you've made a good start getting the ski resort data organized. You have plausible column headings. You can already see you have a missing value in the `fastEight` column"
   ]
  },
  {
   "cell_type": "markdown",
   "metadata": {},
   "source": [
    "## 2.6 Explore The Data<a id='2.6_Explore_The_Data'></a>"
   ]
  },
  {
   "cell_type": "markdown",
   "metadata": {},
   "source": [
    "### 2.6.1 Find Your Resort Of Interest<a id='2.6.1_Find_Your_Resort_Of_Interest'></a>"
   ]
  },
  {
   "cell_type": "markdown",
   "metadata": {},
   "source": [
    "Your resort of interest is called Big Mountain Resort. Check it's in the data:"
   ]
  },
  {
   "cell_type": "code",
   "execution_count": null,
   "metadata": {},
   "outputs": [],
   "source": [
    "#Code task 4#\n",
    "#Filter the ski_data dataframe to display just the row for our resort with the name 'Big Mountain Resort'\n",
    "#Hint: you will find that the transpose of the row will give a nicer output. DataFrame's do have a\n",
    "#transpose method, but you can access this conveniently with the `T` property.\n",
    "ski_data[ski_data.Name == ___].___"
   ]
  },
  {
   "cell_type": "markdown",
   "metadata": {},
   "source": [
    "It's good that your resort doesn't appear to have any missing values."
   ]
  },
  {
   "cell_type": "markdown",
   "metadata": {},
   "source": [
    "### 2.6.2 Number Of Missing Values By Column<a id='2.6.2_Number_Of_Missing_Values_By_Column'></a>"
   ]
  },
  {
   "cell_type": "markdown",
   "metadata": {},
   "source": [
    "Count the number of missing values in each column and sort them."
   ]
  },
  {
   "cell_type": "code",
   "execution_count": null,
   "metadata": {},
   "outputs": [],
   "source": [
    "#Code task 5#\n",
    "#Count (using `.sum()`) the number of missing values (`.isnull()`) in each column of \n",
    "#ski_data as well as the percentages (using `.mean()` instead of `.sum()`).\n",
    "#Order them (increasing or decreasing) using sort_values\n",
    "#Call `pd.concat` to present these in a single table (DataFrame) with the helpful column names 'count' and '%'\n",
    "missing = ___([ski_data.___.___, 100 * ski_data.___.___], axis=1)\n",
    "missing.columns=[___, ___]\n",
    "missing.___(by=___)"
   ]
  },
  {
   "cell_type": "markdown",
   "metadata": {},
   "source": [
    "`fastEight` has the most missing values, at just over 50%. Unfortunately, you see you're also missing quite a few of your desired target quantity, the ticket price, which is missing 15-16% of values. `AdultWeekday` is missing in a few more records than `AdultWeekend`. What overlap is there in these missing values? This is a question you'll want to investigate. You should also point out that `isnull()` is not the only indicator of missing data. Sometimes 'missingness' can be encoded, perhaps by a -1 or 999. Such values are typically chosen because they are \"obviously\" not genuine values. If you were capturing data on people's heights and weights but missing someone's height, you could certainly encode that as a 0 because no one has a height of zero (in any units). Yet such entries would not be revealed by `isnull()`. Here, you need a data dictionary and/or to spot such values as part of looking for outliers. Someone with a height of zero should definitely show up as an outlier!"
   ]
  },
  {
   "cell_type": "markdown",
   "metadata": {},
   "source": [
    "### 2.6.3 Categorical Features<a id='2.6.3_Categorical_Features'></a>"
   ]
  },
  {
   "cell_type": "markdown",
   "metadata": {},
   "source": [
    "So far you've examined only the numeric features. Now you inspect categorical ones such as resort name and state. These are discrete entities. 'Alaska' is a name. Although names can be sorted alphabetically, it makes no sense to take the average of 'Alaska' and 'Arizona'. Similarly, 'Alaska' is before 'Arizona' only lexicographically; it is neither 'less than' nor 'greater than' 'Arizona'. As such, they tend to require different handling than strictly numeric quantities. Note, a feature _can_ be numeric but also categorical. For example, instead of giving the number of `fastEight` lifts, a feature might be `has_fastEights` and have the value 0 or 1 to denote absence or presence of such a lift. In such a case it would not make sense to take an average of this or perform other mathematical calculations on it. Although you digress a little to make a point, month numbers are also, strictly speaking, categorical features. Yes, when a month is represented by its number (1 for January, 2 for Februrary etc.) it provides a convenient way to graph trends over a year. And, arguably, there is some logical interpretation of the average of 1 and 3 (January and March) being 2 (February). However, clearly December of one years precedes January of the next and yet 12 as a number is not less than 1. The numeric quantities in the section above are truly numeric; they are the number of feet in the drop, or acres or years open or the amount of snowfall etc."
   ]
  },
  {
   "cell_type": "code",
   "execution_count": null,
   "metadata": {},
   "outputs": [],
   "source": [
    "#Code task 6#\n",
    "#Use ski_data's `select_dtypes` method to select columns of dtype 'object'\n",
    "ski_data.___(___)"
   ]
  },
  {
   "cell_type": "markdown",
   "metadata": {},
   "source": [
    "You saw earlier on that these three columns had no missing values. But are there any other issues with these columns? Sensible questions to ask here include:\n",
    "\n",
    "* Is `Name` (or at least a combination of Name/Region/State) unique?\n",
    "* Is `Region` always the same as `state`?"
   ]
  },
  {
   "cell_type": "markdown",
   "metadata": {},
   "source": [
    "#### 2.6.3.1 Unique Resort Names<a id='2.6.3.1_Unique_Resort_Names'></a>"
   ]
  },
  {
   "cell_type": "code",
   "execution_count": null,
   "metadata": {},
   "outputs": [],
   "source": [
    "#Code task 7#\n",
    "#Use pandas' Series method `value_counts` to find any duplicated resort names\n",
    "ski_data['Name'].___.head()"
   ]
  },
  {
   "cell_type": "markdown",
   "metadata": {},
   "source": [
    "You have a duplicated resort name: Crystal Mountain."
   ]
  },
  {
   "cell_type": "markdown",
   "metadata": {},
   "source": [
    "**Q: 1** Is this resort duplicated if you take into account Region and/or state as well?"
   ]
  },
  {
   "cell_type": "code",
   "execution_count": null,
   "metadata": {},
   "outputs": [],
   "source": [
    "#Code task 8#\n",
    "#Concatenate the string columns 'Name' and 'Region' and count the values again (as above)\n",
    "(ski_data[___] + ', ' + ski_data[___]).___.head()"
   ]
  },
  {
   "cell_type": "code",
   "execution_count": null,
   "metadata": {},
   "outputs": [],
   "source": [
    "#Code task 9#\n",
    "#Concatenate 'Name' and 'state' and count the values again (as above)\n",
    "(ski_data[___] + ', ' + ski_data[___]).___.head()"
   ]
  },
  {
   "cell_type": "code",
   "execution_count": null,
   "metadata": {},
   "outputs": [],
   "source": [
    "**NB** because you know `value_counts()` sorts descending, you can use the `head()` method and know the rest of the counts must be 1."
   ]
  },
  {
   "cell_type": "markdown",
   "metadata": {},
   "source": [
    "**A: 1** Your answer here"
   ]
  },
  {
   "cell_type": "code",
   "execution_count": 11,
   "metadata": {},
>>>>>>> Stashed changes
   "outputs": [
    {
     "data": {
      "text/html": [
       "<div>\n",
       "<style scoped>\n",
       "    .dataframe tbody tr th:only-of-type {\n",
       "        vertical-align: middle;\n",
       "    }\n",
       "\n",
       "    .dataframe tbody tr th {\n",
       "        vertical-align: top;\n",
       "    }\n",
       "\n",
       "    .dataframe thead th {\n",
       "        text-align: right;\n",
       "    }\n",
       "</style>\n",
       "<table border=\"1\" class=\"dataframe\">\n",
       "  <thead>\n",
       "    <tr style=\"text-align: right;\">\n",
       "      <th></th>\n",
       "      <th>Name</th>\n",
       "      <th>Region</th>\n",
       "      <th>state</th>\n",
       "      <th>summit_elev</th>\n",
       "      <th>vertical_drop</th>\n",
       "      <th>base_elev</th>\n",
       "      <th>trams</th>\n",
       "      <th>fastEight</th>\n",
       "      <th>fastSixes</th>\n",
       "      <th>fastQuads</th>\n",
       "      <th>...</th>\n",
       "      <th>LongestRun_mi</th>\n",
       "      <th>SkiableTerrain_ac</th>\n",
       "      <th>Snow Making_ac</th>\n",
       "      <th>daysOpenLastYear</th>\n",
       "      <th>yearsOpen</th>\n",
       "      <th>averageSnowfall</th>\n",
       "      <th>AdultWeekday</th>\n",
       "      <th>AdultWeekend</th>\n",
       "      <th>projectedDaysOpen</th>\n",
       "      <th>NightSkiing_ac</th>\n",
       "    </tr>\n",
       "  </thead>\n",
       "  <tbody>\n",
       "    <tr>\n",
<<<<<<< Updated upstream
       "      <th>0</th>\n",
       "      <td>Alyeska Resort</td>\n",
       "      <td>Alaska</td>\n",
       "      <td>Alaska</td>\n",
       "      <td>3939</td>\n",
       "      <td>2500</td>\n",
       "      <td>250</td>\n",
       "      <td>1</td>\n",
       "      <td>0.0</td>\n",
       "      <td>0</td>\n",
       "      <td>2</td>\n",
       "      <td>...</td>\n",
       "      <td>1.0</td>\n",
       "      <td>1610.0</td>\n",
       "      <td>113.0</td>\n",
       "      <td>150.0</td>\n",
       "      <td>60.0</td>\n",
       "      <td>669.0</td>\n",
       "      <td>65.0</td>\n",
       "      <td>85.0</td>\n",
       "      <td>150.0</td>\n",
       "      <td>550.0</td>\n",
       "    </tr>\n",
       "    <tr>\n",
       "      <th>1</th>\n",
       "      <td>Eaglecrest Ski Area</td>\n",
       "      <td>Alaska</td>\n",
       "      <td>Alaska</td>\n",
       "      <td>2600</td>\n",
       "      <td>1540</td>\n",
       "      <td>1200</td>\n",
       "      <td>0</td>\n",
       "      <td>0.0</td>\n",
       "      <td>0</td>\n",
       "      <td>0</td>\n",
       "      <td>...</td>\n",
       "      <td>2.0</td>\n",
       "      <td>640.0</td>\n",
       "      <td>60.0</td>\n",
       "      <td>45.0</td>\n",
       "      <td>44.0</td>\n",
       "      <td>350.0</td>\n",
       "      <td>47.0</td>\n",
       "      <td>53.0</td>\n",
       "      <td>90.0</td>\n",
       "      <td>NaN</td>\n",
       "    </tr>\n",
       "    <tr>\n",
       "      <th>2</th>\n",
       "      <td>Hilltop Ski Area</td>\n",
       "      <td>Alaska</td>\n",
       "      <td>Alaska</td>\n",
       "      <td>2090</td>\n",
       "      <td>294</td>\n",
       "      <td>1796</td>\n",
       "      <td>0</td>\n",
       "      <td>0.0</td>\n",
       "      <td>0</td>\n",
       "      <td>0</td>\n",
       "      <td>...</td>\n",
       "      <td>1.0</td>\n",
       "      <td>30.0</td>\n",
       "      <td>30.0</td>\n",
       "      <td>150.0</td>\n",
       "      <td>36.0</td>\n",
       "      <td>69.0</td>\n",
       "      <td>30.0</td>\n",
       "      <td>34.0</td>\n",
       "      <td>152.0</td>\n",
       "      <td>30.0</td>\n",
       "    </tr>\n",
       "    <tr>\n",
       "      <th>3</th>\n",
       "      <td>Arizona Snowbowl</td>\n",
       "      <td>Arizona</td>\n",
       "      <td>Arizona</td>\n",
       "      <td>11500</td>\n",
       "      <td>2300</td>\n",
       "      <td>9200</td>\n",
       "      <td>0</td>\n",
       "      <td>0.0</td>\n",
       "      <td>1</td>\n",
       "      <td>0</td>\n",
       "      <td>...</td>\n",
       "      <td>2.0</td>\n",
       "      <td>777.0</td>\n",
       "      <td>104.0</td>\n",
       "      <td>122.0</td>\n",
       "      <td>81.0</td>\n",
       "      <td>260.0</td>\n",
       "      <td>89.0</td>\n",
       "      <td>89.0</td>\n",
       "      <td>122.0</td>\n",
       "      <td>NaN</td>\n",
       "    </tr>\n",
       "    <tr>\n",
       "      <th>4</th>\n",
       "      <td>Sunrise Park Resort</td>\n",
       "      <td>Arizona</td>\n",
       "      <td>Arizona</td>\n",
       "      <td>11100</td>\n",
       "      <td>1800</td>\n",
       "      <td>9200</td>\n",
       "      <td>0</td>\n",
       "      <td>NaN</td>\n",
       "      <td>0</td>\n",
       "      <td>1</td>\n",
       "      <td>...</td>\n",
       "      <td>1.2</td>\n",
       "      <td>800.0</td>\n",
       "      <td>80.0</td>\n",
       "      <td>115.0</td>\n",
       "      <td>49.0</td>\n",
       "      <td>250.0</td>\n",
       "      <td>74.0</td>\n",
       "      <td>78.0</td>\n",
       "      <td>104.0</td>\n",
       "      <td>80.0</td>\n",
       "    </tr>\n",
       "    <tr>\n",
       "      <th>5</th>\n",
       "      <td>Yosemite Ski &amp; Snowboard Area</td>\n",
       "      <td>Northern California</td>\n",
       "      <td>California</td>\n",
       "      <td>7800</td>\n",
       "      <td>600</td>\n",
       "      <td>7200</td>\n",
       "      <td>0</td>\n",
       "      <td>0.0</td>\n",
       "      <td>0</td>\n",
       "      <td>0</td>\n",
       "      <td>...</td>\n",
       "      <td>0.4</td>\n",
       "      <td>88.0</td>\n",
       "      <td>NaN</td>\n",
       "      <td>110.0</td>\n",
       "      <td>84.0</td>\n",
       "      <td>300.0</td>\n",
       "      <td>47.0</td>\n",
       "      <td>47.0</td>\n",
       "      <td>107.0</td>\n",
       "      <td>NaN</td>\n",
       "    </tr>\n",
       "    <tr>\n",
       "      <th>6</th>\n",
       "      <td>Bear Mountain</td>\n",
       "      <td>Sierra Nevada</td>\n",
       "      <td>California</td>\n",
       "      <td>8805</td>\n",
       "      <td>1665</td>\n",
       "      <td>7140</td>\n",
       "      <td>0</td>\n",
       "      <td>0.0</td>\n",
       "      <td>0</td>\n",
       "      <td>2</td>\n",
       "      <td>...</td>\n",
       "      <td>1.5</td>\n",
       "      <td>198.0</td>\n",
       "      <td>198.0</td>\n",
       "      <td>122.0</td>\n",
       "      <td>76.0</td>\n",
       "      <td>100.0</td>\n",
       "      <td>NaN</td>\n",
       "      <td>NaN</td>\n",
       "      <td>130.0</td>\n",
       "      <td>NaN</td>\n",
       "    </tr>\n",
       "    <tr>\n",
       "      <th>7</th>\n",
       "      <td>Bear Valley</td>\n",
       "      <td>Sierra Nevada</td>\n",
       "      <td>California</td>\n",
       "      <td>8500</td>\n",
       "      <td>1900</td>\n",
       "      <td>6600</td>\n",
       "      <td>0</td>\n",
       "      <td>0.0</td>\n",
       "      <td>1</td>\n",
       "      <td>1</td>\n",
       "      <td>...</td>\n",
       "      <td>1.2</td>\n",
       "      <td>1680.0</td>\n",
       "      <td>100.0</td>\n",
       "      <td>165.0</td>\n",
       "      <td>52.0</td>\n",
       "      <td>359.0</td>\n",
       "      <td>NaN</td>\n",
       "      <td>NaN</td>\n",
       "      <td>151.0</td>\n",
       "      <td>NaN</td>\n",
       "    </tr>\n",
       "    <tr>\n",
       "      <th>8</th>\n",
       "      <td>Boreal Mountain Resort</td>\n",
       "      <td>Sierra Nevada</td>\n",
       "      <td>California</td>\n",
       "      <td>7700</td>\n",
       "      <td>500</td>\n",
       "      <td>7200</td>\n",
       "      <td>0</td>\n",
       "      <td>0.0</td>\n",
       "      <td>0</td>\n",
       "      <td>1</td>\n",
       "      <td>...</td>\n",
       "      <td>1.0</td>\n",
       "      <td>380.0</td>\n",
       "      <td>200.0</td>\n",
       "      <td>150.0</td>\n",
       "      <td>54.0</td>\n",
       "      <td>400.0</td>\n",
       "      <td>49.0</td>\n",
       "      <td>NaN</td>\n",
       "      <td>150.0</td>\n",
       "      <td>200.0</td>\n",
       "    </tr>\n",
       "    <tr>\n",
       "      <th>9</th>\n",
       "      <td>Dodge Ridge</td>\n",
       "      <td>Sierra Nevada</td>\n",
       "      <td>California</td>\n",
       "      <td>8200</td>\n",
       "      <td>1600</td>\n",
       "      <td>6600</td>\n",
       "      <td>0</td>\n",
       "      <td>0.0</td>\n",
       "      <td>0</td>\n",
       "      <td>0</td>\n",
       "      <td>...</td>\n",
       "      <td>2.0</td>\n",
       "      <td>862.0</td>\n",
       "      <td>NaN</td>\n",
       "      <td>NaN</td>\n",
       "      <td>69.0</td>\n",
       "      <td>350.0</td>\n",
       "      <td>78.0</td>\n",
       "      <td>78.0</td>\n",
       "      <td>140.0</td>\n",
       "      <td>NaN</td>\n",
       "    </tr>\n",
       "    <tr>\n",
       "      <th>10</th>\n",
       "      <td>Donner Ski Ranch</td>\n",
       "      <td>Sierra Nevada</td>\n",
       "      <td>California</td>\n",
       "      <td>8012</td>\n",
       "      <td>750</td>\n",
       "      <td>7031</td>\n",
       "      <td>0</td>\n",
       "      <td>0.0</td>\n",
       "      <td>0</td>\n",
       "      <td>0</td>\n",
       "      <td>...</td>\n",
       "      <td>1.5</td>\n",
       "      <td>505.0</td>\n",
       "      <td>60.0</td>\n",
       "      <td>163.0</td>\n",
       "      <td>82.0</td>\n",
       "      <td>400.0</td>\n",
       "      <td>75.0</td>\n",
       "      <td>75.0</td>\n",
       "      <td>170.0</td>\n",
       "      <td>NaN</td>\n",
       "    </tr>\n",
       "    <tr>\n",
       "      <th>11</th>\n",
       "      <td>Heavenly Mountain Resort</td>\n",
       "      <td>Sierra Nevada</td>\n",
       "      <td>California</td>\n",
       "      <td>10067</td>\n",
       "      <td>3500</td>\n",
       "      <td>7170</td>\n",
       "      <td>2</td>\n",
       "      <td>0.0</td>\n",
       "      <td>2</td>\n",
       "      <td>7</td>\n",
       "      <td>...</td>\n",
       "      <td>5.5</td>\n",
       "      <td>4800.0</td>\n",
       "      <td>3379.0</td>\n",
       "      <td>155.0</td>\n",
       "      <td>64.0</td>\n",
       "      <td>360.0</td>\n",
       "      <td>NaN</td>\n",
       "      <td>NaN</td>\n",
       "      <td>157.0</td>\n",
       "      <td>NaN</td>\n",
       "    </tr>\n",
       "    <tr>\n",
       "      <th>12</th>\n",
       "      <td>June Mountain</td>\n",
       "      <td>Sierra Nevada</td>\n",
       "      <td>California</td>\n",
       "      <td>10090</td>\n",
       "      <td>2590</td>\n",
       "      <td>7545</td>\n",
       "      <td>0</td>\n",
       "      <td>NaN</td>\n",
       "      <td>0</td>\n",
       "      <td>2</td>\n",
       "      <td>...</td>\n",
       "      <td>2.0</td>\n",
       "      <td>1500.0</td>\n",
       "      <td>NaN</td>\n",
       "      <td>NaN</td>\n",
       "      <td>58.0</td>\n",
       "      <td>250.0</td>\n",
       "      <td>NaN</td>\n",
       "      <td>NaN</td>\n",
       "      <td>128.0</td>\n",
       "      <td>NaN</td>\n",
       "    </tr>\n",
       "    <tr>\n",
       "      <th>13</th>\n",
       "      <td>Kirkwood</td>\n",
       "      <td>Sierra Nevada</td>\n",
       "      <td>California</td>\n",
       "      <td>9800</td>\n",
       "      <td>2000</td>\n",
       "      <td>7800</td>\n",
       "      <td>0</td>\n",
       "      <td>0.0</td>\n",
       "      <td>0</td>\n",
       "      <td>2</td>\n",
       "      <td>...</td>\n",
       "      <td>2.5</td>\n",
       "      <td>2300.0</td>\n",
       "      <td>200.0</td>\n",
       "      <td>200.0</td>\n",
       "      <td>47.0</td>\n",
       "      <td>354.0</td>\n",
       "      <td>NaN</td>\n",
       "      <td>NaN</td>\n",
       "      <td>167.0</td>\n",
       "      <td>NaN</td>\n",
       "    </tr>\n",
       "    <tr>\n",
       "      <th>14</th>\n",
       "      <td>Mammoth Mountain Ski Area</td>\n",
       "      <td>Sierra Nevada</td>\n",
       "      <td>California</td>\n",
       "      <td>11053</td>\n",
       "      <td>3100</td>\n",
       "      <td>7953</td>\n",
       "      <td>3</td>\n",
       "      <td>0.0</td>\n",
       "      <td>2</td>\n",
       "      <td>9</td>\n",
       "      <td>...</td>\n",
       "      <td>3.0</td>\n",
       "      <td>3500.0</td>\n",
       "      <td>700.0</td>\n",
       "      <td>243.0</td>\n",
       "      <td>66.0</td>\n",
       "      <td>400.0</td>\n",
       "      <td>149.0</td>\n",
       "      <td>159.0</td>\n",
       "      <td>NaN</td>\n",
       "      <td>NaN</td>\n",
       "    </tr>\n",
       "    <tr>\n",
       "      <th>15</th>\n",
       "      <td>Mt. Shasta Ski Park</td>\n",
       "      <td>Sierra Nevada</td>\n",
       "      <td>California</td>\n",
       "      <td>6890</td>\n",
       "      <td>1435</td>\n",
       "      <td>5500</td>\n",
       "      <td>0</td>\n",
       "      <td>NaN</td>\n",
       "      <td>0</td>\n",
       "      <td>0</td>\n",
       "      <td>...</td>\n",
       "      <td>1.1</td>\n",
       "      <td>425.0</td>\n",
       "      <td>225.0</td>\n",
       "      <td>140.0</td>\n",
       "      <td>34.0</td>\n",
       "      <td>300.0</td>\n",
       "      <td>49.0</td>\n",
       "      <td>59.0</td>\n",
       "      <td>130.0</td>\n",
       "      <td>NaN</td>\n",
       "    </tr>\n",
       "    <tr>\n",
       "      <th>16</th>\n",
       "      <td>Mountain High</td>\n",
       "      <td>Sierra Nevada</td>\n",
       "      <td>California</td>\n",
       "      <td>8200</td>\n",
       "      <td>1600</td>\n",
       "      <td>6600</td>\n",
       "      <td>0</td>\n",
       "      <td>NaN</td>\n",
       "      <td>0</td>\n",
       "      <td>2</td>\n",
       "      <td>...</td>\n",
       "      <td>1.6</td>\n",
       "      <td>290.0</td>\n",
       "      <td>275.0</td>\n",
       "      <td>118.0</td>\n",
       "      <td>95.0</td>\n",
       "      <td>108.0</td>\n",
       "      <td>84.0</td>\n",
       "      <td>84.0</td>\n",
       "      <td>150.0</td>\n",
       "      <td>73.0</td>\n",
       "    </tr>\n",
       "    <tr>\n",
       "      <th>17</th>\n",
       "      <td>Mt. Baldy</td>\n",
       "      <td>Sierra Nevada</td>\n",
       "      <td>California</td>\n",
       "      <td>8600</td>\n",
       "      <td>2100</td>\n",
       "      <td>6500</td>\n",
       "      <td>0</td>\n",
       "      <td>NaN</td>\n",
       "      <td>0</td>\n",
       "      <td>0</td>\n",
       "      <td>...</td>\n",
       "      <td>2.5</td>\n",
       "      <td>400.0</td>\n",
       "      <td>80.0</td>\n",
       "      <td>175.0</td>\n",
       "      <td>67.0</td>\n",
       "      <td>178.0</td>\n",
       "      <td>69.0</td>\n",
       "      <td>69.0</td>\n",
       "      <td>200.0</td>\n",
       "      <td>NaN</td>\n",
       "    </tr>\n",
       "    <tr>\n",
       "      <th>18</th>\n",
       "      <td>Northstar California</td>\n",
       "      <td>Sierra Nevada</td>\n",
       "      <td>California</td>\n",
       "      <td>8610</td>\n",
       "      <td>2280</td>\n",
       "      <td>6330</td>\n",
       "      <td>2</td>\n",
       "      <td>0.0</td>\n",
       "      <td>1</td>\n",
       "      <td>7</td>\n",
       "      <td>...</td>\n",
       "      <td>1.4</td>\n",
       "      <td>3170.0</td>\n",
       "      <td>1500.0</td>\n",
       "      <td>135.0</td>\n",
       "      <td>47.0</td>\n",
       "      <td>350.0</td>\n",
       "      <td>NaN</td>\n",
       "      <td>NaN</td>\n",
       "      <td>150.0</td>\n",
       "      <td>NaN</td>\n",
       "    </tr>\n",
       "    <tr>\n",
       "      <th>19</th>\n",
       "      <td>Sierra-at-Tahoe</td>\n",
       "      <td>Sierra Nevada</td>\n",
       "      <td>California</td>\n",
       "      <td>8852</td>\n",
       "      <td>2212</td>\n",
       "      <td>6640</td>\n",
       "      <td>0</td>\n",
       "      <td>NaN</td>\n",
       "      <td>0</td>\n",
       "      <td>3</td>\n",
       "      <td>...</td>\n",
       "      <td>2.5</td>\n",
       "      <td>2000.0</td>\n",
       "      <td>200.0</td>\n",
       "      <td>160.0</td>\n",
       "      <td>73.0</td>\n",
       "      <td>460.0</td>\n",
       "      <td>99.0</td>\n",
       "      <td>NaN</td>\n",
       "      <td>144.0</td>\n",
       "      <td>NaN</td>\n",
       "    </tr>\n",
       "    <tr>\n",
       "      <th>20</th>\n",
       "      <td>Ski China Peak</td>\n",
       "      <td>Sierra Nevada</td>\n",
       "      <td>California</td>\n",
       "      <td>8709</td>\n",
       "      <td>1679</td>\n",
       "      <td>7030</td>\n",
       "      <td>0</td>\n",
       "      <td>0.0</td>\n",
       "      <td>0</td>\n",
       "      <td>0</td>\n",
       "      <td>...</td>\n",
       "      <td>2.2</td>\n",
       "      <td>1400.0</td>\n",
       "      <td>150.0</td>\n",
       "      <td>140.0</td>\n",
       "      <td>62.0</td>\n",
       "      <td>300.0</td>\n",
       "      <td>83.0</td>\n",
       "      <td>83.0</td>\n",
       "      <td>144.0</td>\n",
       "      <td>NaN</td>\n",
       "    </tr>\n",
       "    <tr>\n",
       "      <th>21</th>\n",
       "      <td>Snow Summit</td>\n",
       "      <td>Sierra Nevada</td>\n",
       "      <td>California</td>\n",
       "      <td>8200</td>\n",
       "      <td>1200</td>\n",
       "      <td>7000</td>\n",
       "      <td>0</td>\n",
       "      <td>0.0</td>\n",
       "      <td>0</td>\n",
       "      <td>2</td>\n",
       "      <td>...</td>\n",
       "      <td>1.2</td>\n",
       "      <td>240.0</td>\n",
       "      <td>240.0</td>\n",
       "      <td>NaN</td>\n",
       "      <td>67.0</td>\n",
       "      <td>100.0</td>\n",
       "      <td>NaN</td>\n",
       "      <td>NaN</td>\n",
       "      <td>130.0</td>\n",
       "      <td>150.0</td>\n",
       "    </tr>\n",
       "    <tr>\n",
       "      <th>22</th>\n",
       "      <td>Snow Valley</td>\n",
       "      <td>Sierra Nevada</td>\n",
       "      <td>California</td>\n",
       "      <td>7841</td>\n",
       "      <td>1041</td>\n",
       "      <td>6800</td>\n",
       "      <td>0</td>\n",
       "      <td>NaN</td>\n",
       "      <td>0</td>\n",
       "      <td>0</td>\n",
       "      <td>...</td>\n",
       "      <td>1.2</td>\n",
       "      <td>240.0</td>\n",
       "      <td>188.0</td>\n",
       "      <td>111.0</td>\n",
       "      <td>82.0</td>\n",
       "      <td>160.0</td>\n",
       "      <td>69.0</td>\n",
       "      <td>79.0</td>\n",
       "      <td>143.0</td>\n",
       "      <td>164.0</td>\n",
       "    </tr>\n",
       "    <tr>\n",
       "      <th>23</th>\n",
       "      <td>Soda Springs</td>\n",
       "      <td>Sierra Nevada</td>\n",
       "      <td>California</td>\n",
       "      <td>7352</td>\n",
       "      <td>652</td>\n",
       "      <td>6700</td>\n",
       "      <td>0</td>\n",
       "      <td>NaN</td>\n",
       "      <td>0</td>\n",
       "      <td>0</td>\n",
       "      <td>...</td>\n",
       "      <td>0.4</td>\n",
       "      <td>200.0</td>\n",
       "      <td>20.0</td>\n",
       "      <td>150.0</td>\n",
       "      <td>83.0</td>\n",
       "      <td>400.0</td>\n",
       "      <td>50.0</td>\n",
       "      <td>50.0</td>\n",
       "      <td>144.0</td>\n",
       "      <td>NaN</td>\n",
       "    </tr>\n",
       "    <tr>\n",
       "      <th>24</th>\n",
       "      <td>Sugar Bowl Resort</td>\n",
       "      <td>Sierra Nevada</td>\n",
       "      <td>California</td>\n",
       "      <td>8383</td>\n",
       "      <td>1500</td>\n",
       "      <td>6883</td>\n",
       "      <td>1</td>\n",
       "      <td>0.0</td>\n",
       "      <td>0</td>\n",
       "      <td>5</td>\n",
       "      <td>...</td>\n",
       "      <td>3.0</td>\n",
       "      <td>1650.0</td>\n",
       "      <td>375.0</td>\n",
       "      <td>151.0</td>\n",
       "      <td>80.0</td>\n",
       "      <td>500.0</td>\n",
       "      <td>125.0</td>\n",
       "      <td>125.0</td>\n",
       "      <td>150.0</td>\n",
       "      <td>NaN</td>\n",
       "    </tr>\n",
       "    <tr>\n",
       "      <th>25</th>\n",
       "      <td>Tahoe Donner</td>\n",
       "      <td>Sierra Nevada</td>\n",
       "      <td>California</td>\n",
       "      <td>7350</td>\n",
       "      <td>600</td>\n",
       "      <td>6750</td>\n",
       "      <td>0</td>\n",
       "      <td>0.0</td>\n",
       "      <td>0</td>\n",
       "      <td>0</td>\n",
       "      <td>...</td>\n",
       "      <td>1.0</td>\n",
       "      <td>120.0</td>\n",
       "      <td>NaN</td>\n",
       "      <td>150.0</td>\n",
       "      <td>48.0</td>\n",
       "      <td>400.0</td>\n",
       "      <td>69.0</td>\n",
       "      <td>69.0</td>\n",
       "      <td>144.0</td>\n",
       "      <td>NaN</td>\n",
       "    </tr>\n",
       "    <tr>\n",
       "      <th>26</th>\n",
       "      <td>Arapahoe Basin Ski Area</td>\n",
       "      <td>Colorado</td>\n",
       "      <td>Colorado</td>\n",
       "      <td>13050</td>\n",
       "      <td>2530</td>\n",
       "      <td>10780</td>\n",
       "      <td>0</td>\n",
       "      <td>0.0</td>\n",
       "      <td>0</td>\n",
       "      <td>1</td>\n",
       "      <td>...</td>\n",
       "      <td>1.5</td>\n",
       "      <td>1428.0</td>\n",
       "      <td>125.0</td>\n",
       "      <td>230.0</td>\n",
       "      <td>73.0</td>\n",
       "      <td>350.0</td>\n",
       "      <td>85.0</td>\n",
       "      <td>85.0</td>\n",
       "      <td>233.0</td>\n",
       "      <td>NaN</td>\n",
       "    </tr>\n",
       "    <tr>\n",
       "      <th>27</th>\n",
       "      <td>Aspen / Snowmass</td>\n",
       "      <td>Colorado</td>\n",
       "      <td>Colorado</td>\n",
       "      <td>12510</td>\n",
       "      <td>4406</td>\n",
       "      <td>8104</td>\n",
       "      <td>3</td>\n",
       "      <td>0.0</td>\n",
       "      <td>1</td>\n",
       "      <td>15</td>\n",
       "      <td>...</td>\n",
       "      <td>5.3</td>\n",
       "      <td>5517.0</td>\n",
       "      <td>658.0</td>\n",
       "      <td>138.0</td>\n",
       "      <td>72.0</td>\n",
       "      <td>300.0</td>\n",
       "      <td>179.0</td>\n",
       "      <td>179.0</td>\n",
       "      <td>138.0</td>\n",
       "      <td>NaN</td>\n",
       "    </tr>\n",
       "    <tr>\n",
       "      <th>28</th>\n",
       "      <td>Beaver Creek</td>\n",
       "      <td>Colorado</td>\n",
       "      <td>Colorado</td>\n",
       "      <td>11440</td>\n",
       "      <td>3340</td>\n",
       "      <td>8100</td>\n",
       "      <td>2</td>\n",
       "      <td>0.0</td>\n",
       "      <td>0</td>\n",
       "      <td>11</td>\n",
       "      <td>...</td>\n",
       "      <td>2.8</td>\n",
       "      <td>1832.0</td>\n",
       "      <td>650.0</td>\n",
       "      <td>145.0</td>\n",
       "      <td>39.0</td>\n",
       "      <td>323.0</td>\n",
       "      <td>NaN</td>\n",
       "      <td>NaN</td>\n",
       "      <td>138.0</td>\n",
       "      <td>NaN</td>\n",
       "    </tr>\n",
       "    <tr>\n",
       "      <th>29</th>\n",
       "      <td>Breckenridge</td>\n",
       "      <td>Colorado</td>\n",
       "      <td>Colorado</td>\n",
       "      <td>12998</td>\n",
       "      <td>3398</td>\n",
       "      <td>9600</td>\n",
       "      <td>1</td>\n",
       "      <td>0.0</td>\n",
       "      <td>5</td>\n",
       "      <td>6</td>\n",
       "      <td>...</td>\n",
       "      <td>3.5</td>\n",
       "      <td>2908.0</td>\n",
       "      <td>600.0</td>\n",
       "      <td>182.0</td>\n",
       "      <td>58.0</td>\n",
       "      <td>300.0</td>\n",
       "      <td>NaN</td>\n",
       "      <td>NaN</td>\n",
       "      <td>163.0</td>\n",
       "      <td>NaN</td>\n",
       "    </tr>\n",
       "    <tr>\n",
       "      <th>30</th>\n",
       "      <td>Copper Mountain Resort</td>\n",
       "      <td>Colorado</td>\n",
       "      <td>Colorado</td>\n",
       "      <td>12313</td>\n",
       "      <td>2738</td>\n",
       "      <td>9712</td>\n",
       "      <td>1</td>\n",
       "      <td>0.0</td>\n",
       "      <td>2</td>\n",
       "      <td>4</td>\n",
       "      <td>...</td>\n",
       "      <td>1.7</td>\n",
       "      <td>2527.0</td>\n",
       "      <td>364.0</td>\n",
       "      <td>164.0</td>\n",
       "      <td>47.0</td>\n",
       "      <td>300.0</td>\n",
       "      <td>158.0</td>\n",
       "      <td>158.0</td>\n",
       "      <td>164.0</td>\n",
       "      <td>NaN</td>\n",
       "    </tr>\n",
       "    <tr>\n",
       "      <th>31</th>\n",
       "      <td>Crested Butte Mountain Resort</td>\n",
       "      <td>Colorado</td>\n",
       "      <td>Colorado</td>\n",
       "      <td>12162</td>\n",
       "      <td>3062</td>\n",
       "      <td>9375</td>\n",
       "      <td>0</td>\n",
       "      <td>0.0</td>\n",
       "      <td>0</td>\n",
       "      <td>4</td>\n",
       "      <td>...</td>\n",
       "      <td>2.6</td>\n",
       "      <td>1547.0</td>\n",
       "      <td>297.0</td>\n",
       "      <td>145.0</td>\n",
       "      <td>58.0</td>\n",
       "      <td>234.0</td>\n",
       "      <td>NaN</td>\n",
       "      <td>NaN</td>\n",
       "      <td>131.0</td>\n",
       "      <td>NaN</td>\n",
       "    </tr>\n",
       "    <tr>\n",
       "      <th>32</th>\n",
       "      <td>Purgatory</td>\n",
       "      <td>Colorado</td>\n",
       "      <td>Colorado</td>\n",
       "      <td>10822</td>\n",
       "      <td>2029</td>\n",
       "      <td>8793</td>\n",
       "      <td>0</td>\n",
       "      <td>0.0</td>\n",
       "      <td>1</td>\n",
       "      <td>2</td>\n",
       "      <td>...</td>\n",
       "      <td>1.3</td>\n",
       "      <td>1605.0</td>\n",
       "      <td>250.0</td>\n",
       "      <td>130.0</td>\n",
       "      <td>54.0</td>\n",
       "      <td>260.0</td>\n",
       "      <td>89.0</td>\n",
       "      <td>89.0</td>\n",
       "      <td>130.0</td>\n",
       "      <td>NaN</td>\n",
       "    </tr>\n",
       "    <tr>\n",
       "      <th>33</th>\n",
       "      <td>Eldora Mountain Resort</td>\n",
       "      <td>Colorado</td>\n",
       "      <td>Colorado</td>\n",
       "      <td>10600</td>\n",
       "      <td>1400</td>\n",
       "      <td>9200</td>\n",
       "      <td>0</td>\n",
       "      <td>0.0</td>\n",
       "      <td>1</td>\n",
       "      <td>0</td>\n",
       "      <td>...</td>\n",
       "      <td>3.0</td>\n",
       "      <td>680.0</td>\n",
       "      <td>680.0</td>\n",
       "      <td>147.0</td>\n",
       "      <td>57.0</td>\n",
       "      <td>311.0</td>\n",
       "      <td>NaN</td>\n",
       "      <td>NaN</td>\n",
       "      <td>150.0</td>\n",
       "      <td>NaN</td>\n",
       "    </tr>\n",
       "    <tr>\n",
       "      <th>34</th>\n",
       "      <td>Howelsen Hill</td>\n",
       "      <td>Colorado</td>\n",
       "      <td>Colorado</td>\n",
       "      <td>7136</td>\n",
       "      <td>440</td>\n",
       "      <td>6696</td>\n",
       "      <td>0</td>\n",
       "      <td>NaN</td>\n",
       "      <td>0</td>\n",
       "      <td>0</td>\n",
       "      <td>...</td>\n",
       "      <td>6.0</td>\n",
       "      <td>50.0</td>\n",
       "      <td>25.0</td>\n",
       "      <td>100.0</td>\n",
       "      <td>104.0</td>\n",
       "      <td>150.0</td>\n",
       "      <td>25.0</td>\n",
       "      <td>25.0</td>\n",
       "      <td>100.0</td>\n",
       "      <td>10.0</td>\n",
       "    </tr>\n",
       "    <tr>\n",
       "      <th>35</th>\n",
       "      <td>Keystone</td>\n",
       "      <td>Colorado</td>\n",
       "      <td>Colorado</td>\n",
       "      <td>12408</td>\n",
       "      <td>3128</td>\n",
       "      <td>9280</td>\n",
       "      <td>2</td>\n",
       "      <td>0.0</td>\n",
       "      <td>2</td>\n",
       "      <td>4</td>\n",
       "      <td>...</td>\n",
       "      <td>3.5</td>\n",
       "      <td>3148.0</td>\n",
       "      <td>662.0</td>\n",
       "      <td>184.0</td>\n",
       "      <td>49.0</td>\n",
       "      <td>235.0</td>\n",
       "      <td>NaN</td>\n",
       "      <td>NaN</td>\n",
       "      <td>NaN</td>\n",
       "      <td>288.0</td>\n",
       "    </tr>\n",
       "    <tr>\n",
       "      <th>36</th>\n",
       "      <td>Loveland</td>\n",
       "      <td>Colorado</td>\n",
       "      <td>Colorado</td>\n",
       "      <td>13010</td>\n",
       "      <td>2210</td>\n",
       "      <td>10800</td>\n",
       "      <td>0</td>\n",
       "      <td>0.0</td>\n",
       "      <td>0</td>\n",
       "      <td>1</td>\n",
       "      <td>...</td>\n",
       "      <td>2.0</td>\n",
       "      <td>1800.0</td>\n",
       "      <td>240.0</td>\n",
       "      <td>205.0</td>\n",
       "      <td>82.0</td>\n",
       "      <td>422.0</td>\n",
       "      <td>79.0</td>\n",
       "      <td>79.0</td>\n",
       "      <td>184.0</td>\n",
       "      <td>NaN</td>\n",
       "    </tr>\n",
       "    <tr>\n",
       "      <th>37</th>\n",
       "      <td>Monarch Mountain</td>\n",
       "      <td>Colorado</td>\n",
       "      <td>Colorado</td>\n",
       "      <td>11952</td>\n",
       "      <td>1162</td>\n",
       "      <td>10790</td>\n",
       "      <td>0</td>\n",
       "      <td>0.0</td>\n",
       "      <td>0</td>\n",
       "      <td>0</td>\n",
       "      <td>...</td>\n",
       "      <td>1.0</td>\n",
       "      <td>800.0</td>\n",
       "      <td>NaN</td>\n",
       "      <td>143.0</td>\n",
       "      <td>80.0</td>\n",
       "      <td>350.0</td>\n",
       "      <td>89.0</td>\n",
       "      <td>89.0</td>\n",
       "      <td>136.0</td>\n",
       "      <td>NaN</td>\n",
       "    </tr>\n",
       "    <tr>\n",
       "      <th>38</th>\n",
       "      <td>Powderhorn</td>\n",
       "      <td>Colorado</td>\n",
       "      <td>Colorado</td>\n",
       "      <td>9850</td>\n",
       "      <td>1650</td>\n",
       "      <td>8200</td>\n",
       "      <td>0</td>\n",
       "      <td>0.0</td>\n",
       "      <td>0</td>\n",
       "      <td>1</td>\n",
       "      <td>...</td>\n",
       "      <td>1.5</td>\n",
       "      <td>1600.0</td>\n",
       "      <td>42.0</td>\n",
       "      <td>111.0</td>\n",
       "      <td>53.0</td>\n",
       "      <td>250.0</td>\n",
       "      <td>71.0</td>\n",
       "      <td>71.0</td>\n",
       "      <td>110.0</td>\n",
       "      <td>NaN</td>\n",
       "    </tr>\n",
       "    <tr>\n",
       "      <th>39</th>\n",
       "      <td>Silverton Mountain</td>\n",
       "      <td>Colorado</td>\n",
       "      <td>Colorado</td>\n",
       "      <td>13487</td>\n",
       "      <td>3087</td>\n",
       "      <td>10400</td>\n",
       "      <td>0</td>\n",
       "      <td>0.0</td>\n",
       "      <td>0</td>\n",
       "      <td>0</td>\n",
       "      <td>...</td>\n",
       "      <td>1.5</td>\n",
       "      <td>26819.0</td>\n",
       "      <td>NaN</td>\n",
       "      <td>175.0</td>\n",
       "      <td>17.0</td>\n",
       "      <td>400.0</td>\n",
       "      <td>79.0</td>\n",
       "      <td>79.0</td>\n",
       "      <td>181.0</td>\n",
       "      <td>NaN</td>\n",
       "    </tr>\n",
       "  </tbody>\n",
       "</table>\n",
       "<p>40 rows × 27 columns</p>\n",
       "</div>"
      ],
      "text/plain": [
       "                             Name               Region       state  \\\n",
       "0                  Alyeska Resort               Alaska      Alaska   \n",
       "1             Eaglecrest Ski Area               Alaska      Alaska   \n",
       "2                Hilltop Ski Area               Alaska      Alaska   \n",
       "3                Arizona Snowbowl              Arizona     Arizona   \n",
       "4             Sunrise Park Resort              Arizona     Arizona   \n",
       "5   Yosemite Ski & Snowboard Area  Northern California  California   \n",
       "6                   Bear Mountain        Sierra Nevada  California   \n",
       "7                     Bear Valley        Sierra Nevada  California   \n",
       "8          Boreal Mountain Resort        Sierra Nevada  California   \n",
       "9                     Dodge Ridge        Sierra Nevada  California   \n",
       "10               Donner Ski Ranch        Sierra Nevada  California   \n",
       "11       Heavenly Mountain Resort        Sierra Nevada  California   \n",
       "12                  June Mountain        Sierra Nevada  California   \n",
       "13                       Kirkwood        Sierra Nevada  California   \n",
       "14      Mammoth Mountain Ski Area        Sierra Nevada  California   \n",
       "15            Mt. Shasta Ski Park        Sierra Nevada  California   \n",
       "16                  Mountain High        Sierra Nevada  California   \n",
       "17                      Mt. Baldy        Sierra Nevada  California   \n",
       "18           Northstar California        Sierra Nevada  California   \n",
       "19                Sierra-at-Tahoe        Sierra Nevada  California   \n",
       "20                 Ski China Peak        Sierra Nevada  California   \n",
       "21                    Snow Summit        Sierra Nevada  California   \n",
       "22                    Snow Valley        Sierra Nevada  California   \n",
       "23                   Soda Springs        Sierra Nevada  California   \n",
       "24              Sugar Bowl Resort        Sierra Nevada  California   \n",
       "25                   Tahoe Donner        Sierra Nevada  California   \n",
       "26        Arapahoe Basin Ski Area             Colorado    Colorado   \n",
       "27               Aspen / Snowmass             Colorado    Colorado   \n",
       "28                   Beaver Creek             Colorado    Colorado   \n",
       "29                   Breckenridge             Colorado    Colorado   \n",
       "30         Copper Mountain Resort             Colorado    Colorado   \n",
       "31  Crested Butte Mountain Resort             Colorado    Colorado   \n",
       "32                      Purgatory             Colorado    Colorado   \n",
       "33         Eldora Mountain Resort             Colorado    Colorado   \n",
       "34                  Howelsen Hill             Colorado    Colorado   \n",
       "35                       Keystone             Colorado    Colorado   \n",
       "36                       Loveland             Colorado    Colorado   \n",
       "37               Monarch Mountain             Colorado    Colorado   \n",
       "38                     Powderhorn             Colorado    Colorado   \n",
       "39             Silverton Mountain             Colorado    Colorado   \n",
       "\n",
       "    summit_elev  vertical_drop  base_elev  trams  fastEight  fastSixes  \\\n",
       "0          3939           2500        250      1        0.0          0   \n",
       "1          2600           1540       1200      0        0.0          0   \n",
       "2          2090            294       1796      0        0.0          0   \n",
       "3         11500           2300       9200      0        0.0          1   \n",
       "4         11100           1800       9200      0        NaN          0   \n",
       "5          7800            600       7200      0        0.0          0   \n",
       "6          8805           1665       7140      0        0.0          0   \n",
       "7          8500           1900       6600      0        0.0          1   \n",
       "8          7700            500       7200      0        0.0          0   \n",
       "9          8200           1600       6600      0        0.0          0   \n",
       "10         8012            750       7031      0        0.0          0   \n",
       "11        10067           3500       7170      2        0.0          2   \n",
       "12        10090           2590       7545      0        NaN          0   \n",
       "13         9800           2000       7800      0        0.0          0   \n",
       "14        11053           3100       7953      3        0.0          2   \n",
       "15         6890           1435       5500      0        NaN          0   \n",
       "16         8200           1600       6600      0        NaN          0   \n",
       "17         8600           2100       6500      0        NaN          0   \n",
       "18         8610           2280       6330      2        0.0          1   \n",
       "19         8852           2212       6640      0        NaN          0   \n",
       "20         8709           1679       7030      0        0.0          0   \n",
       "21         8200           1200       7000      0        0.0          0   \n",
       "22         7841           1041       6800      0        NaN          0   \n",
       "23         7352            652       6700      0        NaN          0   \n",
       "24         8383           1500       6883      1        0.0          0   \n",
       "25         7350            600       6750      0        0.0          0   \n",
       "26        13050           2530      10780      0        0.0          0   \n",
       "27        12510           4406       8104      3        0.0          1   \n",
       "28        11440           3340       8100      2        0.0          0   \n",
       "29        12998           3398       9600      1        0.0          5   \n",
       "30        12313           2738       9712      1        0.0          2   \n",
       "31        12162           3062       9375      0        0.0          0   \n",
       "32        10822           2029       8793      0        0.0          1   \n",
       "33        10600           1400       9200      0        0.0          1   \n",
       "34         7136            440       6696      0        NaN          0   \n",
       "35        12408           3128       9280      2        0.0          2   \n",
       "36        13010           2210      10800      0        0.0          0   \n",
       "37        11952           1162      10790      0        0.0          0   \n",
       "38         9850           1650       8200      0        0.0          0   \n",
       "39        13487           3087      10400      0        0.0          0   \n",
       "\n",
       "    fastQuads  ...  LongestRun_mi  SkiableTerrain_ac  Snow Making_ac  \\\n",
       "0           2  ...            1.0             1610.0           113.0   \n",
       "1           0  ...            2.0              640.0            60.0   \n",
       "2           0  ...            1.0               30.0            30.0   \n",
       "3           0  ...            2.0              777.0           104.0   \n",
       "4           1  ...            1.2              800.0            80.0   \n",
       "5           0  ...            0.4               88.0             NaN   \n",
       "6           2  ...            1.5              198.0           198.0   \n",
       "7           1  ...            1.2             1680.0           100.0   \n",
       "8           1  ...            1.0              380.0           200.0   \n",
       "9           0  ...            2.0              862.0             NaN   \n",
       "10          0  ...            1.5              505.0            60.0   \n",
       "11          7  ...            5.5             4800.0          3379.0   \n",
       "12          2  ...            2.0             1500.0             NaN   \n",
       "13          2  ...            2.5             2300.0           200.0   \n",
       "14          9  ...            3.0             3500.0           700.0   \n",
       "15          0  ...            1.1              425.0           225.0   \n",
       "16          2  ...            1.6              290.0           275.0   \n",
       "17          0  ...            2.5              400.0            80.0   \n",
       "18          7  ...            1.4             3170.0          1500.0   \n",
       "19          3  ...            2.5             2000.0           200.0   \n",
       "20          0  ...            2.2             1400.0           150.0   \n",
       "21          2  ...            1.2              240.0           240.0   \n",
       "22          0  ...            1.2              240.0           188.0   \n",
       "23          0  ...            0.4              200.0            20.0   \n",
       "24          5  ...            3.0             1650.0           375.0   \n",
       "25          0  ...            1.0              120.0             NaN   \n",
       "26          1  ...            1.5             1428.0           125.0   \n",
       "27         15  ...            5.3             5517.0           658.0   \n",
       "28         11  ...            2.8             1832.0           650.0   \n",
       "29          6  ...            3.5             2908.0           600.0   \n",
       "30          4  ...            1.7             2527.0           364.0   \n",
       "31          4  ...            2.6             1547.0           297.0   \n",
       "32          2  ...            1.3             1605.0           250.0   \n",
       "33          0  ...            3.0              680.0           680.0   \n",
       "34          0  ...            6.0               50.0            25.0   \n",
       "35          4  ...            3.5             3148.0           662.0   \n",
       "36          1  ...            2.0             1800.0           240.0   \n",
       "37          0  ...            1.0              800.0             NaN   \n",
       "38          1  ...            1.5             1600.0            42.0   \n",
       "39          0  ...            1.5            26819.0             NaN   \n",
       "\n",
       "    daysOpenLastYear  yearsOpen  averageSnowfall  AdultWeekday  AdultWeekend  \\\n",
       "0              150.0       60.0            669.0          65.0          85.0   \n",
       "1               45.0       44.0            350.0          47.0          53.0   \n",
       "2              150.0       36.0             69.0          30.0          34.0   \n",
       "3              122.0       81.0            260.0          89.0          89.0   \n",
       "4              115.0       49.0            250.0          74.0          78.0   \n",
       "5              110.0       84.0            300.0          47.0          47.0   \n",
       "6              122.0       76.0            100.0           NaN           NaN   \n",
       "7              165.0       52.0            359.0           NaN           NaN   \n",
       "8              150.0       54.0            400.0          49.0           NaN   \n",
       "9                NaN       69.0            350.0          78.0          78.0   \n",
       "10             163.0       82.0            400.0          75.0          75.0   \n",
       "11             155.0       64.0            360.0           NaN           NaN   \n",
       "12               NaN       58.0            250.0           NaN           NaN   \n",
       "13             200.0       47.0            354.0           NaN           NaN   \n",
       "14             243.0       66.0            400.0         149.0         159.0   \n",
       "15             140.0       34.0            300.0          49.0          59.0   \n",
       "16             118.0       95.0            108.0          84.0          84.0   \n",
       "17             175.0       67.0            178.0          69.0          69.0   \n",
       "18             135.0       47.0            350.0           NaN           NaN   \n",
       "19             160.0       73.0            460.0          99.0           NaN   \n",
       "20             140.0       62.0            300.0          83.0          83.0   \n",
       "21               NaN       67.0            100.0           NaN           NaN   \n",
       "22             111.0       82.0            160.0          69.0          79.0   \n",
       "23             150.0       83.0            400.0          50.0          50.0   \n",
       "24             151.0       80.0            500.0         125.0         125.0   \n",
       "25             150.0       48.0            400.0          69.0          69.0   \n",
       "26             230.0       73.0            350.0          85.0          85.0   \n",
       "27             138.0       72.0            300.0         179.0         179.0   \n",
       "28             145.0       39.0            323.0           NaN           NaN   \n",
       "29             182.0       58.0            300.0           NaN           NaN   \n",
       "30             164.0       47.0            300.0         158.0         158.0   \n",
       "31             145.0       58.0            234.0           NaN           NaN   \n",
       "32             130.0       54.0            260.0          89.0          89.0   \n",
       "33             147.0       57.0            311.0           NaN           NaN   \n",
       "34             100.0      104.0            150.0          25.0          25.0   \n",
       "35             184.0       49.0            235.0           NaN           NaN   \n",
       "36             205.0       82.0            422.0          79.0          79.0   \n",
       "37             143.0       80.0            350.0          89.0          89.0   \n",
       "38             111.0       53.0            250.0          71.0          71.0   \n",
       "39             175.0       17.0            400.0          79.0          79.0   \n",
       "\n",
       "    projectedDaysOpen  NightSkiing_ac  \n",
       "0               150.0           550.0  \n",
       "1                90.0             NaN  \n",
       "2               152.0            30.0  \n",
       "3               122.0             NaN  \n",
       "4               104.0            80.0  \n",
       "5               107.0             NaN  \n",
       "6               130.0             NaN  \n",
       "7               151.0             NaN  \n",
       "8               150.0           200.0  \n",
       "9               140.0             NaN  \n",
       "10              170.0             NaN  \n",
       "11              157.0             NaN  \n",
       "12              128.0             NaN  \n",
       "13              167.0             NaN  \n",
       "14                NaN             NaN  \n",
       "15              130.0             NaN  \n",
       "16              150.0            73.0  \n",
       "17              200.0             NaN  \n",
       "18              150.0             NaN  \n",
       "19              144.0             NaN  \n",
       "20              144.0             NaN  \n",
       "21              130.0           150.0  \n",
       "22              143.0           164.0  \n",
       "23              144.0             NaN  \n",
       "24              150.0             NaN  \n",
       "25              144.0             NaN  \n",
       "26              233.0             NaN  \n",
       "27              138.0             NaN  \n",
       "28              138.0             NaN  \n",
       "29              163.0             NaN  \n",
       "30              164.0             NaN  \n",
       "31              131.0             NaN  \n",
       "32              130.0             NaN  \n",
       "33              150.0             NaN  \n",
       "34              100.0            10.0  \n",
       "35                NaN           288.0  \n",
       "36              184.0             NaN  \n",
       "37              136.0             NaN  \n",
       "38              110.0             NaN  \n",
       "39              181.0             NaN  \n",
       "\n",
       "[40 rows x 27 columns]"
      ]
     },
     "execution_count": 4,
     "metadata": {},
     "output_type": "execute_result"
    }
   ],
   "source": [
    "#Code task 3#\n",
    "#Call the head method on ski_data to print the first several rows of the data\n",
    "ski_data.head(40)"
   ]
  },
  {
   "cell_type": "markdown",
   "metadata": {},
   "source": [
    "The output above suggests you've made a good start getting the ski resort data organized. You have plausible column headings. You can already see you have a missing value in the `fastEight` column"
   ]
  },
  {
   "cell_type": "markdown",
   "metadata": {},
   "source": [
    "## 2.6 Explore The Data<a id='2.6_Explore_The_Data'></a>"
   ]
  },
  {
   "cell_type": "markdown",
   "metadata": {},
   "source": [
    "### 2.6.1 Find Your Resort Of Interest<a id='2.6.1_Find_Your_Resort_Of_Interest'></a>"
   ]
  },
  {
   "cell_type": "markdown",
   "metadata": {},
   "source": [
    "Your resort of interest is called Big Mountain Resort. Check it's in the data:"
   ]
  },
  {
   "cell_type": "code",
   "execution_count": 5,
   "metadata": {},
   "outputs": [
    {
     "data": {
      "text/html": [
       "<div>\n",
       "<style scoped>\n",
       "    .dataframe tbody tr th:only-of-type {\n",
       "        vertical-align: middle;\n",
       "    }\n",
       "\n",
       "    .dataframe tbody tr th {\n",
       "        vertical-align: top;\n",
       "    }\n",
       "\n",
       "    .dataframe thead th {\n",
       "        text-align: right;\n",
       "    }\n",
       "</style>\n",
       "<table border=\"1\" class=\"dataframe\">\n",
       "  <thead>\n",
       "    <tr style=\"text-align: right;\">\n",
       "      <th></th>\n",
       "      <th>151</th>\n",
       "    </tr>\n",
       "  </thead>\n",
       "  <tbody>\n",
       "    <tr>\n",
       "      <th>Name</th>\n",
       "      <td>Big Mountain Resort</td>\n",
       "    </tr>\n",
       "    <tr>\n",
       "      <th>Region</th>\n",
       "      <td>Montana</td>\n",
       "    </tr>\n",
       "    <tr>\n",
       "      <th>state</th>\n",
       "      <td>Montana</td>\n",
       "    </tr>\n",
       "    <tr>\n",
       "      <th>summit_elev</th>\n",
       "      <td>6817</td>\n",
       "    </tr>\n",
       "    <tr>\n",
       "      <th>vertical_drop</th>\n",
       "      <td>2353</td>\n",
       "    </tr>\n",
       "    <tr>\n",
       "      <th>base_elev</th>\n",
       "      <td>4464</td>\n",
       "    </tr>\n",
       "    <tr>\n",
       "      <th>trams</th>\n",
       "      <td>0</td>\n",
       "    </tr>\n",
       "    <tr>\n",
       "      <th>fastEight</th>\n",
       "      <td>0.0</td>\n",
       "    </tr>\n",
       "    <tr>\n",
       "      <th>fastSixes</th>\n",
       "      <td>0</td>\n",
       "    </tr>\n",
       "    <tr>\n",
       "      <th>fastQuads</th>\n",
       "      <td>3</td>\n",
       "    </tr>\n",
       "    <tr>\n",
       "      <th>quad</th>\n",
       "      <td>2</td>\n",
       "    </tr>\n",
       "    <tr>\n",
       "      <th>triple</th>\n",
       "      <td>6</td>\n",
       "    </tr>\n",
       "    <tr>\n",
       "      <th>double</th>\n",
       "      <td>0</td>\n",
       "    </tr>\n",
       "    <tr>\n",
       "      <th>surface</th>\n",
       "      <td>3</td>\n",
       "    </tr>\n",
       "    <tr>\n",
       "      <th>total_chairs</th>\n",
       "      <td>14</td>\n",
       "    </tr>\n",
       "    <tr>\n",
       "      <th>Runs</th>\n",
       "      <td>105.0</td>\n",
       "    </tr>\n",
       "    <tr>\n",
       "      <th>TerrainParks</th>\n",
       "      <td>4.0</td>\n",
       "    </tr>\n",
       "    <tr>\n",
       "      <th>LongestRun_mi</th>\n",
       "      <td>3.3</td>\n",
       "    </tr>\n",
       "    <tr>\n",
       "      <th>SkiableTerrain_ac</th>\n",
       "      <td>3000.0</td>\n",
       "    </tr>\n",
       "    <tr>\n",
       "      <th>Snow Making_ac</th>\n",
       "      <td>600.0</td>\n",
       "    </tr>\n",
       "    <tr>\n",
       "      <th>daysOpenLastYear</th>\n",
       "      <td>123.0</td>\n",
       "    </tr>\n",
       "    <tr>\n",
       "      <th>yearsOpen</th>\n",
       "      <td>72.0</td>\n",
       "    </tr>\n",
       "    <tr>\n",
       "      <th>averageSnowfall</th>\n",
       "      <td>333.0</td>\n",
       "    </tr>\n",
       "    <tr>\n",
       "      <th>AdultWeekday</th>\n",
       "      <td>81.0</td>\n",
       "    </tr>\n",
       "    <tr>\n",
       "      <th>AdultWeekend</th>\n",
       "      <td>81.0</td>\n",
       "    </tr>\n",
       "    <tr>\n",
       "      <th>projectedDaysOpen</th>\n",
       "      <td>123.0</td>\n",
       "    </tr>\n",
       "    <tr>\n",
       "      <th>NightSkiing_ac</th>\n",
       "      <td>600.0</td>\n",
       "    </tr>\n",
       "  </tbody>\n",
       "</table>\n",
       "</div>"
      ],
      "text/plain": [
       "                                   151\n",
       "Name               Big Mountain Resort\n",
       "Region                         Montana\n",
       "state                          Montana\n",
       "summit_elev                       6817\n",
       "vertical_drop                     2353\n",
       "base_elev                         4464\n",
       "trams                                0\n",
       "fastEight                          0.0\n",
       "fastSixes                            0\n",
       "fastQuads                            3\n",
       "quad                                 2\n",
       "triple                               6\n",
       "double                               0\n",
       "surface                              3\n",
       "total_chairs                        14\n",
       "Runs                             105.0\n",
       "TerrainParks                       4.0\n",
       "LongestRun_mi                      3.3\n",
       "SkiableTerrain_ac               3000.0\n",
       "Snow Making_ac                   600.0\n",
       "daysOpenLastYear                 123.0\n",
       "yearsOpen                         72.0\n",
       "averageSnowfall                  333.0\n",
       "AdultWeekday                      81.0\n",
       "AdultWeekend                      81.0\n",
       "projectedDaysOpen                123.0\n",
       "NightSkiing_ac                   600.0"
      ]
     },
     "execution_count": 5,
     "metadata": {},
     "output_type": "execute_result"
    }
   ],
   "source": [
    "#Code task 4#\n",
    "#Filter the ski_data dataframe to display just the row for our resort with the name 'Big Mountain Resort'\n",
    "#Hint: you will find that the transpose of the row will give a nicer output. DataFrame's do have a\n",
    "#transpose method, but you can access this conveniently with the `T` property.\n",
    "ski_data[ski_data.Name == 'Big Mountain Resort'].transpose()"
   ]
  },
  {
   "cell_type": "markdown",
   "metadata": {},
   "source": [
    "It's good that your resort doesn't appear to have any missing values."
   ]
  },
  {
   "cell_type": "markdown",
   "metadata": {},
   "source": [
    "### 2.6.2 Number Of Missing Values By Column<a id='2.6.2_Number_Of_Missing_Values_By_Column'></a>"
   ]
  },
  {
   "cell_type": "markdown",
   "metadata": {},
   "source": [
    "Count the number of missing values in each column and sort them."
   ]
  },
  {
   "cell_type": "code",
   "execution_count": 6,
   "metadata": {
    "scrolled": true
   },
   "outputs": [
    {
     "data": {
      "text/html": [
       "<div>\n",
       "<style scoped>\n",
       "    .dataframe tbody tr th:only-of-type {\n",
       "        vertical-align: middle;\n",
       "    }\n",
       "\n",
       "    .dataframe tbody tr th {\n",
       "        vertical-align: top;\n",
       "    }\n",
       "\n",
       "    .dataframe thead th {\n",
       "        text-align: right;\n",
       "    }\n",
       "</style>\n",
       "<table border=\"1\" class=\"dataframe\">\n",
       "  <thead>\n",
       "    <tr style=\"text-align: right;\">\n",
       "      <th></th>\n",
       "      <th>count</th>\n",
       "      <th>%</th>\n",
       "    </tr>\n",
       "  </thead>\n",
       "  <tbody>\n",
       "    <tr>\n",
       "      <th>fastEight</th>\n",
       "      <td>166</td>\n",
       "      <td>50.303030</td>\n",
       "    </tr>\n",
       "    <tr>\n",
       "      <th>NightSkiing_ac</th>\n",
       "      <td>143</td>\n",
       "      <td>43.333333</td>\n",
       "    </tr>\n",
       "    <tr>\n",
       "      <th>AdultWeekday</th>\n",
       "      <td>54</td>\n",
       "      <td>16.363636</td>\n",
       "    </tr>\n",
       "    <tr>\n",
       "      <th>AdultWeekend</th>\n",
       "      <td>51</td>\n",
       "      <td>15.454545</td>\n",
       "    </tr>\n",
       "    <tr>\n",
       "      <th>daysOpenLastYear</th>\n",
       "      <td>51</td>\n",
       "      <td>15.454545</td>\n",
       "    </tr>\n",
       "    <tr>\n",
       "      <th>TerrainParks</th>\n",
       "      <td>51</td>\n",
       "      <td>15.454545</td>\n",
       "    </tr>\n",
       "    <tr>\n",
       "      <th>projectedDaysOpen</th>\n",
       "      <td>47</td>\n",
       "      <td>14.242424</td>\n",
       "    </tr>\n",
       "    <tr>\n",
       "      <th>Snow Making_ac</th>\n",
       "      <td>46</td>\n",
       "      <td>13.939394</td>\n",
       "    </tr>\n",
       "    <tr>\n",
       "      <th>averageSnowfall</th>\n",
       "      <td>14</td>\n",
       "      <td>4.242424</td>\n",
       "    </tr>\n",
       "    <tr>\n",
       "      <th>LongestRun_mi</th>\n",
       "      <td>5</td>\n",
       "      <td>1.515152</td>\n",
       "    </tr>\n",
       "    <tr>\n",
       "      <th>Runs</th>\n",
       "      <td>4</td>\n",
       "      <td>1.212121</td>\n",
       "    </tr>\n",
       "    <tr>\n",
       "      <th>SkiableTerrain_ac</th>\n",
       "      <td>3</td>\n",
       "      <td>0.909091</td>\n",
       "    </tr>\n",
       "    <tr>\n",
       "      <th>yearsOpen</th>\n",
       "      <td>1</td>\n",
       "      <td>0.303030</td>\n",
       "    </tr>\n",
       "    <tr>\n",
       "      <th>total_chairs</th>\n",
       "      <td>0</td>\n",
       "      <td>0.000000</td>\n",
       "    </tr>\n",
       "    <tr>\n",
       "      <th>Name</th>\n",
       "      <td>0</td>\n",
       "      <td>0.000000</td>\n",
       "    </tr>\n",
       "    <tr>\n",
       "      <th>Region</th>\n",
       "      <td>0</td>\n",
       "      <td>0.000000</td>\n",
       "    </tr>\n",
       "    <tr>\n",
       "      <th>double</th>\n",
       "      <td>0</td>\n",
       "      <td>0.000000</td>\n",
       "    </tr>\n",
       "    <tr>\n",
       "      <th>triple</th>\n",
       "      <td>0</td>\n",
       "      <td>0.000000</td>\n",
       "    </tr>\n",
       "    <tr>\n",
       "      <th>quad</th>\n",
       "      <td>0</td>\n",
       "      <td>0.000000</td>\n",
       "    </tr>\n",
       "    <tr>\n",
       "      <th>fastQuads</th>\n",
       "      <td>0</td>\n",
       "      <td>0.000000</td>\n",
       "    </tr>\n",
       "    <tr>\n",
       "      <th>fastSixes</th>\n",
       "      <td>0</td>\n",
       "      <td>0.000000</td>\n",
       "    </tr>\n",
       "    <tr>\n",
       "      <th>trams</th>\n",
       "      <td>0</td>\n",
       "      <td>0.000000</td>\n",
       "    </tr>\n",
       "    <tr>\n",
       "      <th>base_elev</th>\n",
       "      <td>0</td>\n",
       "      <td>0.000000</td>\n",
       "    </tr>\n",
       "    <tr>\n",
       "      <th>vertical_drop</th>\n",
       "      <td>0</td>\n",
       "      <td>0.000000</td>\n",
       "    </tr>\n",
       "    <tr>\n",
       "      <th>summit_elev</th>\n",
       "      <td>0</td>\n",
       "      <td>0.000000</td>\n",
       "    </tr>\n",
       "    <tr>\n",
       "      <th>state</th>\n",
       "      <td>0</td>\n",
       "      <td>0.000000</td>\n",
       "    </tr>\n",
       "    <tr>\n",
       "      <th>surface</th>\n",
       "      <td>0</td>\n",
       "      <td>0.000000</td>\n",
       "    </tr>\n",
       "  </tbody>\n",
       "</table>\n",
       "</div>"
      ],
      "text/plain": [
       "                   count          %\n",
       "fastEight            166  50.303030\n",
       "NightSkiing_ac       143  43.333333\n",
       "AdultWeekday          54  16.363636\n",
       "AdultWeekend          51  15.454545\n",
       "daysOpenLastYear      51  15.454545\n",
       "TerrainParks          51  15.454545\n",
       "projectedDaysOpen     47  14.242424\n",
       "Snow Making_ac        46  13.939394\n",
       "averageSnowfall       14   4.242424\n",
       "LongestRun_mi          5   1.515152\n",
       "Runs                   4   1.212121\n",
       "SkiableTerrain_ac      3   0.909091\n",
       "yearsOpen              1   0.303030\n",
       "total_chairs           0   0.000000\n",
       "Name                   0   0.000000\n",
       "Region                 0   0.000000\n",
       "double                 0   0.000000\n",
       "triple                 0   0.000000\n",
       "quad                   0   0.000000\n",
       "fastQuads              0   0.000000\n",
       "fastSixes              0   0.000000\n",
       "trams                  0   0.000000\n",
       "base_elev              0   0.000000\n",
       "vertical_drop          0   0.000000\n",
       "summit_elev            0   0.000000\n",
       "state                  0   0.000000\n",
       "surface                0   0.000000"
      ]
     },
     "execution_count": 6,
     "metadata": {},
     "output_type": "execute_result"
    }
   ],
   "source": [
    "#Code task 5#\n",
    "#Count (using `.sum()`) the number of missing values (`.isnull()`) in each column of \n",
    "#ski_data as well as the percentages (using `.mean()` instead of `.sum()`).\n",
    "#Order them (increasing or decreasing) using sort_values\n",
    "#Call `pd.concat` to present these in a single table (DataFrame) with the helpful column names 'count' and '%'\n",
    "missing = pd.concat([ski_data.isnull().sum(), 100 * ski_data.isnull().mean()], axis=1)\n",
    "missing.columns=['count', '%']\n",
    "missing.sort_values(by='count',ascending=False)"
   ]
  },
  {
   "cell_type": "markdown",
   "metadata": {},
   "source": [
    "`fastEight` has the most missing values, at just over 50%. Unfortunately, you see you're also missing quite a few of your desired target quantity, the ticket price, which is missing 15-16% of values. `AdultWeekday` is missing in a few more records than `AdultWeekend`. What overlap is there in these missing values? This is a question you'll want to investigate. You should also point out that `isnull()` is not the only indicator of missing data. Sometimes 'missingness' can be encoded, perhaps by a -1 or 999. Such values are typically chosen because they are \"obviously\" not genuine values. If you were capturing data on people's heights and weights but missing someone's height, you could certainly encode that as a 0 because no one has a height of zero (in any units). Yet such entries would not be revealed by `isnull()`. Here, you need a data dictionary and/or to spot such values as part of looking for outliers. Someone with a height of zero should definitely show up as an outlier!"
   ]
  },
  {
   "cell_type": "markdown",
   "metadata": {},
   "source": [
    "### 2.6.3 Categorical Features<a id='2.6.3_Categorical_Features'></a>"
   ]
  },
  {
   "cell_type": "markdown",
   "metadata": {},
   "source": [
    "So far you've examined only the numeric features. Now you inspect categorical ones such as resort name and state. These are discrete entities. 'Alaska' is a name. Although names can be sorted alphabetically, it makes no sense to take the average of 'Alaska' and 'Arizona'. Similarly, 'Alaska' is before 'Arizona' only lexicographically; it is neither 'less than' nor 'greater than' 'Arizona'. As such, they tend to require different handling than strictly numeric quantities. Note, a feature _can_ be numeric but also categorical. For example, instead of giving the number of `fastEight` lifts, a feature might be `has_fastEights` and have the value 0 or 1 to denote absence or presence of such a lift. In such a case it would not make sense to take an average of this or perform other mathematical calculations on it. Although you digress a little to make a point, month numbers are also, strictly speaking, categorical features. Yes, when a month is represented by its number (1 for January, 2 for Februrary etc.) it provides a convenient way to graph trends over a year. And, arguably, there is some logical interpretation of the average of 1 and 3 (January and March) being 2 (February). However, clearly December of one years precedes January of the next and yet 12 as a number is not less than 1. The numeric quantities in the section above are truly numeric; they are the number of feet in the drop, or acres or years open or the amount of snowfall etc."
   ]
  },
  {
   "cell_type": "code",
   "execution_count": 7,
   "metadata": {},
   "outputs": [
    {
     "data": {
      "text/html": [
       "<div>\n",
       "<style scoped>\n",
       "    .dataframe tbody tr th:only-of-type {\n",
       "        vertical-align: middle;\n",
       "    }\n",
       "\n",
       "    .dataframe tbody tr th {\n",
       "        vertical-align: top;\n",
       "    }\n",
       "\n",
       "    .dataframe thead th {\n",
       "        text-align: right;\n",
       "    }\n",
       "</style>\n",
       "<table border=\"1\" class=\"dataframe\">\n",
       "  <thead>\n",
       "    <tr style=\"text-align: right;\">\n",
       "      <th></th>\n",
       "      <th>Name</th>\n",
       "      <th>Region</th>\n",
       "      <th>state</th>\n",
       "    </tr>\n",
       "  </thead>\n",
       "  <tbody>\n",
       "    <tr>\n",
       "      <th>0</th>\n",
       "      <td>Alyeska Resort</td>\n",
       "      <td>Alaska</td>\n",
       "      <td>Alaska</td>\n",
       "    </tr>\n",
       "    <tr>\n",
       "      <th>1</th>\n",
       "      <td>Eaglecrest Ski Area</td>\n",
       "      <td>Alaska</td>\n",
       "      <td>Alaska</td>\n",
       "    </tr>\n",
       "    <tr>\n",
       "      <th>2</th>\n",
       "      <td>Hilltop Ski Area</td>\n",
       "      <td>Alaska</td>\n",
       "      <td>Alaska</td>\n",
       "    </tr>\n",
       "    <tr>\n",
       "      <th>3</th>\n",
       "      <td>Arizona Snowbowl</td>\n",
       "      <td>Arizona</td>\n",
       "      <td>Arizona</td>\n",
       "    </tr>\n",
       "    <tr>\n",
       "      <th>4</th>\n",
       "      <td>Sunrise Park Resort</td>\n",
       "      <td>Arizona</td>\n",
       "      <td>Arizona</td>\n",
       "    </tr>\n",
       "    <tr>\n",
       "      <th>...</th>\n",
       "      <td>...</td>\n",
       "      <td>...</td>\n",
       "      <td>...</td>\n",
       "    </tr>\n",
       "    <tr>\n",
       "      <th>325</th>\n",
       "      <td>Meadowlark Ski Lodge</td>\n",
       "      <td>Wyoming</td>\n",
       "      <td>Wyoming</td>\n",
       "    </tr>\n",
       "    <tr>\n",
       "      <th>326</th>\n",
       "      <td>Sleeping Giant Ski Resort</td>\n",
       "      <td>Wyoming</td>\n",
       "      <td>Wyoming</td>\n",
       "    </tr>\n",
       "    <tr>\n",
       "      <th>327</th>\n",
       "      <td>Snow King Resort</td>\n",
       "      <td>Wyoming</td>\n",
       "      <td>Wyoming</td>\n",
       "    </tr>\n",
       "    <tr>\n",
       "      <th>328</th>\n",
       "      <td>Snowy Range Ski &amp; Recreation Area</td>\n",
       "      <td>Wyoming</td>\n",
       "      <td>Wyoming</td>\n",
       "    </tr>\n",
       "    <tr>\n",
       "      <th>329</th>\n",
       "      <td>White Pine Ski Area</td>\n",
       "      <td>Wyoming</td>\n",
       "      <td>Wyoming</td>\n",
       "    </tr>\n",
       "  </tbody>\n",
       "</table>\n",
       "<p>330 rows × 3 columns</p>\n",
       "</div>"
      ],
      "text/plain": [
       "                                  Name   Region    state\n",
       "0                       Alyeska Resort   Alaska   Alaska\n",
       "1                  Eaglecrest Ski Area   Alaska   Alaska\n",
       "2                     Hilltop Ski Area   Alaska   Alaska\n",
       "3                     Arizona Snowbowl  Arizona  Arizona\n",
       "4                  Sunrise Park Resort  Arizona  Arizona\n",
       "..                                 ...      ...      ...\n",
       "325               Meadowlark Ski Lodge  Wyoming  Wyoming\n",
       "326          Sleeping Giant Ski Resort  Wyoming  Wyoming\n",
       "327                   Snow King Resort  Wyoming  Wyoming\n",
       "328  Snowy Range Ski & Recreation Area  Wyoming  Wyoming\n",
       "329                White Pine Ski Area  Wyoming  Wyoming\n",
       "\n",
       "[330 rows x 3 columns]"
      ]
     },
     "execution_count": 7,
     "metadata": {},
     "output_type": "execute_result"
    }
   ],
   "source": [
    "#Code task 6#\n",
    "#Use ski_data's `select_dtypes` method to select columns of dtype 'object'\n",
    "ski_data.select_dtypes('object')"
   ]
  },
  {
   "cell_type": "markdown",
   "metadata": {},
   "source": [
    "You saw earlier on that these three columns had no missing values. But are there any other issues with these columns? Sensible questions to ask here include:\n",
    "\n",
    "* Is `Name` (or at least a combination of Name/Region/State) unique?\n",
    "* Is `Region` always the same as `state`?"
   ]
  },
  {
   "cell_type": "markdown",
   "metadata": {},
   "source": [
    "#### 2.6.3.1 Unique Resort Names<a id='2.6.3.1_Unique_Resort_Names'></a>"
   ]
  },
  {
   "cell_type": "code",
   "execution_count": 8,
   "metadata": {},
   "outputs": [
    {
     "data": {
      "text/plain": [
       "Crystal Mountain                 2\n",
       "Willamette Pass                  1\n",
       "Crested Butte Mountain Resort    1\n",
       "Big Sky Resort                   1\n",
       "Ski Sundown                      1\n",
       "Name: Name, dtype: int64"
      ]
     },
     "execution_count": 8,
     "metadata": {},
     "output_type": "execute_result"
    }
   ],
   "source": [
    "#Code task 7#\n",
    "#Use pandas' Series method `value_counts` to find any duplicated resort names\n",
    "ski_data['Name'].value_counts().head()"
   ]
  },
  {
   "cell_type": "markdown",
   "metadata": {},
   "source": [
    "You have a duplicated resort name: Crystal Mountain."
   ]
  },
  {
   "cell_type": "markdown",
   "metadata": {},
   "source": [
    "**Q: 1** Is this resort duplicated if you take into account Region and/or state as well?"
   ]
  },
  {
   "cell_type": "code",
   "execution_count": 9,
   "metadata": {},
   "outputs": [
    {
     "data": {
      "text/plain": [
       "Boreal Mountain Resort, Sierra Nevada    1\n",
       "Red River, New Mexico                    1\n",
       "Whaleback Mountain, New Hampshire        1\n",
       "Lee Canyon, Nevada                       1\n",
       "Boyne Mountain Resort, Michigan          1\n",
       "dtype: int64"
      ]
     },
     "execution_count": 9,
     "metadata": {},
     "output_type": "execute_result"
    }
   ],
   "source": [
    "#Code task 8#\n",
    "#Concatenate the string columns 'Name' and 'Region' and count the values again (as above)\n",
    "(ski_data['Name'] + ', ' + ski_data['Region']).value_counts().head()"
   ]
  },
  {
   "cell_type": "code",
   "execution_count": 10,
   "metadata": {},
   "outputs": [
    {
     "data": {
      "text/plain": [
       "Nordic Mountain, Wisconsin                 1\n",
       "Wolf Creek Ski Area, Colorado              1\n",
       "Arizona Snowbowl, Arizona                  1\n",
       "Shawnee Mountain Ski Area, Pennsylvania    1\n",
       "Bromley Mountain, Vermont                  1\n",
       "dtype: int64"
      ]
     },
     "execution_count": 10,
     "metadata": {},
     "output_type": "execute_result"
    }
   ],
   "source": [
    "#Code task 9#\n",
    "#Concatenate 'Name' and 'state' and count the values again (as above)\n",
    "(ski_data['Name'] + ', ' + ski_data['state']).value_counts().head()"
   ]
  },
  {
   "cell_type": "code",
   "execution_count": 11,
   "metadata": {},
   "outputs": [
    {
     "ename": "SyntaxError",
     "evalue": "invalid syntax (<ipython-input-11-8a6568d3dafb>, line 1)",
     "output_type": "error",
     "traceback": [
      "\u001b[1;36m  File \u001b[1;32m\"<ipython-input-11-8a6568d3dafb>\"\u001b[1;36m, line \u001b[1;32m1\u001b[0m\n\u001b[1;33m    **NB** because you know `value_counts()` sorts descending, you can use the `head()` method and know the rest of the counts must be 1.\u001b[0m\n\u001b[1;37m    ^\u001b[0m\n\u001b[1;31mSyntaxError\u001b[0m\u001b[1;31m:\u001b[0m invalid syntax\n"
     ]
    }
   ],
   "source": [
    "**NB** because you know `value_counts()` sorts descending, you can use the `head()` method and know the rest of the counts must be 1."
   ]
  },
  {
   "cell_type": "markdown",
   "metadata": {},
   "source": [
    "**A: 1** Your answer here"
   ]
  },
  {
   "cell_type": "code",
   "execution_count": 12,
   "metadata": {},
   "outputs": [
    {
     "data": {
      "text/html": [
       "<div>\n",
       "<style scoped>\n",
       "    .dataframe tbody tr th:only-of-type {\n",
       "        vertical-align: middle;\n",
       "    }\n",
       "\n",
       "    .dataframe tbody tr th {\n",
       "        vertical-align: top;\n",
       "    }\n",
       "\n",
       "    .dataframe thead th {\n",
       "        text-align: right;\n",
       "    }\n",
       "</style>\n",
       "<table border=\"1\" class=\"dataframe\">\n",
       "  <thead>\n",
       "    <tr style=\"text-align: right;\">\n",
       "      <th></th>\n",
       "      <th>Name</th>\n",
       "      <th>Region</th>\n",
       "      <th>state</th>\n",
       "      <th>summit_elev</th>\n",
       "      <th>vertical_drop</th>\n",
       "      <th>base_elev</th>\n",
       "      <th>trams</th>\n",
       "      <th>fastEight</th>\n",
       "      <th>fastSixes</th>\n",
       "      <th>fastQuads</th>\n",
       "      <th>...</th>\n",
       "      <th>LongestRun_mi</th>\n",
       "      <th>SkiableTerrain_ac</th>\n",
       "      <th>Snow Making_ac</th>\n",
       "      <th>daysOpenLastYear</th>\n",
       "      <th>yearsOpen</th>\n",
       "      <th>averageSnowfall</th>\n",
       "      <th>AdultWeekday</th>\n",
       "      <th>AdultWeekend</th>\n",
       "      <th>projectedDaysOpen</th>\n",
       "      <th>NightSkiing_ac</th>\n",
       "    </tr>\n",
       "  </thead>\n",
       "  <tbody>\n",
       "    <tr>\n",
       "      <th>104</th>\n",
       "      <td>Crystal Mountain</td>\n",
       "      <td>Michigan</td>\n",
       "      <td>Michigan</td>\n",
       "      <td>1132</td>\n",
       "      <td>375</td>\n",
       "      <td>757</td>\n",
       "      <td>0</td>\n",
       "      <td>0.0</td>\n",
       "      <td>0</td>\n",
       "      <td>1</td>\n",
       "      <td>...</td>\n",
       "      <td>0.3</td>\n",
       "      <td>102.0</td>\n",
       "      <td>96.0</td>\n",
       "      <td>120.0</td>\n",
       "      <td>63.0</td>\n",
       "      <td>132.0</td>\n",
       "      <td>54.0</td>\n",
       "      <td>64.0</td>\n",
       "      <td>135.0</td>\n",
       "      <td>56.0</td>\n",
       "    </tr>\n",
       "    <tr>\n",
       "      <th>295</th>\n",
       "      <td>Crystal Mountain</td>\n",
       "      <td>Washington</td>\n",
       "      <td>Washington</td>\n",
       "      <td>7012</td>\n",
       "      <td>3100</td>\n",
       "      <td>4400</td>\n",
       "      <td>1</td>\n",
       "      <td>NaN</td>\n",
       "      <td>2</td>\n",
       "      <td>2</td>\n",
       "      <td>...</td>\n",
       "      <td>2.5</td>\n",
       "      <td>2600.0</td>\n",
       "      <td>10.0</td>\n",
       "      <td>NaN</td>\n",
       "      <td>57.0</td>\n",
       "      <td>486.0</td>\n",
       "      <td>99.0</td>\n",
       "      <td>99.0</td>\n",
       "      <td>NaN</td>\n",
       "      <td>NaN</td>\n",
       "    </tr>\n",
       "  </tbody>\n",
       "</table>\n",
       "<p>2 rows × 27 columns</p>\n",
       "</div>"
      ],
      "text/plain": [
       "                 Name      Region       state  summit_elev  vertical_drop  \\\n",
       "104  Crystal Mountain    Michigan    Michigan         1132            375   \n",
       "295  Crystal Mountain  Washington  Washington         7012           3100   \n",
       "\n",
       "     base_elev  trams  fastEight  fastSixes  fastQuads  ...  LongestRun_mi  \\\n",
       "104        757      0        0.0          0          1  ...            0.3   \n",
       "295       4400      1        NaN          2          2  ...            2.5   \n",
       "\n",
       "     SkiableTerrain_ac  Snow Making_ac  daysOpenLastYear  yearsOpen  \\\n",
       "104              102.0            96.0             120.0       63.0   \n",
       "295             2600.0            10.0               NaN       57.0   \n",
       "\n",
       "     averageSnowfall  AdultWeekday  AdultWeekend  projectedDaysOpen  \\\n",
       "104            132.0          54.0          64.0              135.0   \n",
       "295            486.0          99.0          99.0                NaN   \n",
       "\n",
       "     NightSkiing_ac  \n",
       "104            56.0  \n",
       "295             NaN  \n",
       "\n",
       "[2 rows x 27 columns]"
      ]
     },
     "execution_count": 12,
     "metadata": {},
     "output_type": "execute_result"
    }
   ],
   "source": [
    "ski_data[ski_data['Name'] == 'Crystal Mountain']"
   ]
  },
  {
   "cell_type": "markdown",
   "metadata": {},
   "source": [
    "So there are two Crystal Mountain resorts, but they are clearly two different resorts in two different states. This is a powerful signal that you have unique records on each row."
   ]
  },
  {
   "cell_type": "markdown",
   "metadata": {},
   "source": [
    "#### 2.6.3.2 Region And State<a id='2.6.3.2_Region_And_State'></a>"
   ]
  },
  {
   "cell_type": "markdown",
   "metadata": {},
   "source": [
    "What's the relationship between region and state?"
   ]
  },
  {
   "cell_type": "markdown",
   "metadata": {},
   "source": [
    "You know they are the same in many cases (e.g. both the Region and the state are given as 'Michigan'). In how many cases do they differ?"
   ]
  },
  {
   "cell_type": "code",
   "execution_count": 13,
   "metadata": {},
   "outputs": [
    {
     "data": {
      "text/plain": [
       "True     297\n",
       "False     33\n",
       "dtype: int64"
      ]
     },
     "execution_count": 13,
     "metadata": {},
     "output_type": "execute_result"
    }
   ],
   "source": [
    "#Code task 10#\n",
    "#Calculate the number of times Region does not equal state\n",
    "(ski_data.Region == ski_data.state).value_counts()"
   ]
  },
  {
   "cell_type": "markdown",
   "metadata": {},
   "source": [
    "You know what a state is. What is a region? You can tabulate the distinct values along with their respective frequencies using `value_counts()`."
   ]
  },
  {
   "cell_type": "code",
   "execution_count": 14,
   "metadata": {},
   "outputs": [
    {
     "data": {
      "text/plain": [
       "New York               33\n",
       "Michigan               29\n",
       "Sierra Nevada          22\n",
       "Colorado               22\n",
       "Pennsylvania           19\n",
       "Wisconsin              16\n",
       "New Hampshire          16\n",
       "Vermont                15\n",
       "Minnesota              14\n",
       "Idaho                  12\n",
       "Montana                12\n",
       "Massachusetts          11\n",
       "Washington             10\n",
       "Maine                   9\n",
       "New Mexico              9\n",
       "Wyoming                 8\n",
       "Utah                    7\n",
       "North Carolina          6\n",
       "Oregon                  6\n",
       "Salt Lake City          6\n",
       "Ohio                    5\n",
       "Connecticut             5\n",
       "West Virginia           4\n",
       "Mt. Hood                4\n",
       "Illinois                4\n",
       "Virginia                4\n",
       "Alaska                  3\n",
       "Iowa                    3\n",
       "Nevada                  2\n",
       "South Dakota            2\n",
       "New Jersey              2\n",
       "Arizona                 2\n",
       "Indiana                 2\n",
       "Missouri                2\n",
       "Maryland                1\n",
       "Northern California     1\n",
       "Tennessee               1\n",
       "Rhode Island            1\n",
       "Name: Region, dtype: int64"
      ]
     },
     "execution_count": 14,
     "metadata": {},
     "output_type": "execute_result"
    }
   ],
   "source": [
    "ski_data['Region'].value_counts()\n"
   ]
  },
  {
   "cell_type": "markdown",
   "metadata": {},
   "source": [
    "A casual inspection by eye reveals some non-state names such as Sierra Nevada, Salt Lake City, and Northern California. Tabulate the differences between Region and state. On a note regarding scaling to larger data sets, you might wonder how you could spot such cases when presented with millions of rows. This is an interesting point. Imagine you have access to a database with a Region and state column in a table and there are millions of rows. You wouldn't eyeball all the rows looking for differences! Bear in mind that our first interest lies in establishing the answer to the question \"Are they always the same?\" One approach might be to ask the database to return records where they differ, but limit the output to 10 rows. If there were differences, you'd only get up to 10 results, and so you wouldn't know whether you'd located all differences, but you'd know that there were 'a nonzero number' of differences. If you got an empty result set back, then you would know that the two columns always had the same value. At the risk of digressing, some values in one column only might be NULL (missing) and different databases treat NULL differently, so be aware that on many an occasion a seamingly 'simple' question gets very interesting to answer very quickly!"
   ]
  },
  {
   "cell_type": "code",
   "execution_count": 15,
   "metadata": {},
   "outputs": [
    {
     "data": {
      "text/plain": [
       "state       Region             \n",
       "California  Sierra Nevada          20\n",
       "            Northern California     1\n",
       "Nevada      Sierra Nevada           2\n",
       "Oregon      Mt. Hood                4\n",
       "Utah        Salt Lake City          6\n",
       "Name: Region, dtype: int64"
      ]
     },
     "execution_count": 15,
     "metadata": {},
     "output_type": "execute_result"
    }
   ],
   "source": [
    "#Code task 11#\n",
    "#Filter the ski_data dataframe for rows where 'Region' and 'state' are different,\n",
    "#group that by 'state' and perform `value_counts` on the 'Region'\n",
    "(ski_data[ski_data.Region != ski_data.state]\n",
    " .groupby('state')['Region']\n",
    " .value_counts())"
   ]
  },
  {
   "cell_type": "markdown",
   "metadata": {},
   "source": [
    "The vast majority of the differences are in California, with most Regions being called Sierra Nevada and just one referred to as Northern California."
   ]
  },
  {
   "cell_type": "markdown",
   "metadata": {},
   "source": [
    "#### 2.6.3.3 Number of distinct regions and states<a id='2.6.3.3_Number_of_distinct_regions_and_states'></a>"
   ]
  },
  {
   "cell_type": "code",
   "execution_count": 16,
   "metadata": {},
   "outputs": [
    {
     "data": {
      "text/plain": [
       "Region    38\n",
       "state     35\n",
       "dtype: int64"
      ]
     },
     "execution_count": 16,
     "metadata": {},
     "output_type": "execute_result"
    }
   ],
   "source": [
    "#Code task 12#\n",
    "#Select the 'Region' and 'state' columns from ski_data and use the `nunique` method to calculate\n",
    "#the number of unique values in each\n",
    "ski_data[['Region', 'state']].nunique()"
   ]
  },
  {
   "cell_type": "markdown",
   "metadata": {},
   "source": [
    "Because a few states are split across multiple named regions, there are slightly more unique regions than states."
   ]
  },
  {
   "cell_type": "markdown",
   "metadata": {},
   "source": [
    "#### 2.6.3.4 Distribution Of Resorts By Region And State<a id='2.6.3.4_Distribution_Of_Resorts_By_Region_And_State'></a>"
   ]
  },
  {
   "cell_type": "markdown",
   "metadata": {},
   "source": [
    "If this is your first time using [matplotlib](https://matplotlib.org/3.2.2/index.html)'s [subplots](https://matplotlib.org/3.2.2/api/_as_gen/matplotlib.pyplot.subplots.html), you may find the online documentation useful."
   ]
  },
  {
   "cell_type": "code",
   "execution_count": 17,
   "metadata": {},
   "outputs": [
    {
     "data": {
      "image/png": "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\n",
      "text/plain": [
       "<Figure size 864x576 with 2 Axes>"
      ]
     },
     "metadata": {
      "needs_background": "light"
     },
     "output_type": "display_data"
    }
   ],
   "source": [
    "#Code task 13#\n",
    "#Create two subplots on 1 row and 2 columns with a figsize of (12, 8)\n",
    "fig, ax = plt.subplots(1, 2, figsize=(12,8))\n",
    "#Specify a horizontal barplot ('barh') as kind of plot (kind=)\n",
    "ski_data.Region.value_counts().plot(kind='barh', ax=ax[0])\n",
    "#Give the plot a helpful title of 'Region'\n",
    "ax[0].set_title('Region')\n",
    "#Label the xaxis 'Count'\n",
    "ax[0].set_xlabel('Count')\n",
    "#Specify a horizontal barplot ('barh') as kind of plot (kind=)\n",
    "ski_data.state.value_counts().plot(kind='barh', ax=ax[1])\n",
    "#Give the plot a helpful title of 'state'\n",
    "ax[1].set_title('state')\n",
    "#Label the xaxis 'Count'\n",
    "ax[1].set_xlabel('Count')\n",
    "#Give the subplots a little \"breathing room\" with a wspace of 0.5\n",
    "plt.subplots_adjust(wspace=0.5);\n",
    "#You're encouraged to explore a few different figure sizes, orientations, and spacing here\n",
    "# as the importance of easy-to-read and informative figures is frequently understated\n",
    "# and you will find the ability to tweak figures invaluable later on"
   ]
  },
  {
   "cell_type": "markdown",
   "metadata": {},
   "source": [
    "How's your geography? Looking at the distribution of States, you see New York accounting for the majority of resorts. Our target resort is in Montana, which comes in at 13th place. You should think carefully about how, or whether, you use this information. Does New York command a premium because of its proximity to population? Even if a resort's State were a useful predictor of ticket price, your main interest lies in Montana. Would you want a model that is skewed for accuracy by New York? Should you just filter for Montana and create a Montana-specific model? This would slash your available data volume. Your problem task includes the contextual insight that the data are for resorts all belonging to the same market share. This suggests one might expect prices to be similar amongst them. You can look into this. A boxplot grouped by State is an ideal way to quickly compare prices. Another side note worth bringing up here is that, in reality, the best approach here definitely would include consulting with the client or other domain expert. They might know of good reasons for treating states equivalently or differently. The data scientist is rarely the final arbiter of such a decision. But here, you'll see if we can find any supporting evidence for treating states the same or differently."
   ]
  },
  {
   "cell_type": "markdown",
   "metadata": {},
   "source": [
    "#### 2.6.3.5 Distribution Of Ticket Price By State<a id='2.6.3.5_Distribution_Of_Ticket_Price_By_State'></a>"
   ]
  },
  {
   "cell_type": "markdown",
   "metadata": {},
   "source": [
    "Our primary focus is our Big Mountain resort, in Montana. Does the state give you any clues to help decide what your primary target response feature should be (weekend or weekday ticket prices)?"
   ]
  },
  {
   "cell_type": "markdown",
   "metadata": {},
   "source": [
    "##### 2.6.3.5.1 Average weekend and weekday price by state<a id='2.6.3.5.1_Average_weekend_and_weekday_price_by_state'></a>"
   ]
  },
  {
   "cell_type": "code",
   "execution_count": 19,
   "metadata": {},
   "outputs": [
    {
     "data": {
      "text/html": [
       "<div>\n",
       "<style scoped>\n",
       "    .dataframe tbody tr th:only-of-type {\n",
       "        vertical-align: middle;\n",
       "    }\n",
       "\n",
       "    .dataframe tbody tr th {\n",
       "        vertical-align: top;\n",
       "    }\n",
       "\n",
       "    .dataframe thead th {\n",
       "        text-align: right;\n",
       "    }\n",
       "</style>\n",
       "<table border=\"1\" class=\"dataframe\">\n",
       "  <thead>\n",
       "    <tr style=\"text-align: right;\">\n",
       "      <th></th>\n",
       "      <th>AdultWeekend</th>\n",
       "      <th>AdultWeekday</th>\n",
       "    </tr>\n",
       "    <tr>\n",
       "      <th>state</th>\n",
       "      <th></th>\n",
       "      <th></th>\n",
       "    </tr>\n",
       "  </thead>\n",
       "  <tbody>\n",
       "    <tr>\n",
       "      <th>Alaska</th>\n",
       "      <td>57.333333</td>\n",
       "      <td>47.333333</td>\n",
       "    </tr>\n",
       "    <tr>\n",
       "      <th>Arizona</th>\n",
       "      <td>83.500000</td>\n",
       "      <td>81.500000</td>\n",
       "    </tr>\n",
       "    <tr>\n",
       "      <th>California</th>\n",
       "      <td>81.416667</td>\n",
       "      <td>78.214286</td>\n",
       "    </tr>\n",
       "    <tr>\n",
       "      <th>Colorado</th>\n",
       "      <td>90.714286</td>\n",
       "      <td>90.714286</td>\n",
       "    </tr>\n",
       "    <tr>\n",
       "      <th>Connecticut</th>\n",
       "      <td>56.800000</td>\n",
       "      <td>47.800000</td>\n",
       "    </tr>\n",
       "  </tbody>\n",
       "</table>\n",
       "</div>"
      ],
      "text/plain": [
       "             AdultWeekend  AdultWeekday\n",
       "state                                  \n",
       "Alaska          57.333333     47.333333\n",
       "Arizona         83.500000     81.500000\n",
       "California      81.416667     78.214286\n",
       "Colorado        90.714286     90.714286\n",
       "Connecticut     56.800000     47.800000"
      ]
     },
     "execution_count": 19,
=======
       "      <th>104</th>\n",
       "      <td>Crystal Mountain</td>\n",
       "      <td>Michigan</td>\n",
       "      <td>Michigan</td>\n",
       "      <td>1132</td>\n",
       "      <td>375</td>\n",
       "      <td>757</td>\n",
       "      <td>0</td>\n",
       "      <td>0.0</td>\n",
       "      <td>0</td>\n",
       "      <td>1</td>\n",
       "      <td>...</td>\n",
       "      <td>0.3</td>\n",
       "      <td>102.0</td>\n",
       "      <td>96.0</td>\n",
       "      <td>120.0</td>\n",
       "      <td>63.0</td>\n",
       "      <td>132.0</td>\n",
       "      <td>54.0</td>\n",
       "      <td>64.0</td>\n",
       "      <td>135.0</td>\n",
       "      <td>56.0</td>\n",
       "    </tr>\n",
       "    <tr>\n",
       "      <th>295</th>\n",
       "      <td>Crystal Mountain</td>\n",
       "      <td>Washington</td>\n",
       "      <td>Washington</td>\n",
       "      <td>7012</td>\n",
       "      <td>3100</td>\n",
       "      <td>4400</td>\n",
       "      <td>1</td>\n",
       "      <td>NaN</td>\n",
       "      <td>2</td>\n",
       "      <td>2</td>\n",
       "      <td>...</td>\n",
       "      <td>2.5</td>\n",
       "      <td>2600.0</td>\n",
       "      <td>10.0</td>\n",
       "      <td>NaN</td>\n",
       "      <td>57.0</td>\n",
       "      <td>486.0</td>\n",
       "      <td>99.0</td>\n",
       "      <td>99.0</td>\n",
       "      <td>NaN</td>\n",
       "      <td>NaN</td>\n",
       "    </tr>\n",
       "  </tbody>\n",
       "</table>\n",
       "<p>2 rows × 27 columns</p>\n",
       "</div>"
      ],
      "text/plain": [
       "                 Name      Region       state  summit_elev  vertical_drop  \\\n",
       "104  Crystal Mountain    Michigan    Michigan         1132            375   \n",
       "295  Crystal Mountain  Washington  Washington         7012           3100   \n",
       "\n",
       "     base_elev  trams  fastEight  fastSixes  fastQuads  ...  LongestRun_mi  \\\n",
       "104        757      0        0.0          0          1  ...            0.3   \n",
       "295       4400      1        NaN          2          2  ...            2.5   \n",
       "\n",
       "     SkiableTerrain_ac  Snow Making_ac  daysOpenLastYear  yearsOpen  \\\n",
       "104              102.0            96.0             120.0       63.0   \n",
       "295             2600.0            10.0               NaN       57.0   \n",
       "\n",
       "     averageSnowfall  AdultWeekday  AdultWeekend  projectedDaysOpen  \\\n",
       "104            132.0          54.0          64.0              135.0   \n",
       "295            486.0          99.0          99.0                NaN   \n",
       "\n",
       "     NightSkiing_ac  \n",
       "104            56.0  \n",
       "295             NaN  \n",
       "\n",
       "[2 rows x 27 columns]"
      ]
     },
     "execution_count": 11,
>>>>>>> Stashed changes
     "metadata": {},
     "output_type": "execute_result"
    }
   ],
   "source": [
<<<<<<< Updated upstream
    "#Code task 14#\n",
    "# Calculate average weekday and weekend price by state and sort by the average of the two\n",
    "# Hint: use the pattern dataframe.groupby(<grouping variable>)[<list of columns>].mean()\n",
    "state_price_means = ski_data.groupby('state')[['AdultWeekend', 'AdultWeekday']].mean()\n",
    "state_price_means.head()"
   ]
  },
  {
   "cell_type": "code",
   "execution_count": 20,
   "metadata": {},
   "outputs": [
    {
     "data": {
      "image/png": "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\n",
      "text/plain": [
       "<Figure size 720x720 with 1 Axes>"
      ]
     },
     "metadata": {
      "needs_background": "light"
     },
     "output_type": "display_data"
    }
   ],
   "source": [
    "# The next bit simply reorders the index by increasing average of weekday and weekend prices\n",
    "# Compare the index order you get from\n",
    "# state_price_means.index\n",
    "# with\n",
    "# state_price_means.mean(axis=1).sort_values(ascending=False).index\n",
    "# See how this expression simply sits within the reindex()\n",
    "(state_price_means.reindex(index=state_price_means.mean(axis=1)\n",
    "    .sort_values(ascending=False)\n",
    "    .index)\n",
    "    .plot(kind='barh', figsize=(10, 10), title='Average ticket price by State'))\n",
    "plt.xlabel('Price ($)');"
   ]
  },
  {
   "cell_type": "code",
   "execution_count": 21,
   "metadata": {},
   "outputs": [
    {
     "name": "stdout",
     "output_type": "stream",
     "text": [
      "Object `states` not found.\n"
     ]
    }
   ],
   "source": [
    "The figure above represents a dataframe with two columns, one for the average prices of each kind of ticket. This tells you how the average ticket price varies from state to state. But can you get more insight into the difference in the distributions between states?"
   ]
  },
  {
   "cell_type": "code",
   "execution_count": null,
   "metadata": {},
   "outputs": [],
   "source": [
    "The figure above represents a dataframe with two columns, one for the average prices of each kind of ticket. This tells you how the average ticket price varies from state to state. But can you get more insight into the difference in the distributions between states"
   ]
  },
  {
   "cell_type": "code",
   "execution_count": 22,
   "metadata": {},
   "outputs": [
    {
     "ename": "SyntaxError",
     "evalue": "invalid syntax (<ipython-input-22-cb01faab8d02>, line 1)",
     "output_type": "error",
     "traceback": [
      "\u001b[1;36m  File \u001b[1;32m\"<ipython-input-22-cb01faab8d02>\"\u001b[1;36m, line \u001b[1;32m1\u001b[0m\n\u001b[1;33m    The figure above represents a dataframe with two columns, one for the average prices of each kind of ticket. This tells you how the average ticket price varies from state to state. But can you get more insight into the difference in the distributions between states\u001b[0m\n\u001b[1;37m        ^\u001b[0m\n\u001b[1;31mSyntaxError\u001b[0m\u001b[1;31m:\u001b[0m invalid syntax\n"
     ]
    }
   ],
   "source": [
    "The figure above represents a dataframe with two columns, one for the average prices of each kind of ticket. This tells you how the average ticket price varies from state to state. But can you get more insight into the difference in the distributions between states"
=======
    "ski_data[ski_data['Name'] == 'Crystal Mountain']"
   ]
  },
  {
   "cell_type": "markdown",
   "metadata": {},
   "source": [
    "So there are two Crystal Mountain resorts, but they are clearly two different resorts in two different states. This is a powerful signal that you have unique records on each row."
   ]
  },
  {
   "cell_type": "markdown",
   "metadata": {},
   "source": [
    "#### 2.6.3.2 Region And State<a id='2.6.3.2_Region_And_State'></a>"
   ]
  },
  {
   "cell_type": "markdown",
   "metadata": {},
   "source": [
    "What's the relationship between region and state?"
   ]
  },
  {
   "cell_type": "markdown",
   "metadata": {},
   "source": [
    "You know they are the same in many cases (e.g. both the Region and the state are given as 'Michigan'). In how many cases do they differ?"
>>>>>>> Stashed changes
   ]
  },
  {
   "cell_type": "code",
   "execution_count": null,
   "metadata": {},
   "outputs": [],
   "source": [
<<<<<<< Updated upstream
    "The figure above represents a dataframe with two columns, one for the average prices of each kind of ticket. This tells you how the average ticket price varies from state to state. But can you get more insight into the difference in the distributions between states"
   ]
  },
  {
   "cell_type": "code",
   "execution_count": 23,
   "metadata": {},
   "outputs": [
    {
     "ename": "SyntaxError",
     "evalue": "invalid syntax (<ipython-input-23-cb01faab8d02>, line 1)",
     "output_type": "error",
     "traceback": [
      "\u001b[1;36m  File \u001b[1;32m\"<ipython-input-23-cb01faab8d02>\"\u001b[1;36m, line \u001b[1;32m1\u001b[0m\n\u001b[1;33m    The figure above represents a dataframe with two columns, one for the average prices of each kind of ticket. This tells you how the average ticket price varies from state to state. But can you get more insight into the difference in the distributions between states\u001b[0m\n\u001b[1;37m        ^\u001b[0m\n\u001b[1;31mSyntaxError\u001b[0m\u001b[1;31m:\u001b[0m invalid syntax\n"
     ]
    }
   ],
   "source": [
    "The figure above represents a dataframe with two columns, one for the average prices of each kind of ticket. This tells you how the average ticket price varies from state to state. But can you get more insight into the difference in the distributions between states"
   ]
  },
  {
   "cell_type": "code",
   "execution_count": 24,
   "metadata": {},
   "outputs": [
    {
     "ename": "SyntaxError",
     "evalue": "invalid syntax (<ipython-input-24-cb01faab8d02>, line 1)",
     "output_type": "error",
     "traceback": [
      "\u001b[1;36m  File \u001b[1;32m\"<ipython-input-24-cb01faab8d02>\"\u001b[1;36m, line \u001b[1;32m1\u001b[0m\n\u001b[1;33m    The figure above represents a dataframe with two columns, one for the average prices of each kind of ticket. This tells you how the average ticket price varies from state to state. But can you get more insight into the difference in the distributions between states\u001b[0m\n\u001b[1;37m        ^\u001b[0m\n\u001b[1;31mSyntaxError\u001b[0m\u001b[1;31m:\u001b[0m invalid syntax\n"
     ]
    }
   ],
   "source": [
    "The figure above represents a dataframe with two columns, one for the average prices of each kind of ticket. This tells you how the average ticket price varies from state to state. But can you get more insight into the difference in the distributions between states"
=======
    "#Code task 10#\n",
    "#Calculate the number of times Region does not equal state\n",
    "(ski_data.Region ___ ski_data.state).___"
   ]
  },
  {
   "cell_type": "markdown",
   "metadata": {},
   "source": [
    "You know what a state is. What is a region? You can tabulate the distinct values along with their respective frequencies using `value_counts()`."
>>>>>>> Stashed changes
   ]
  },
  {
   "cell_type": "code",
<<<<<<< Updated upstream
   "execution_count": 25,
   "metadata": {},
   "outputs": [
    {
     "ename": "SyntaxError",
     "evalue": "invalid syntax (<ipython-input-25-cb01faab8d02>, line 1)",
     "output_type": "error",
     "traceback": [
      "\u001b[1;36m  File \u001b[1;32m\"<ipython-input-25-cb01faab8d02>\"\u001b[1;36m, line \u001b[1;32m1\u001b[0m\n\u001b[1;33m    The figure above represents a dataframe with two columns, one for the average prices of each kind of ticket. This tells you how the average ticket price varies from state to state. But can you get more insight into the difference in the distributions between states\u001b[0m\n\u001b[1;37m        ^\u001b[0m\n\u001b[1;31mSyntaxError\u001b[0m\u001b[1;31m:\u001b[0m invalid syntax\n"
     ]
    }
   ],
   "source": [
    "The figure above represents a dataframe with two columns, one for the average prices of each kind of ticket. This tells you how the average ticket price varies from state to state. But can you get more insight into the difference in the distributions between states"
   ]
  },
  {
   "cell_type": "markdown",
   "metadata": {},
   "source": [
    "##### 2.6.3.5.2 Distribution of weekday and weekend price by state<a id='2.6.3.5.2_Distribution_of_weekday_and_weekend_price_by_state'></a>"
=======
   "execution_count": 13,
   "metadata": {},
   "outputs": [
    {
     "data": {
      "text/plain": [
       "New York               33\n",
       "Michigan               29\n",
       "Sierra Nevada          22\n",
       "Colorado               22\n",
       "Pennsylvania           19\n",
       "Wisconsin              16\n",
       "New Hampshire          16\n",
       "Vermont                15\n",
       "Minnesota              14\n",
       "Montana                12\n",
       "Idaho                  12\n",
       "Massachusetts          11\n",
       "Washington             10\n",
       "Maine                   9\n",
       "New Mexico              9\n",
       "Wyoming                 8\n",
       "Utah                    7\n",
       "Oregon                  6\n",
       "Salt Lake City          6\n",
       "North Carolina          6\n",
       "Connecticut             5\n",
       "Ohio                    5\n",
       "West Virginia           4\n",
       "Virginia                4\n",
       "Mt. Hood                4\n",
       "Illinois                4\n",
       "Alaska                  3\n",
       "Iowa                    3\n",
       "Missouri                2\n",
       "Arizona                 2\n",
       "Indiana                 2\n",
       "South Dakota            2\n",
       "New Jersey              2\n",
       "Nevada                  2\n",
       "Rhode Island            1\n",
       "Maryland                1\n",
       "Tennessee               1\n",
       "Northern California     1\n",
       "Name: Region, dtype: int64"
      ]
     },
     "execution_count": 13,
     "metadata": {},
     "output_type": "execute_result"
    }
   ],
   "source": [
    "ski_data['Region'].value_counts()"
>>>>>>> Stashed changes
   ]
  },
  {
   "cell_type": "markdown",
   "metadata": {},
   "source": [
<<<<<<< Updated upstream
    "Next, you can transform the data into a single column for price with a new categorical column that represents the ticket type."
=======
    "A casual inspection by eye reveals some non-state names such as Sierra Nevada, Salt Lake City, and Northern California. Tabulate the differences between Region and state. On a note regarding scaling to larger data sets, you might wonder how you could spot such cases when presented with millions of rows. This is an interesting point. Imagine you have access to a database with a Region and state column in a table and there are millions of rows. You wouldn't eyeball all the rows looking for differences! Bear in mind that our first interest lies in establishing the answer to the question \"Are they always the same?\" One approach might be to ask the database to return records where they differ, but limit the output to 10 rows. If there were differences, you'd only get up to 10 results, and so you wouldn't know whether you'd located all differences, but you'd know that there were 'a nonzero number' of differences. If you got an empty result set back, then you would know that the two columns always had the same value. At the risk of digressing, some values in one column only might be NULL (missing) and different databases treat NULL differently, so be aware that on many an occasion a seamingly 'simple' question gets very interesting to answer very quickly!"
>>>>>>> Stashed changes
   ]
  },
  {
   "cell_type": "code",
<<<<<<< Updated upstream
   "execution_count": 26,
   "metadata": {},
   "outputs": [],
   "source": [
    "#Code task 15#\n",
    "#Use the pd.melt function, pass in the ski_data columns 'state', 'AdultWeekday', and 'Adultweekend' only,\n",
    "#specify 'state' for `id_vars`\n",
    "#gather the ticket prices from the 'Adultweekday' and 'AdultWeekend' columns using the `value_vars` argument,\n",
    "#call the resultant price column 'Price' via the `value_name` argument,\n",
    "#name the weekday/weekend indicator column 'Ticket' via the `var_name` argument\n",
    "ticket_prices = pd.melt(ski_data[['state', 'AdultWeekday', 'AdultWeekend']], \n",
    "                        id_vars='state', \n",
    "                        var_name='Ticket', \n",
    "                        value_vars=['AdultWeekend','AdultWeekday'], \n",
    "                        value_name='Price')"
   ]
  },
  {
   "cell_type": "code",
   "execution_count": 27,
   "metadata": {},
   "outputs": [
    {
     "data": {
      "text/html": [
       "<div>\n",
       "<style scoped>\n",
       "    .dataframe tbody tr th:only-of-type {\n",
       "        vertical-align: middle;\n",
       "    }\n",
       "\n",
       "    .dataframe tbody tr th {\n",
       "        vertical-align: top;\n",
       "    }\n",
       "\n",
       "    .dataframe thead th {\n",
       "        text-align: right;\n",
       "    }\n",
       "</style>\n",
       "<table border=\"1\" class=\"dataframe\">\n",
       "  <thead>\n",
       "    <tr style=\"text-align: right;\">\n",
       "      <th></th>\n",
       "      <th>state</th>\n",
       "      <th>Ticket</th>\n",
       "      <th>Price</th>\n",
       "    </tr>\n",
       "  </thead>\n",
       "  <tbody>\n",
       "    <tr>\n",
       "      <th>0</th>\n",
       "      <td>Alaska</td>\n",
       "      <td>AdultWeekend</td>\n",
       "      <td>85.0</td>\n",
       "    </tr>\n",
       "    <tr>\n",
       "      <th>1</th>\n",
       "      <td>Alaska</td>\n",
       "      <td>AdultWeekend</td>\n",
       "      <td>53.0</td>\n",
       "    </tr>\n",
       "    <tr>\n",
       "      <th>2</th>\n",
       "      <td>Alaska</td>\n",
       "      <td>AdultWeekend</td>\n",
       "      <td>34.0</td>\n",
       "    </tr>\n",
       "    <tr>\n",
       "      <th>3</th>\n",
       "      <td>Arizona</td>\n",
       "      <td>AdultWeekend</td>\n",
       "      <td>89.0</td>\n",
       "    </tr>\n",
       "    <tr>\n",
       "      <th>4</th>\n",
       "      <td>Arizona</td>\n",
       "      <td>AdultWeekend</td>\n",
       "      <td>78.0</td>\n",
       "    </tr>\n",
       "    <tr>\n",
       "      <th>5</th>\n",
       "      <td>California</td>\n",
       "      <td>AdultWeekend</td>\n",
       "      <td>47.0</td>\n",
       "    </tr>\n",
       "    <tr>\n",
       "      <th>6</th>\n",
       "      <td>California</td>\n",
       "      <td>AdultWeekend</td>\n",
       "      <td>NaN</td>\n",
       "    </tr>\n",
       "    <tr>\n",
       "      <th>7</th>\n",
       "      <td>California</td>\n",
       "      <td>AdultWeekend</td>\n",
       "      <td>NaN</td>\n",
       "    </tr>\n",
       "    <tr>\n",
       "      <th>8</th>\n",
       "      <td>California</td>\n",
       "      <td>AdultWeekend</td>\n",
       "      <td>NaN</td>\n",
       "    </tr>\n",
       "    <tr>\n",
       "      <th>9</th>\n",
       "      <td>California</td>\n",
       "      <td>AdultWeekend</td>\n",
       "      <td>78.0</td>\n",
       "    </tr>\n",
       "    <tr>\n",
       "      <th>10</th>\n",
       "      <td>California</td>\n",
       "      <td>AdultWeekend</td>\n",
       "      <td>75.0</td>\n",
       "    </tr>\n",
       "    <tr>\n",
       "      <th>11</th>\n",
       "      <td>California</td>\n",
       "      <td>AdultWeekend</td>\n",
       "      <td>NaN</td>\n",
       "    </tr>\n",
       "    <tr>\n",
       "      <th>12</th>\n",
       "      <td>California</td>\n",
       "      <td>AdultWeekend</td>\n",
       "      <td>NaN</td>\n",
       "    </tr>\n",
       "    <tr>\n",
       "      <th>13</th>\n",
       "      <td>California</td>\n",
       "      <td>AdultWeekend</td>\n",
       "      <td>NaN</td>\n",
       "    </tr>\n",
       "    <tr>\n",
       "      <th>14</th>\n",
       "      <td>California</td>\n",
       "      <td>AdultWeekend</td>\n",
       "      <td>159.0</td>\n",
       "    </tr>\n",
       "    <tr>\n",
       "      <th>15</th>\n",
       "      <td>California</td>\n",
       "      <td>AdultWeekend</td>\n",
       "      <td>59.0</td>\n",
       "    </tr>\n",
       "    <tr>\n",
       "      <th>16</th>\n",
       "      <td>California</td>\n",
       "      <td>AdultWeekend</td>\n",
       "      <td>84.0</td>\n",
       "    </tr>\n",
       "    <tr>\n",
       "      <th>17</th>\n",
       "      <td>California</td>\n",
       "      <td>AdultWeekend</td>\n",
       "      <td>69.0</td>\n",
       "    </tr>\n",
       "    <tr>\n",
       "      <th>18</th>\n",
       "      <td>California</td>\n",
       "      <td>AdultWeekend</td>\n",
       "      <td>NaN</td>\n",
       "    </tr>\n",
       "    <tr>\n",
       "      <th>19</th>\n",
       "      <td>California</td>\n",
       "      <td>AdultWeekend</td>\n",
       "      <td>NaN</td>\n",
       "    </tr>\n",
       "    <tr>\n",
       "      <th>20</th>\n",
       "      <td>California</td>\n",
       "      <td>AdultWeekend</td>\n",
       "      <td>83.0</td>\n",
       "    </tr>\n",
       "    <tr>\n",
       "      <th>21</th>\n",
       "      <td>California</td>\n",
       "      <td>AdultWeekend</td>\n",
       "      <td>NaN</td>\n",
       "    </tr>\n",
       "    <tr>\n",
       "      <th>22</th>\n",
       "      <td>California</td>\n",
       "      <td>AdultWeekend</td>\n",
       "      <td>79.0</td>\n",
       "    </tr>\n",
       "    <tr>\n",
       "      <th>23</th>\n",
       "      <td>California</td>\n",
       "      <td>AdultWeekend</td>\n",
       "      <td>50.0</td>\n",
       "    </tr>\n",
       "    <tr>\n",
       "      <th>24</th>\n",
       "      <td>California</td>\n",
       "      <td>AdultWeekend</td>\n",
       "      <td>125.0</td>\n",
       "    </tr>\n",
       "    <tr>\n",
       "      <th>25</th>\n",
       "      <td>California</td>\n",
       "      <td>AdultWeekend</td>\n",
       "      <td>69.0</td>\n",
       "    </tr>\n",
       "    <tr>\n",
       "      <th>26</th>\n",
       "      <td>Colorado</td>\n",
       "      <td>AdultWeekend</td>\n",
       "      <td>85.0</td>\n",
       "    </tr>\n",
       "    <tr>\n",
       "      <th>27</th>\n",
       "      <td>Colorado</td>\n",
       "      <td>AdultWeekend</td>\n",
       "      <td>179.0</td>\n",
       "    </tr>\n",
       "    <tr>\n",
       "      <th>28</th>\n",
       "      <td>Colorado</td>\n",
       "      <td>AdultWeekend</td>\n",
       "      <td>NaN</td>\n",
       "    </tr>\n",
       "    <tr>\n",
       "      <th>29</th>\n",
       "      <td>Colorado</td>\n",
       "      <td>AdultWeekend</td>\n",
       "      <td>NaN</td>\n",
       "    </tr>\n",
       "    <tr>\n",
       "      <th>30</th>\n",
       "      <td>Colorado</td>\n",
       "      <td>AdultWeekend</td>\n",
       "      <td>158.0</td>\n",
       "    </tr>\n",
       "    <tr>\n",
       "      <th>31</th>\n",
       "      <td>Colorado</td>\n",
       "      <td>AdultWeekend</td>\n",
       "      <td>NaN</td>\n",
       "    </tr>\n",
       "    <tr>\n",
       "      <th>32</th>\n",
       "      <td>Colorado</td>\n",
       "      <td>AdultWeekend</td>\n",
       "      <td>89.0</td>\n",
       "    </tr>\n",
       "    <tr>\n",
       "      <th>33</th>\n",
       "      <td>Colorado</td>\n",
       "      <td>AdultWeekend</td>\n",
       "      <td>NaN</td>\n",
       "    </tr>\n",
       "    <tr>\n",
       "      <th>34</th>\n",
       "      <td>Colorado</td>\n",
       "      <td>AdultWeekend</td>\n",
       "      <td>25.0</td>\n",
       "    </tr>\n",
       "    <tr>\n",
       "      <th>35</th>\n",
       "      <td>Colorado</td>\n",
       "      <td>AdultWeekend</td>\n",
       "      <td>NaN</td>\n",
       "    </tr>\n",
       "    <tr>\n",
       "      <th>36</th>\n",
       "      <td>Colorado</td>\n",
       "      <td>AdultWeekend</td>\n",
       "      <td>79.0</td>\n",
       "    </tr>\n",
       "    <tr>\n",
       "      <th>37</th>\n",
       "      <td>Colorado</td>\n",
       "      <td>AdultWeekend</td>\n",
       "      <td>89.0</td>\n",
       "    </tr>\n",
       "    <tr>\n",
       "      <th>38</th>\n",
       "      <td>Colorado</td>\n",
       "      <td>AdultWeekend</td>\n",
       "      <td>71.0</td>\n",
       "    </tr>\n",
       "    <tr>\n",
       "      <th>39</th>\n",
       "      <td>Colorado</td>\n",
       "      <td>AdultWeekend</td>\n",
       "      <td>79.0</td>\n",
       "    </tr>\n",
       "    <tr>\n",
       "      <th>40</th>\n",
       "      <td>Colorado</td>\n",
       "      <td>AdultWeekend</td>\n",
       "      <td>56.0</td>\n",
       "    </tr>\n",
       "    <tr>\n",
       "      <th>41</th>\n",
       "      <td>Colorado</td>\n",
       "      <td>AdultWeekend</td>\n",
       "      <td>84.0</td>\n",
       "    </tr>\n",
       "    <tr>\n",
       "      <th>42</th>\n",
       "      <td>Colorado</td>\n",
       "      <td>AdultWeekend</td>\n",
       "      <td>NaN</td>\n",
       "    </tr>\n",
       "    <tr>\n",
       "      <th>43</th>\n",
       "      <td>Colorado</td>\n",
       "      <td>AdultWeekend</td>\n",
       "      <td>65.0</td>\n",
       "    </tr>\n",
       "    <tr>\n",
       "      <th>44</th>\n",
       "      <td>Colorado</td>\n",
       "      <td>AdultWeekend</td>\n",
       "      <td>139.0</td>\n",
       "    </tr>\n",
       "    <tr>\n",
       "      <th>45</th>\n",
       "      <td>Colorado</td>\n",
       "      <td>AdultWeekend</td>\n",
       "      <td>NaN</td>\n",
       "    </tr>\n",
       "    <tr>\n",
       "      <th>46</th>\n",
       "      <td>Colorado</td>\n",
       "      <td>AdultWeekend</td>\n",
       "      <td>NaN</td>\n",
       "    </tr>\n",
       "    <tr>\n",
       "      <th>47</th>\n",
       "      <td>Colorado</td>\n",
       "      <td>AdultWeekend</td>\n",
       "      <td>72.0</td>\n",
       "    </tr>\n",
       "    <tr>\n",
       "      <th>48</th>\n",
       "      <td>Connecticut</td>\n",
       "      <td>AdultWeekend</td>\n",
       "      <td>65.0</td>\n",
       "    </tr>\n",
       "    <tr>\n",
       "      <th>49</th>\n",
       "      <td>Connecticut</td>\n",
       "      <td>AdultWeekend</td>\n",
       "      <td>60.0</td>\n",
       "    </tr>\n",
       "  </tbody>\n",
       "</table>\n",
       "</div>"
      ],
      "text/plain": [
       "          state        Ticket  Price\n",
       "0        Alaska  AdultWeekend   85.0\n",
       "1        Alaska  AdultWeekend   53.0\n",
       "2        Alaska  AdultWeekend   34.0\n",
       "3       Arizona  AdultWeekend   89.0\n",
       "4       Arizona  AdultWeekend   78.0\n",
       "5    California  AdultWeekend   47.0\n",
       "6    California  AdultWeekend    NaN\n",
       "7    California  AdultWeekend    NaN\n",
       "8    California  AdultWeekend    NaN\n",
       "9    California  AdultWeekend   78.0\n",
       "10   California  AdultWeekend   75.0\n",
       "11   California  AdultWeekend    NaN\n",
       "12   California  AdultWeekend    NaN\n",
       "13   California  AdultWeekend    NaN\n",
       "14   California  AdultWeekend  159.0\n",
       "15   California  AdultWeekend   59.0\n",
       "16   California  AdultWeekend   84.0\n",
       "17   California  AdultWeekend   69.0\n",
       "18   California  AdultWeekend    NaN\n",
       "19   California  AdultWeekend    NaN\n",
       "20   California  AdultWeekend   83.0\n",
       "21   California  AdultWeekend    NaN\n",
       "22   California  AdultWeekend   79.0\n",
       "23   California  AdultWeekend   50.0\n",
       "24   California  AdultWeekend  125.0\n",
       "25   California  AdultWeekend   69.0\n",
       "26     Colorado  AdultWeekend   85.0\n",
       "27     Colorado  AdultWeekend  179.0\n",
       "28     Colorado  AdultWeekend    NaN\n",
       "29     Colorado  AdultWeekend    NaN\n",
       "30     Colorado  AdultWeekend  158.0\n",
       "31     Colorado  AdultWeekend    NaN\n",
       "32     Colorado  AdultWeekend   89.0\n",
       "33     Colorado  AdultWeekend    NaN\n",
       "34     Colorado  AdultWeekend   25.0\n",
       "35     Colorado  AdultWeekend    NaN\n",
       "36     Colorado  AdultWeekend   79.0\n",
       "37     Colorado  AdultWeekend   89.0\n",
       "38     Colorado  AdultWeekend   71.0\n",
       "39     Colorado  AdultWeekend   79.0\n",
       "40     Colorado  AdultWeekend   56.0\n",
       "41     Colorado  AdultWeekend   84.0\n",
       "42     Colorado  AdultWeekend    NaN\n",
       "43     Colorado  AdultWeekend   65.0\n",
       "44     Colorado  AdultWeekend  139.0\n",
       "45     Colorado  AdultWeekend    NaN\n",
       "46     Colorado  AdultWeekend    NaN\n",
       "47     Colorado  AdultWeekend   72.0\n",
       "48  Connecticut  AdultWeekend   65.0\n",
       "49  Connecticut  AdultWeekend   60.0"
      ]
     },
     "execution_count": 27,
     "metadata": {},
     "output_type": "execute_result"
    }
   ],
   "source": [
    "ticket_prices.head(50)"
=======
   "execution_count": null,
   "metadata": {},
   "outputs": [],
   "source": [
    "#Code task 11#\n",
    "#Filter the ski_data dataframe for rows where 'Region' and 'state' are different,\n",
    "#group that by 'state' and perform `value_counts` on the 'Region'\n",
    "(ski_data[ski_data.___ ___ ski_data.___]\n",
    " .groupby(___)[___]\n",
    " .value_counts())"
   ]
  },
  {
   "cell_type": "markdown",
   "metadata": {},
   "source": [
    "The vast majority of the differences are in California, with most Regions being called Sierra Nevada and just one referred to as Northern California."
   ]
  },
  {
   "cell_type": "markdown",
   "metadata": {},
   "source": [
    "#### 2.6.3.3 Number of distinct regions and states<a id='2.6.3.3_Number_of_distinct_regions_and_states'></a>"
   ]
  },
  {
   "cell_type": "code",
   "execution_count": null,
   "metadata": {},
   "outputs": [],
   "source": [
    "#Code task 12#\n",
    "#Select the 'Region' and 'state' columns from ski_data and use the `nunique` method to calculate\n",
    "#the number of unique values in each\n",
    "ski_data[[___, ___]].___"
   ]
  },
  {
   "cell_type": "markdown",
   "metadata": {},
   "source": [
    "Because a few states are split across multiple named regions, there are slightly more unique regions than states."
>>>>>>> Stashed changes
   ]
  },
  {
   "cell_type": "markdown",
   "metadata": {},
   "source": [
<<<<<<< Updated upstream
    "This is now in a format we can pass to [seaborn](https://seaborn.pydata.org/)'s [boxplot](https://seaborn.pydata.org/generated/seaborn.boxplot.html) function to create boxplots of the ticket price distributions for each ticket type for each state."
=======
    "#### 2.6.3.4 Distribution Of Resorts By Region And State<a id='2.6.3.4_Distribution_Of_Resorts_By_Region_And_State'></a>"
   ]
  },
  {
   "cell_type": "markdown",
   "metadata": {},
   "source": [
    "If this is your first time using [matplotlib](https://matplotlib.org/3.2.2/index.html)'s [subplots](https://matplotlib.org/3.2.2/api/_as_gen/matplotlib.pyplot.subplots.html), you may find the online documentation useful."
   ]
  },
  {
   "cell_type": "code",
   "execution_count": null,
   "metadata": {},
   "outputs": [],
   "source": [
    "#Code task 13#\n",
    "#Create two subplots on 1 row and 2 columns with a figsize of (12, 8)\n",
    "fig, ax = plt.subplots(___, ___, figsize=(___))\n",
    "#Specify a horizontal barplot ('barh') as kind of plot (kind=)\n",
    "ski_data.Region.value_counts().plot(kind=___, ax=ax[0])\n",
    "#Give the plot a helpful title of 'Region'\n",
    "ax[0].set_title(___)\n",
    "#Label the xaxis 'Count'\n",
    "ax[0].set_xlabel(___)\n",
    "#Specify a horizontal barplot ('barh') as kind of plot (kind=)\n",
    "ski_data.state.value_counts().plot(kind=___, ax=ax[1])\n",
    "#Give the plot a helpful title of 'state'\n",
    "ax[1].set_title(___)\n",
    "#Label the xaxis 'Count'\n",
    "ax[1].set_xlabel(___)\n",
    "#Give the subplots a little \"breathing room\" with a wspace of 0.5\n",
    "plt.subplots_adjust(wspace=___);\n",
    "#You're encouraged to explore a few different figure sizes, orientations, and spacing here\n",
    "# as the importance of easy-to-read and informative figures is frequently understated\n",
    "# and you will find the ability to tweak figures invaluable later on"
   ]
  },
  {
   "cell_type": "markdown",
   "metadata": {},
   "source": [
    "How's your geography? Looking at the distribution of States, you see New York accounting for the majority of resorts. Our target resort is in Montana, which comes in at 13th place. You should think carefully about how, or whether, you use this information. Does New York command a premium because of its proximity to population? Even if a resort's State were a useful predictor of ticket price, your main interest lies in Montana. Would you want a model that is skewed for accuracy by New York? Should you just filter for Montana and create a Montana-specific model? This would slash your available data volume. Your problem task includes the contextual insight that the data are for resorts all belonging to the same market share. This suggests one might expect prices to be similar amongst them. You can look into this. A boxplot grouped by State is an ideal way to quickly compare prices. Another side note worth bringing up here is that, in reality, the best approach here definitely would include consulting with the client or other domain expert. They might know of good reasons for treating states equivalently or differently. The data scientist is rarely the final arbiter of such a decision. But here, you'll see if we can find any supporting evidence for treating states the same or differently."
   ]
  },
  {
   "cell_type": "markdown",
   "metadata": {},
   "source": [
    "#### 2.6.3.5 Distribution Of Ticket Price By State<a id='2.6.3.5_Distribution_Of_Ticket_Price_By_State'></a>"
   ]
  },
  {
   "cell_type": "markdown",
   "metadata": {},
   "source": [
    "Our primary focus is our Big Mountain resort, in Montana. Does the state give you any clues to help decide what your primary target response feature should be (weekend or weekday ticket prices)?"
   ]
  },
  {
   "cell_type": "markdown",
   "metadata": {},
   "source": [
    "##### 2.6.3.5.1 Average weekend and weekday price by state<a id='2.6.3.5.1_Average_weekend_and_weekday_price_by_state'></a>"
   ]
  },
  {
   "cell_type": "code",
   "execution_count": null,
   "metadata": {},
   "outputs": [],
   "source": [
    "#Code task 14#\n",
    "# Calculate average weekday and weekend price by state and sort by the average of the two\n",
    "# Hint: use the pattern dataframe.groupby(<grouping variable>)[<list of columns>].mean()\n",
    "state_price_means = ski_data.___(___)[[___, ___]].mean()\n",
    "state_price_means.head()"
>>>>>>> Stashed changes
   ]
  },
  {
   "cell_type": "code",
<<<<<<< Updated upstream
   "execution_count": 28,
=======
   "execution_count": 18,
>>>>>>> Stashed changes
   "metadata": {},
   "outputs": [
    {
     "data": {
<<<<<<< Updated upstream
      "image/png": "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\n",
      "text/plain": [
       "<Figure size 864x576 with 1 Axes>"
=======
      "image/png": "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\n",
      "text/plain": [
       "<Figure size 720x720 with 1 Axes>"
>>>>>>> Stashed changes
      ]
     },
     "metadata": {
      "needs_background": "light"
     },
     "output_type": "display_data"
    }
   ],
   "source": [
<<<<<<< Updated upstream
    "#Code task 16#\n",
    "#Create a seaborn boxplot of the ticket price dataframe we created above,\n",
    "#with 'state' on the x-axis, 'Price' as the y-value, and a hue that indicates 'Ticket'\n",
    "#This will use boxplot's x, y, hue, and data arguments.\n",
    "plt.subplots(figsize=(12, 8))\n",
    "sns.boxplot(x='state', y='Price', hue='Ticket', data=ticket_prices)\n",
    "plt.xticks(rotation='vertical')\n",
    "plt.ylabel('Price ($)')\n",
    "plt.xlabel('State');"
   ]
  },
  {
   "cell_type": "markdown",
   "metadata": {},
   "source": [
    "Aside from some relatively expensive ticket prices in California, Colorado, and Utah, most prices appear to lie in a broad band from around 25 to over 100 dollars. Some States show more variability than others. Montana and South Dakota, for example, both show fairly small variability as well as matching weekend and weekday ticket prices. Nevada and Utah, on the other hand, show the most range in prices. Some States, notably North Carolina and Virginia, have weekend prices far higher than weekday prices. You could be inspired from this exploration to consider a few potential groupings of resorts, those with low spread, those with lower averages, and those that charge a premium for weekend tickets. However, you're told that you are taking all resorts to be part of the same market share, you  could argue against further segment the resorts. Nevertheless, ways to consider using the State information in your modelling include:\n",
    "\n",
    "* disregard State completely\n",
    "* retain all State information\n",
    "* retain State in the form of Montana vs not Montana, as our target resort is in Montana\n",
    "\n",
    "You've also noted another effect above: some States show a marked difference between weekday and weekend ticket prices. It may make sense to allow a model to take into account not just State but also weekend vs weekday."
=======
    "# The next bit simply reorders the index by increasing average of weekday and weekend prices\n",
    "# Compare the index order you get from\n",
    "# state_price_means.index\n",
    "# with\n",
    "# state_price_means.mean(axis=1).sort_values(ascending=False).index\n",
    "# See how this expression simply sits within the reindex()\n",
    "(state_price_means.reindex(index=state_price_means.mean(axis=1)\n",
    "    .sort_values(ascending=False)\n",
    "    .index)\n",
    "    .plot(kind='barh', figsize=(10, 10), title='Average ticket price by State'))\n",
    "plt.xlabel('Price ($)');"
   ]
  },
  {
   "cell_type": "code",
   "execution_count": null,
   "metadata": {},
   "outputs": [],
   "source": [
    "The figure above represents a dataframe with two columns, one for the average prices of each kind of ticket. This tells you how the average ticket price varies from state to state. But can you get more insight into the difference in the distributions between states?"
>>>>>>> Stashed changes
   ]
  },
  {
   "cell_type": "markdown",
   "metadata": {},
   "source": [
<<<<<<< Updated upstream
    "Thus we currently have two main questions you want to resolve:\n",
    "\n",
    "* What do you do about the two types of ticket price?\n",
    "* What do you do about the state information?"
=======
    "##### 2.6.3.5.2 Distribution of weekday and weekend price by state<a id='2.6.3.5.2_Distribution_of_weekday_and_weekend_price_by_state'></a>"
>>>>>>> Stashed changes
   ]
  },
  {
   "cell_type": "markdown",
   "metadata": {},
   "source": [
<<<<<<< Updated upstream
    "### 2.6.4 Numeric Features<a id='2.6.4_Numeric_Features'></a>"
=======
    "Next, you can transform the data into a single column for price with a new categorical column that represents the ticket type."
>>>>>>> Stashed changes
   ]
  },
  {
   "cell_type": "code",
<<<<<<< Updated upstream
   "execution_count": 29,
   "metadata": {},
   "outputs": [
    {
     "ename": "SyntaxError",
     "evalue": "invalid syntax (<ipython-input-29-13121604f3a2>, line 1)",
     "output_type": "error",
     "traceback": [
      "\u001b[1;36m  File \u001b[1;32m\"<ipython-input-29-13121604f3a2>\"\u001b[1;36m, line \u001b[1;32m1\u001b[0m\n\u001b[1;33m    Having decided to reserve judgement on how exactly you utilize the State, turn your attention to cleaning the numeric features.\u001b[0m\n\u001b[1;37m           ^\u001b[0m\n\u001b[1;31mSyntaxError\u001b[0m\u001b[1;31m:\u001b[0m invalid syntax\n"
     ]
    }
   ],
   "source": [
    "Having decided to reserve judgement on how exactly you utilize the State, turn your attention to cleaning the numeric features."
   ]
  },
  {
   "cell_type": "markdown",
   "metadata": {},
   "source": [
    "#### 2.6.4.1 Numeric data summary<a id='2.6.4.1_Numeric_data_summary'></a>"
=======
   "execution_count": null,
   "metadata": {},
   "outputs": [],
   "source": [
    "#Code task 15#\n",
    "#Use the pd.melt function, pass in the ski_data columns 'state', 'AdultWeekday', and 'Adultweekend' only,\n",
    "#specify 'state' for `id_vars`\n",
    "#gather the ticket prices from the 'Adultweekday' and 'AdultWeekend' columns using the `value_vars` argument,\n",
    "#call the resultant price column 'Price' via the `value_name` argument,\n",
    "#name the weekday/weekend indicator column 'Ticket' via the `var_name` argument\n",
    "ticket_prices = pd.melt(ski_data[[___, ___, ___]], \n",
    "                        id_vars=___, \n",
    "                        var_name=___, \n",
    "                        value_vars=[___, ___], \n",
    "                        value_name=___)"
>>>>>>> Stashed changes
   ]
  },
  {
   "cell_type": "code",
<<<<<<< Updated upstream
   "execution_count": 30,
=======
   "execution_count": 20,
>>>>>>> Stashed changes
   "metadata": {},
   "outputs": [
    {
     "data": {
      "text/html": [
       "<div>\n",
       "<style scoped>\n",
       "    .dataframe tbody tr th:only-of-type {\n",
       "        vertical-align: middle;\n",
       "    }\n",
       "\n",
       "    .dataframe tbody tr th {\n",
       "        vertical-align: top;\n",
       "    }\n",
       "\n",
       "    .dataframe thead th {\n",
       "        text-align: right;\n",
       "    }\n",
       "</style>\n",
       "<table border=\"1\" class=\"dataframe\">\n",
       "  <thead>\n",
       "    <tr style=\"text-align: right;\">\n",
       "      <th></th>\n",
<<<<<<< Updated upstream
       "      <th>count</th>\n",
       "      <th>mean</th>\n",
       "      <th>std</th>\n",
       "      <th>min</th>\n",
       "      <th>25%</th>\n",
       "      <th>50%</th>\n",
       "      <th>75%</th>\n",
       "      <th>max</th>\n",
=======
       "      <th>state</th>\n",
       "      <th>Ticket</th>\n",
       "      <th>Price</th>\n",
>>>>>>> Stashed changes
       "    </tr>\n",
       "  </thead>\n",
       "  <tbody>\n",
       "    <tr>\n",
<<<<<<< Updated upstream
       "      <th>summit_elev</th>\n",
       "      <td>330.0</td>\n",
       "      <td>4591.818182</td>\n",
       "      <td>3735.535934</td>\n",
       "      <td>315.0</td>\n",
       "      <td>1403.75</td>\n",
       "      <td>3127.5</td>\n",
       "      <td>7806.00</td>\n",
       "      <td>13487.0</td>\n",
       "    </tr>\n",
       "    <tr>\n",
       "      <th>vertical_drop</th>\n",
       "      <td>330.0</td>\n",
       "      <td>1215.427273</td>\n",
       "      <td>947.864557</td>\n",
       "      <td>60.0</td>\n",
       "      <td>461.25</td>\n",
       "      <td>964.5</td>\n",
       "      <td>1800.00</td>\n",
       "      <td>4425.0</td>\n",
       "    </tr>\n",
       "    <tr>\n",
       "      <th>base_elev</th>\n",
       "      <td>330.0</td>\n",
       "      <td>3374.000000</td>\n",
       "      <td>3117.121621</td>\n",
       "      <td>70.0</td>\n",
       "      <td>869.00</td>\n",
       "      <td>1561.5</td>\n",
       "      <td>6325.25</td>\n",
       "      <td>10800.0</td>\n",
       "    </tr>\n",
       "    <tr>\n",
       "      <th>trams</th>\n",
       "      <td>330.0</td>\n",
       "      <td>0.172727</td>\n",
       "      <td>0.559946</td>\n",
       "      <td>0.0</td>\n",
       "      <td>0.00</td>\n",
       "      <td>0.0</td>\n",
       "      <td>0.00</td>\n",
       "      <td>4.0</td>\n",
       "    </tr>\n",
       "    <tr>\n",
       "      <th>fastEight</th>\n",
       "      <td>164.0</td>\n",
       "      <td>0.006098</td>\n",
       "      <td>0.078087</td>\n",
       "      <td>0.0</td>\n",
       "      <td>0.00</td>\n",
       "      <td>0.0</td>\n",
       "      <td>0.00</td>\n",
       "      <td>1.0</td>\n",
       "    </tr>\n",
       "    <tr>\n",
       "      <th>fastSixes</th>\n",
       "      <td>330.0</td>\n",
       "      <td>0.184848</td>\n",
       "      <td>0.651685</td>\n",
       "      <td>0.0</td>\n",
       "      <td>0.00</td>\n",
       "      <td>0.0</td>\n",
       "      <td>0.00</td>\n",
       "      <td>6.0</td>\n",
       "    </tr>\n",
       "    <tr>\n",
       "      <th>fastQuads</th>\n",
       "      <td>330.0</td>\n",
       "      <td>1.018182</td>\n",
       "      <td>2.198294</td>\n",
       "      <td>0.0</td>\n",
       "      <td>0.00</td>\n",
       "      <td>0.0</td>\n",
       "      <td>1.00</td>\n",
       "      <td>15.0</td>\n",
       "    </tr>\n",
       "    <tr>\n",
       "      <th>quad</th>\n",
       "      <td>330.0</td>\n",
       "      <td>0.933333</td>\n",
       "      <td>1.312245</td>\n",
       "      <td>0.0</td>\n",
       "      <td>0.00</td>\n",
       "      <td>0.0</td>\n",
       "      <td>1.00</td>\n",
       "      <td>8.0</td>\n",
       "    </tr>\n",
       "    <tr>\n",
       "      <th>triple</th>\n",
       "      <td>330.0</td>\n",
       "      <td>1.500000</td>\n",
       "      <td>1.619130</td>\n",
       "      <td>0.0</td>\n",
       "      <td>0.00</td>\n",
       "      <td>1.0</td>\n",
       "      <td>2.00</td>\n",
       "      <td>8.0</td>\n",
       "    </tr>\n",
       "    <tr>\n",
       "      <th>double</th>\n",
       "      <td>330.0</td>\n",
       "      <td>1.833333</td>\n",
       "      <td>1.815028</td>\n",
       "      <td>0.0</td>\n",
       "      <td>1.00</td>\n",
       "      <td>1.0</td>\n",
       "      <td>3.00</td>\n",
       "      <td>14.0</td>\n",
       "    </tr>\n",
       "    <tr>\n",
       "      <th>surface</th>\n",
       "      <td>330.0</td>\n",
       "      <td>2.621212</td>\n",
       "      <td>2.059636</td>\n",
       "      <td>0.0</td>\n",
       "      <td>1.00</td>\n",
       "      <td>2.0</td>\n",
       "      <td>3.00</td>\n",
       "      <td>15.0</td>\n",
       "    </tr>\n",
       "    <tr>\n",
       "      <th>total_chairs</th>\n",
       "      <td>330.0</td>\n",
       "      <td>8.266667</td>\n",
       "      <td>5.798683</td>\n",
       "      <td>0.0</td>\n",
       "      <td>5.00</td>\n",
       "      <td>7.0</td>\n",
       "      <td>10.00</td>\n",
       "      <td>41.0</td>\n",
       "    </tr>\n",
       "    <tr>\n",
       "      <th>Runs</th>\n",
       "      <td>326.0</td>\n",
       "      <td>48.214724</td>\n",
       "      <td>46.364077</td>\n",
       "      <td>3.0</td>\n",
       "      <td>19.00</td>\n",
       "      <td>33.0</td>\n",
       "      <td>60.00</td>\n",
       "      <td>341.0</td>\n",
       "    </tr>\n",
       "    <tr>\n",
       "      <th>TerrainParks</th>\n",
       "      <td>279.0</td>\n",
       "      <td>2.820789</td>\n",
       "      <td>2.008113</td>\n",
       "      <td>1.0</td>\n",
       "      <td>1.00</td>\n",
       "      <td>2.0</td>\n",
       "      <td>4.00</td>\n",
       "      <td>14.0</td>\n",
       "    </tr>\n",
       "    <tr>\n",
       "      <th>LongestRun_mi</th>\n",
       "      <td>325.0</td>\n",
       "      <td>1.433231</td>\n",
       "      <td>1.156171</td>\n",
       "      <td>0.0</td>\n",
       "      <td>0.50</td>\n",
       "      <td>1.0</td>\n",
       "      <td>2.00</td>\n",
       "      <td>6.0</td>\n",
       "    </tr>\n",
       "    <tr>\n",
       "      <th>SkiableTerrain_ac</th>\n",
       "      <td>327.0</td>\n",
       "      <td>739.801223</td>\n",
       "      <td>1816.167441</td>\n",
       "      <td>8.0</td>\n",
       "      <td>85.00</td>\n",
       "      <td>200.0</td>\n",
       "      <td>690.00</td>\n",
       "      <td>26819.0</td>\n",
       "    </tr>\n",
       "    <tr>\n",
       "      <th>Snow Making_ac</th>\n",
       "      <td>284.0</td>\n",
       "      <td>174.873239</td>\n",
       "      <td>261.336125</td>\n",
       "      <td>2.0</td>\n",
       "      <td>50.00</td>\n",
       "      <td>100.0</td>\n",
       "      <td>200.50</td>\n",
       "      <td>3379.0</td>\n",
       "    </tr>\n",
       "    <tr>\n",
       "      <th>daysOpenLastYear</th>\n",
       "      <td>279.0</td>\n",
       "      <td>115.103943</td>\n",
       "      <td>35.063251</td>\n",
       "      <td>3.0</td>\n",
       "      <td>97.00</td>\n",
       "      <td>114.0</td>\n",
       "      <td>135.00</td>\n",
       "      <td>305.0</td>\n",
       "    </tr>\n",
       "    <tr>\n",
       "      <th>yearsOpen</th>\n",
       "      <td>329.0</td>\n",
       "      <td>63.656535</td>\n",
       "      <td>109.429928</td>\n",
       "      <td>6.0</td>\n",
       "      <td>50.00</td>\n",
       "      <td>58.0</td>\n",
       "      <td>69.00</td>\n",
       "      <td>2019.0</td>\n",
       "    </tr>\n",
       "    <tr>\n",
       "      <th>averageSnowfall</th>\n",
       "      <td>316.0</td>\n",
       "      <td>185.316456</td>\n",
       "      <td>136.356842</td>\n",
       "      <td>18.0</td>\n",
       "      <td>69.00</td>\n",
       "      <td>150.0</td>\n",
       "      <td>300.00</td>\n",
       "      <td>669.0</td>\n",
       "    </tr>\n",
       "    <tr>\n",
       "      <th>AdultWeekday</th>\n",
       "      <td>276.0</td>\n",
       "      <td>57.916957</td>\n",
       "      <td>26.140126</td>\n",
       "      <td>15.0</td>\n",
       "      <td>40.00</td>\n",
       "      <td>50.0</td>\n",
       "      <td>71.00</td>\n",
       "      <td>179.0</td>\n",
       "    </tr>\n",
       "    <tr>\n",
       "      <th>AdultWeekend</th>\n",
       "      <td>279.0</td>\n",
       "      <td>64.166810</td>\n",
       "      <td>24.554584</td>\n",
       "      <td>17.0</td>\n",
       "      <td>47.00</td>\n",
       "      <td>60.0</td>\n",
       "      <td>77.50</td>\n",
       "      <td>179.0</td>\n",
       "    </tr>\n",
       "    <tr>\n",
       "      <th>projectedDaysOpen</th>\n",
       "      <td>283.0</td>\n",
       "      <td>120.053004</td>\n",
       "      <td>31.045963</td>\n",
       "      <td>30.0</td>\n",
       "      <td>100.00</td>\n",
       "      <td>120.0</td>\n",
       "      <td>139.50</td>\n",
       "      <td>305.0</td>\n",
       "    </tr>\n",
       "    <tr>\n",
       "      <th>NightSkiing_ac</th>\n",
       "      <td>187.0</td>\n",
       "      <td>100.395722</td>\n",
       "      <td>105.169620</td>\n",
       "      <td>2.0</td>\n",
       "      <td>40.00</td>\n",
       "      <td>72.0</td>\n",
       "      <td>114.00</td>\n",
       "      <td>650.0</td>\n",
=======
       "      <th>0</th>\n",
       "      <td>Alaska</td>\n",
       "      <td>AdultWeekday</td>\n",
       "      <td>65.0</td>\n",
       "    </tr>\n",
       "    <tr>\n",
       "      <th>1</th>\n",
       "      <td>Alaska</td>\n",
       "      <td>AdultWeekday</td>\n",
       "      <td>47.0</td>\n",
       "    </tr>\n",
       "    <tr>\n",
       "      <th>2</th>\n",
       "      <td>Alaska</td>\n",
       "      <td>AdultWeekday</td>\n",
       "      <td>30.0</td>\n",
       "    </tr>\n",
       "    <tr>\n",
       "      <th>3</th>\n",
       "      <td>Arizona</td>\n",
       "      <td>AdultWeekday</td>\n",
       "      <td>89.0</td>\n",
       "    </tr>\n",
       "    <tr>\n",
       "      <th>4</th>\n",
       "      <td>Arizona</td>\n",
       "      <td>AdultWeekday</td>\n",
       "      <td>74.0</td>\n",
>>>>>>> Stashed changes
       "    </tr>\n",
       "  </tbody>\n",
       "</table>\n",
       "</div>"
      ],
      "text/plain": [
<<<<<<< Updated upstream
       "                   count         mean          std    min      25%     50%  \\\n",
       "summit_elev        330.0  4591.818182  3735.535934  315.0  1403.75  3127.5   \n",
       "vertical_drop      330.0  1215.427273   947.864557   60.0   461.25   964.5   \n",
       "base_elev          330.0  3374.000000  3117.121621   70.0   869.00  1561.5   \n",
       "trams              330.0     0.172727     0.559946    0.0     0.00     0.0   \n",
       "fastEight          164.0     0.006098     0.078087    0.0     0.00     0.0   \n",
       "fastSixes          330.0     0.184848     0.651685    0.0     0.00     0.0   \n",
       "fastQuads          330.0     1.018182     2.198294    0.0     0.00     0.0   \n",
       "quad               330.0     0.933333     1.312245    0.0     0.00     0.0   \n",
       "triple             330.0     1.500000     1.619130    0.0     0.00     1.0   \n",
       "double             330.0     1.833333     1.815028    0.0     1.00     1.0   \n",
       "surface            330.0     2.621212     2.059636    0.0     1.00     2.0   \n",
       "total_chairs       330.0     8.266667     5.798683    0.0     5.00     7.0   \n",
       "Runs               326.0    48.214724    46.364077    3.0    19.00    33.0   \n",
       "TerrainParks       279.0     2.820789     2.008113    1.0     1.00     2.0   \n",
       "LongestRun_mi      325.0     1.433231     1.156171    0.0     0.50     1.0   \n",
       "SkiableTerrain_ac  327.0   739.801223  1816.167441    8.0    85.00   200.0   \n",
       "Snow Making_ac     284.0   174.873239   261.336125    2.0    50.00   100.0   \n",
       "daysOpenLastYear   279.0   115.103943    35.063251    3.0    97.00   114.0   \n",
       "yearsOpen          329.0    63.656535   109.429928    6.0    50.00    58.0   \n",
       "averageSnowfall    316.0   185.316456   136.356842   18.0    69.00   150.0   \n",
       "AdultWeekday       276.0    57.916957    26.140126   15.0    40.00    50.0   \n",
       "AdultWeekend       279.0    64.166810    24.554584   17.0    47.00    60.0   \n",
       "projectedDaysOpen  283.0   120.053004    31.045963   30.0   100.00   120.0   \n",
       "NightSkiing_ac     187.0   100.395722   105.169620    2.0    40.00    72.0   \n",
       "\n",
       "                       75%      max  \n",
       "summit_elev        7806.00  13487.0  \n",
       "vertical_drop      1800.00   4425.0  \n",
       "base_elev          6325.25  10800.0  \n",
       "trams                 0.00      4.0  \n",
       "fastEight             0.00      1.0  \n",
       "fastSixes             0.00      6.0  \n",
       "fastQuads             1.00     15.0  \n",
       "quad                  1.00      8.0  \n",
       "triple                2.00      8.0  \n",
       "double                3.00     14.0  \n",
       "surface               3.00     15.0  \n",
       "total_chairs         10.00     41.0  \n",
       "Runs                 60.00    341.0  \n",
       "TerrainParks          4.00     14.0  \n",
       "LongestRun_mi         2.00      6.0  \n",
       "SkiableTerrain_ac   690.00  26819.0  \n",
       "Snow Making_ac      200.50   3379.0  \n",
       "daysOpenLastYear    135.00    305.0  \n",
       "yearsOpen            69.00   2019.0  \n",
       "averageSnowfall     300.00    669.0  \n",
       "AdultWeekday         71.00    179.0  \n",
       "AdultWeekend         77.50    179.0  \n",
       "projectedDaysOpen   139.50    305.0  \n",
       "NightSkiing_ac      114.00    650.0  "
      ]
     },
     "execution_count": 30,
=======
       "     state        Ticket  Price\n",
       "0   Alaska  AdultWeekday   65.0\n",
       "1   Alaska  AdultWeekday   47.0\n",
       "2   Alaska  AdultWeekday   30.0\n",
       "3  Arizona  AdultWeekday   89.0\n",
       "4  Arizona  AdultWeekday   74.0"
      ]
     },
     "execution_count": 20,
>>>>>>> Stashed changes
     "metadata": {},
     "output_type": "execute_result"
    }
   ],
   "source": [
<<<<<<< Updated upstream
=======
    "ticket_prices.head()"
   ]
  },
  {
   "cell_type": "markdown",
   "metadata": {},
   "source": [
    "This is now in a format we can pass to [seaborn](https://seaborn.pydata.org/)'s [boxplot](https://seaborn.pydata.org/generated/seaborn.boxplot.html) function to create boxplots of the ticket price distributions for each ticket type for each state."
   ]
  },
  {
   "cell_type": "code",
   "execution_count": null,
   "metadata": {},
   "outputs": [],
   "source": [
    "#Code task 16#\n",
    "#Create a seaborn boxplot of the ticket price dataframe we created above,\n",
    "#with 'state' on the x-axis, 'Price' as the y-value, and a hue that indicates 'Ticket'\n",
    "#This will use boxplot's x, y, hue, and data arguments.\n",
    "plt.subplots(figsize=(12, 8))\n",
    "sns.boxplot(x=___, y=___, hue=___, data=ticket_prices)\n",
    "plt.xticks(rotation='vertical')\n",
    "plt.ylabel('Price ($)')\n",
    "plt.xlabel('State');"
   ]
  },
  {
   "cell_type": "markdown",
   "metadata": {},
   "source": [
    "Aside from some relatively expensive ticket prices in California, Colorado, and Utah, most prices appear to lie in a broad band from around 25 to over 100 dollars. Some States show more variability than others. Montana and South Dakota, for example, both show fairly small variability as well as matching weekend and weekday ticket prices. Nevada and Utah, on the other hand, show the most range in prices. Some States, notably North Carolina and Virginia, have weekend prices far higher than weekday prices. You could be inspired from this exploration to consider a few potential groupings of resorts, those with low spread, those with lower averages, and those that charge a premium for weekend tickets. However, you're told that you are taking all resorts to be part of the same market share, you  could argue against further segment the resorts. Nevertheless, ways to consider using the State information in your modelling include:\n",
    "\n",
    "* disregard State completely\n",
    "* retain all State information\n",
    "* retain State in the form of Montana vs not Montana, as our target resort is in Montana\n",
    "\n",
    "You've also noted another effect above: some States show a marked difference between weekday and weekend ticket prices. It may make sense to allow a model to take into account not just State but also weekend vs weekday."
   ]
  },
  {
   "cell_type": "markdown",
   "metadata": {},
   "source": [
    "Thus we currently have two main questions you want to resolve:\n",
    "\n",
    "* What do you do about the two types of ticket price?\n",
    "* What do you do about the state information?"
   ]
  },
  {
   "cell_type": "markdown",
   "metadata": {},
   "source": [
    "### 2.6.4 Numeric Features<a id='2.6.4_Numeric_Features'></a>"
   ]
  },
  {
   "cell_type": "code",
   "execution_count": null,
   "metadata": {},
   "outputs": [],
   "source": [
    "Having decided to reserve judgement on how exactly you utilize the State, turn your attention to cleaning the numeric features."
   ]
  },
  {
   "cell_type": "markdown",
   "metadata": {},
   "source": [
    "#### 2.6.4.1 Numeric data summary<a id='2.6.4.1_Numeric_data_summary'></a>"
   ]
  },
  {
   "cell_type": "code",
   "execution_count": null,
   "metadata": {},
   "outputs": [],
   "source": [
>>>>>>> Stashed changes
    "#Code task 17#\n",
    "#Call ski_data's `describe` method for a statistical summary of the numerical columns\n",
    "#Hint: there are fewer summary stat columns than features, so displaying the transpose\n",
    "#will be useful again\n",
<<<<<<< Updated upstream
    "ski_data.describe().transpose()"
=======
    "ski_data.___.___"
>>>>>>> Stashed changes
   ]
  },
  {
   "cell_type": "markdown",
   "metadata": {},
   "source": [
    "Recall you're missing the ticket prices for some 16% of resorts. This is a fundamental problem that means you simply lack the required data for those resorts and will have to drop those records. But you may have a weekend price and not a weekday price, or vice versa. You want to keep any price you have."
   ]
  },
  {
   "cell_type": "code",
<<<<<<< Updated upstream
   "execution_count": 31,
=======
   "execution_count": 23,
>>>>>>> Stashed changes
   "metadata": {},
   "outputs": [
    {
     "data": {
      "text/plain": [
       "0    82.424242\n",
       "2    14.242424\n",
       "1     3.333333\n",
       "dtype: float64"
      ]
     },
<<<<<<< Updated upstream
     "execution_count": 31,
=======
     "execution_count": 23,
>>>>>>> Stashed changes
     "metadata": {},
     "output_type": "execute_result"
    }
   ],
   "source": [
    "missing_price = ski_data[['AdultWeekend', 'AdultWeekday']].isnull().sum(axis=1)\n",
    "missing_price.value_counts()/len(missing_price) * 100"
   ]
  },
  {
   "cell_type": "markdown",
   "metadata": {},
   "source": [
    "Just over 82% of resorts have no missing ticket price, 3% are missing one value, and 14% are missing both. You will definitely want to drop the records for which you have no price information, however you will not do so just yet. There may still be useful information about the distributions of other features in that 14% of the data."
   ]
  },
  {
   "cell_type": "markdown",
   "metadata": {},
   "source": [
    "#### 2.6.4.2 Distributions Of Feature Values<a id='2.6.4.2_Distributions_Of_Feature_Values'></a>"
   ]
  },
  {
   "cell_type": "markdown",
   "metadata": {},
   "source": [
    "Note that, although we are still in the 'data wrangling and cleaning' phase rather than exploratory data analysis, looking at distributions of features is immensely useful in getting a feel for whether the values look sensible and whether there are any obvious outliers to investigate. Some exploratory data analysis belongs here, and data wrangling will inevitably occur later on. It's more a matter of emphasis. Here, we're interesting in focusing on whether distributions look plausible or wrong. Later on, we're more interested in relationships and patterns."
   ]
  },
  {
   "cell_type": "code",
<<<<<<< Updated upstream
   "execution_count": 32,
   "metadata": {},
   "outputs": [
    {
     "data": {
      "image/png": "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\n",
      "text/plain": [
       "<Figure size 1080x720 with 25 Axes>"
      ]
     },
     "metadata": {
      "needs_background": "light"
     },
     "output_type": "display_data"
    }
   ],
=======
   "execution_count": null,
   "metadata": {},
   "outputs": [],
>>>>>>> Stashed changes
   "source": [
    "#Code task 18#\n",
    "#Call ski_data's `hist` method to plot histograms of each of the numeric features\n",
    "#Try passing it an argument figsize=(15,10)\n",
    "#Try calling plt.subplots_adjust() with an argument hspace=0.5 to adjust the spacing\n",
    "#It's important you create legible and easy-to-read plots\n",
<<<<<<< Updated upstream
    "ski_data.hist(figsize=(15,10))\n",
    "plt.subplots_adjust(hspace=0.5);\n",
=======
    "ski_data.___(___)\n",
    "#plt.subplots_adjust(hspace=___);\n",
>>>>>>> Stashed changes
    "#Hint: notice how the terminating ';' \"swallows\" some messy output and leads to a tidier notebook"
   ]
  },
  {
   "cell_type": "markdown",
   "metadata": {},
   "source": [
    "What features do we have possible cause for concern about and why?\n",
    "\n",
    "* SkiableTerrain_ac because values are clustered down the low end,\n",
    "* Snow Making_ac for the same reason,\n",
    "* fastEight because all but one value is 0 so it has very little variance, and half the values are missing,\n",
    "* fastSixes raises an amber flag; it has more variability, but still mostly 0,\n",
    "* trams also may get an amber flag for the same reason,\n",
    "* yearsOpen because most values are low but it has a maximum of 2019, which strongly suggests someone recorded calendar year rather than number of years."
   ]
  },
  {
   "cell_type": "markdown",
   "metadata": {},
   "source": [
    "##### 2.6.4.2.1 SkiableTerrain_ac<a id='2.6.4.2.1_SkiableTerrain_ac'></a>"
   ]
  },
  {
   "cell_type": "code",
<<<<<<< Updated upstream
   "execution_count": 33,
   "metadata": {},
   "outputs": [
    {
     "data": {
      "text/plain": [
       "39    Silverton Mountain\n",
       "Name: Name, dtype: object"
      ]
     },
     "execution_count": 33,
     "metadata": {},
     "output_type": "execute_result"
    }
   ],
   "source": [
    "#Code task 19#\n",
    "#Filter the 'SkiableTerrain_ac' column to print the values greater than 10000\n",
    "ski_data.Name[ski_data.SkiableTerrain_ac > 10000]"
   ]
  },
  {
   "cell_type": "markdown",
   "metadata": {},
   "source": [
    "**Q: 2** One resort has an incredibly large skiable terrain area! Which is it?"
   ]
  },
  {
   "cell_type": "code",
   "execution_count": 34,
   "metadata": {},
   "outputs": [
    {
     "data": {
      "text/html": [
       "<div>\n",
       "<style scoped>\n",
       "    .dataframe tbody tr th:only-of-type {\n",
       "        vertical-align: middle;\n",
       "    }\n",
       "\n",
       "    .dataframe tbody tr th {\n",
       "        vertical-align: top;\n",
       "    }\n",
       "\n",
       "    .dataframe thead th {\n",
       "        text-align: right;\n",
       "    }\n",
       "</style>\n",
       "<table border=\"1\" class=\"dataframe\">\n",
       "  <thead>\n",
       "    <tr style=\"text-align: right;\">\n",
       "      <th></th>\n",
       "      <th>39</th>\n",
       "    </tr>\n",
       "  </thead>\n",
       "  <tbody>\n",
       "    <tr>\n",
       "      <th>Name</th>\n",
       "      <td>Silverton Mountain</td>\n",
       "    </tr>\n",
       "    <tr>\n",
       "      <th>Region</th>\n",
       "      <td>Colorado</td>\n",
       "    </tr>\n",
       "    <tr>\n",
       "      <th>state</th>\n",
       "      <td>Colorado</td>\n",
       "    </tr>\n",
       "    <tr>\n",
       "      <th>summit_elev</th>\n",
       "      <td>13487</td>\n",
       "    </tr>\n",
       "    <tr>\n",
       "      <th>vertical_drop</th>\n",
       "      <td>3087</td>\n",
       "    </tr>\n",
       "    <tr>\n",
       "      <th>base_elev</th>\n",
       "      <td>10400</td>\n",
       "    </tr>\n",
       "    <tr>\n",
       "      <th>trams</th>\n",
       "      <td>0</td>\n",
       "    </tr>\n",
       "    <tr>\n",
       "      <th>fastEight</th>\n",
       "      <td>0.0</td>\n",
       "    </tr>\n",
       "    <tr>\n",
       "      <th>fastSixes</th>\n",
       "      <td>0</td>\n",
       "    </tr>\n",
       "    <tr>\n",
       "      <th>fastQuads</th>\n",
       "      <td>0</td>\n",
       "    </tr>\n",
       "    <tr>\n",
       "      <th>quad</th>\n",
       "      <td>0</td>\n",
       "    </tr>\n",
       "    <tr>\n",
       "      <th>triple</th>\n",
       "      <td>0</td>\n",
       "    </tr>\n",
       "    <tr>\n",
       "      <th>double</th>\n",
       "      <td>1</td>\n",
       "    </tr>\n",
       "    <tr>\n",
       "      <th>surface</th>\n",
       "      <td>0</td>\n",
       "    </tr>\n",
       "    <tr>\n",
       "      <th>total_chairs</th>\n",
       "      <td>1</td>\n",
       "    </tr>\n",
       "    <tr>\n",
       "      <th>Runs</th>\n",
       "      <td>NaN</td>\n",
       "    </tr>\n",
       "    <tr>\n",
       "      <th>TerrainParks</th>\n",
       "      <td>NaN</td>\n",
       "    </tr>\n",
       "    <tr>\n",
       "      <th>LongestRun_mi</th>\n",
       "      <td>1.5</td>\n",
       "    </tr>\n",
       "    <tr>\n",
       "      <th>SkiableTerrain_ac</th>\n",
       "      <td>26819.0</td>\n",
       "    </tr>\n",
       "    <tr>\n",
       "      <th>Snow Making_ac</th>\n",
       "      <td>NaN</td>\n",
       "    </tr>\n",
       "    <tr>\n",
       "      <th>daysOpenLastYear</th>\n",
       "      <td>175.0</td>\n",
       "    </tr>\n",
       "    <tr>\n",
       "      <th>yearsOpen</th>\n",
       "      <td>17.0</td>\n",
       "    </tr>\n",
       "    <tr>\n",
       "      <th>averageSnowfall</th>\n",
       "      <td>400.0</td>\n",
       "    </tr>\n",
       "    <tr>\n",
       "      <th>AdultWeekday</th>\n",
       "      <td>79.0</td>\n",
       "    </tr>\n",
       "    <tr>\n",
       "      <th>AdultWeekend</th>\n",
       "      <td>79.0</td>\n",
       "    </tr>\n",
       "    <tr>\n",
       "      <th>projectedDaysOpen</th>\n",
       "      <td>181.0</td>\n",
       "    </tr>\n",
       "    <tr>\n",
       "      <th>NightSkiing_ac</th>\n",
       "      <td>NaN</td>\n",
       "    </tr>\n",
       "  </tbody>\n",
       "</table>\n",
       "</div>"
      ],
      "text/plain": [
       "                                   39\n",
       "Name               Silverton Mountain\n",
       "Region                       Colorado\n",
       "state                        Colorado\n",
       "summit_elev                     13487\n",
       "vertical_drop                    3087\n",
       "base_elev                       10400\n",
       "trams                               0\n",
       "fastEight                         0.0\n",
       "fastSixes                           0\n",
       "fastQuads                           0\n",
       "quad                                0\n",
       "triple                              0\n",
       "double                              1\n",
       "surface                             0\n",
       "total_chairs                        1\n",
       "Runs                              NaN\n",
       "TerrainParks                      NaN\n",
       "LongestRun_mi                     1.5\n",
       "SkiableTerrain_ac             26819.0\n",
       "Snow Making_ac                    NaN\n",
       "daysOpenLastYear                175.0\n",
       "yearsOpen                        17.0\n",
       "averageSnowfall                 400.0\n",
       "AdultWeekday                     79.0\n",
       "AdultWeekend                     79.0\n",
       "projectedDaysOpen               181.0\n",
       "NightSkiing_ac                    NaN"
      ]
     },
     "execution_count": 34,
     "metadata": {},
     "output_type": "execute_result"
    }
   ],
=======
   "execution_count": null,
   "metadata": {},
   "outputs": [],
   "source": [
    "#Code task 19#\n",
    "#Filter the 'SkiableTerrain_ac' column to print the values greater than 10000\n",
    "ski_data.___[ski_data.___ > ___]"
   ]
  },
  {
   "cell_type": "markdown",
   "metadata": {},
   "source": [
    "**Q: 2** One resort has an incredibly large skiable terrain area! Which is it?"
   ]
  },
  {
   "cell_type": "code",
   "execution_count": null,
   "metadata": {},
   "outputs": [],
>>>>>>> Stashed changes
   "source": [
    "#Code task 20#\n",
    "#Now you know there's only one, print the whole row to investigate all values, including seeing the resort name\n",
    "#Hint: don't forget the transpose will be helpful here\n",
<<<<<<< Updated upstream
    "ski_data[ski_data.SkiableTerrain_ac > 10000].transpose()"
=======
    "ski_data[ski_data.___ > ___].___"
>>>>>>> Stashed changes
   ]
  },
  {
   "cell_type": "markdown",
   "metadata": {},
   "source": [
    "**A: 2** Your answer here"
   ]
  },
  {
   "cell_type": "markdown",
   "metadata": {},
   "source": [
    "But what can you do when you have one record that seems highly suspicious?"
   ]
  },
  {
   "cell_type": "markdown",
   "metadata": {},
   "source": [
    "You can see if your data are correct. Search for \"silverton mountain skiable area\". If you do this, you get some [useful information](https://www.google.com/search?q=silverton+mountain+skiable+area)."
   ]
  },
  {
   "cell_type": "markdown",
   "metadata": {},
   "source": [
    "![Silverton Mountain information](images/silverton_mountain_info.png)"
   ]
  },
  {
   "cell_type": "markdown",
   "metadata": {},
   "source": [
    "You can spot check data. You see your top and base elevation values agree, but the skiable area is very different. Your suspect value is 26819, but the value you've just looked up is 1819. The last three digits agree. This sort of error could have occured in transmission or some editing or transcription stage. You could plausibly replace the suspect value with the one you've just obtained. Another cautionary note to make here is that although you're doing this in order to progress with your analysis, this is most definitely an issue that should have been raised and fed back to the client or data originator as a query. You should view this \"data correction\" step as a means to continue (documenting it carefully as you do in this notebook) rather than an ultimate decision as to what is correct."
   ]
  },
  {
   "cell_type": "code",
<<<<<<< Updated upstream
   "execution_count": 35,
   "metadata": {},
   "outputs": [
    {
     "data": {
      "text/plain": [
       "26819.0"
      ]
     },
     "execution_count": 35,
     "metadata": {},
     "output_type": "execute_result"
    }
   ],
   "source": [
    "#Code task 21#\n",
    "#Use the .loc accessor to print the 'SkiableTerrain_ac' value only for this resort\n",
    "ski_data.loc[39, 'SkiableTerrain_ac']"
=======
   "execution_count": null,
   "metadata": {},
   "outputs": [],
   "source": [
    "#Code task 21#\n",
    "#Use the .loc accessor to print the 'SkiableTerrain_ac' value only for this resort\n",
    "ski_data.___[39, 'SkiableTerrain_ac']"
>>>>>>> Stashed changes
   ]
  },
  {
   "cell_type": "code",
<<<<<<< Updated upstream
   "execution_count": 36,
=======
   "execution_count": null,
>>>>>>> Stashed changes
   "metadata": {},
   "outputs": [],
   "source": [
    "#Code task 22#\n",
    "#Use the .loc accessor again to modify this value with the correct value of 1819\n",
<<<<<<< Updated upstream
    "ski_data.loc[39, 'SkiableTerrain_ac'] = 1819.0"
=======
    "ski_data.___[39, 'SkiableTerrain_ac'] = ___"
>>>>>>> Stashed changes
   ]
  },
  {
   "cell_type": "code",
<<<<<<< Updated upstream
   "execution_count": 37,
   "metadata": {},
   "outputs": [
    {
     "data": {
      "text/plain": [
       "1819.0"
      ]
     },
     "execution_count": 37,
     "metadata": {},
     "output_type": "execute_result"
    }
   ],
   "source": [
    "#Code task 23#\n",
    "#Use the .loc accessor a final time to verify that the value has been modified\n",
    "ski_data.loc[39, 'SkiableTerrain_ac']"
=======
   "execution_count": null,
   "metadata": {},
   "outputs": [],
   "source": [
    "#Code task 23#\n",
    "#Use the .loc accessor a final time to verify that the value has been modified\n",
    "ski_data.___[39, 'SkiableTerrain_ac']"
>>>>>>> Stashed changes
   ]
  },
  {
   "cell_type": "markdown",
   "metadata": {},
   "source": [
    "**NB whilst you may become suspicious about your data quality, and you know you have missing values, you will not here dive down the rabbit hole of checking all values or web scraping to replace missing values.**"
   ]
  },
  {
   "cell_type": "markdown",
   "metadata": {},
   "source": [
    "What does the distribution of skiable area look like now?"
   ]
  },
  {
   "cell_type": "code",
<<<<<<< Updated upstream
   "execution_count": 38,
=======
   "execution_count": 30,
>>>>>>> Stashed changes
   "metadata": {},
   "outputs": [
    {
     "data": {
<<<<<<< Updated upstream
      "image/png": "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\n",
=======
      "image/png": "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\n",
>>>>>>> Stashed changes
      "text/plain": [
       "<Figure size 432x288 with 1 Axes>"
      ]
     },
     "metadata": {
      "needs_background": "light"
     },
     "output_type": "display_data"
    }
   ],
   "source": [
    "ski_data.SkiableTerrain_ac.hist(bins=30)\n",
    "plt.xlabel('SkiableTerrain_ac')\n",
    "plt.ylabel('Count')\n",
    "plt.title('Distribution of skiable area (acres) after replacing erroneous value');"
   ]
  },
  {
   "cell_type": "markdown",
   "metadata": {},
   "source": [
    "You now see a rather long tailed distribution. You may wonder about the now most extreme value that is above 8000, but similarly you may also wonder about the value around 7000. If you wanted to spend more time manually checking values you could, but leave this for now. The above distribution is plausible."
   ]
  },
  {
   "cell_type": "markdown",
   "metadata": {},
   "source": [
    "##### 2.6.4.2.2 Snow Making_ac<a id='2.6.4.2.2_Snow_Making_ac'></a>"
   ]
  },
  {
   "cell_type": "code",
<<<<<<< Updated upstream
   "execution_count": 39,
=======
   "execution_count": 31,
>>>>>>> Stashed changes
   "metadata": {},
   "outputs": [
    {
     "data": {
      "text/plain": [
       "11    3379.0\n",
       "18    1500.0\n",
       "Name: Snow Making_ac, dtype: float64"
      ]
     },
<<<<<<< Updated upstream
     "execution_count": 39,
=======
     "execution_count": 31,
>>>>>>> Stashed changes
     "metadata": {},
     "output_type": "execute_result"
    }
   ],
   "source": [
    "ski_data['Snow Making_ac'][ski_data['Snow Making_ac'] > 1000]"
   ]
  },
  {
   "cell_type": "code",
<<<<<<< Updated upstream
   "execution_count": 40,
=======
   "execution_count": 32,
>>>>>>> Stashed changes
   "metadata": {},
   "outputs": [
    {
     "data": {
      "text/html": [
       "<div>\n",
       "<style scoped>\n",
       "    .dataframe tbody tr th:only-of-type {\n",
       "        vertical-align: middle;\n",
       "    }\n",
       "\n",
       "    .dataframe tbody tr th {\n",
       "        vertical-align: top;\n",
       "    }\n",
       "\n",
       "    .dataframe thead th {\n",
       "        text-align: right;\n",
       "    }\n",
       "</style>\n",
       "<table border=\"1\" class=\"dataframe\">\n",
       "  <thead>\n",
       "    <tr style=\"text-align: right;\">\n",
       "      <th></th>\n",
       "      <th>11</th>\n",
       "    </tr>\n",
       "  </thead>\n",
       "  <tbody>\n",
       "    <tr>\n",
       "      <th>Name</th>\n",
       "      <td>Heavenly Mountain Resort</td>\n",
       "    </tr>\n",
       "    <tr>\n",
       "      <th>Region</th>\n",
       "      <td>Sierra Nevada</td>\n",
       "    </tr>\n",
       "    <tr>\n",
       "      <th>state</th>\n",
       "      <td>California</td>\n",
       "    </tr>\n",
       "    <tr>\n",
       "      <th>summit_elev</th>\n",
       "      <td>10067</td>\n",
       "    </tr>\n",
       "    <tr>\n",
       "      <th>vertical_drop</th>\n",
       "      <td>3500</td>\n",
       "    </tr>\n",
       "    <tr>\n",
       "      <th>base_elev</th>\n",
       "      <td>7170</td>\n",
       "    </tr>\n",
       "    <tr>\n",
       "      <th>trams</th>\n",
       "      <td>2</td>\n",
       "    </tr>\n",
       "    <tr>\n",
       "      <th>fastEight</th>\n",
<<<<<<< Updated upstream
       "      <td>0.0</td>\n",
=======
       "      <td>0</td>\n",
>>>>>>> Stashed changes
       "    </tr>\n",
       "    <tr>\n",
       "      <th>fastSixes</th>\n",
       "      <td>2</td>\n",
       "    </tr>\n",
       "    <tr>\n",
       "      <th>fastQuads</th>\n",
       "      <td>7</td>\n",
       "    </tr>\n",
       "    <tr>\n",
       "      <th>quad</th>\n",
       "      <td>1</td>\n",
       "    </tr>\n",
       "    <tr>\n",
       "      <th>triple</th>\n",
       "      <td>5</td>\n",
       "    </tr>\n",
       "    <tr>\n",
       "      <th>double</th>\n",
       "      <td>3</td>\n",
       "    </tr>\n",
       "    <tr>\n",
       "      <th>surface</th>\n",
       "      <td>8</td>\n",
       "    </tr>\n",
       "    <tr>\n",
       "      <th>total_chairs</th>\n",
       "      <td>28</td>\n",
       "    </tr>\n",
       "    <tr>\n",
       "      <th>Runs</th>\n",
<<<<<<< Updated upstream
       "      <td>97.0</td>\n",
       "    </tr>\n",
       "    <tr>\n",
       "      <th>TerrainParks</th>\n",
       "      <td>3.0</td>\n",
=======
       "      <td>97</td>\n",
       "    </tr>\n",
       "    <tr>\n",
       "      <th>TerrainParks</th>\n",
       "      <td>3</td>\n",
>>>>>>> Stashed changes
       "    </tr>\n",
       "    <tr>\n",
       "      <th>LongestRun_mi</th>\n",
       "      <td>5.5</td>\n",
       "    </tr>\n",
       "    <tr>\n",
       "      <th>SkiableTerrain_ac</th>\n",
<<<<<<< Updated upstream
       "      <td>4800.0</td>\n",
       "    </tr>\n",
       "    <tr>\n",
       "      <th>Snow Making_ac</th>\n",
       "      <td>3379.0</td>\n",
       "    </tr>\n",
       "    <tr>\n",
       "      <th>daysOpenLastYear</th>\n",
       "      <td>155.0</td>\n",
       "    </tr>\n",
       "    <tr>\n",
       "      <th>yearsOpen</th>\n",
       "      <td>64.0</td>\n",
       "    </tr>\n",
       "    <tr>\n",
       "      <th>averageSnowfall</th>\n",
       "      <td>360.0</td>\n",
=======
       "      <td>4800</td>\n",
       "    </tr>\n",
       "    <tr>\n",
       "      <th>Snow Making_ac</th>\n",
       "      <td>3379</td>\n",
       "    </tr>\n",
       "    <tr>\n",
       "      <th>daysOpenLastYear</th>\n",
       "      <td>155</td>\n",
       "    </tr>\n",
       "    <tr>\n",
       "      <th>yearsOpen</th>\n",
       "      <td>64</td>\n",
       "    </tr>\n",
       "    <tr>\n",
       "      <th>averageSnowfall</th>\n",
       "      <td>360</td>\n",
>>>>>>> Stashed changes
       "    </tr>\n",
       "    <tr>\n",
       "      <th>AdultWeekday</th>\n",
       "      <td>NaN</td>\n",
       "    </tr>\n",
       "    <tr>\n",
       "      <th>AdultWeekend</th>\n",
       "      <td>NaN</td>\n",
       "    </tr>\n",
       "    <tr>\n",
       "      <th>projectedDaysOpen</th>\n",
<<<<<<< Updated upstream
       "      <td>157.0</td>\n",
=======
       "      <td>157</td>\n",
>>>>>>> Stashed changes
       "    </tr>\n",
       "    <tr>\n",
       "      <th>NightSkiing_ac</th>\n",
       "      <td>NaN</td>\n",
       "    </tr>\n",
       "  </tbody>\n",
       "</table>\n",
       "</div>"
      ],
      "text/plain": [
       "                                         11\n",
       "Name               Heavenly Mountain Resort\n",
       "Region                        Sierra Nevada\n",
       "state                            California\n",
       "summit_elev                           10067\n",
       "vertical_drop                          3500\n",
       "base_elev                              7170\n",
       "trams                                     2\n",
<<<<<<< Updated upstream
       "fastEight                               0.0\n",
=======
       "fastEight                                 0\n",
>>>>>>> Stashed changes
       "fastSixes                                 2\n",
       "fastQuads                                 7\n",
       "quad                                      1\n",
       "triple                                    5\n",
       "double                                    3\n",
       "surface                                   8\n",
       "total_chairs                             28\n",
<<<<<<< Updated upstream
       "Runs                                   97.0\n",
       "TerrainParks                            3.0\n",
       "LongestRun_mi                           5.5\n",
       "SkiableTerrain_ac                    4800.0\n",
       "Snow Making_ac                       3379.0\n",
       "daysOpenLastYear                      155.0\n",
       "yearsOpen                              64.0\n",
       "averageSnowfall                       360.0\n",
       "AdultWeekday                            NaN\n",
       "AdultWeekend                            NaN\n",
       "projectedDaysOpen                     157.0\n",
       "NightSkiing_ac                          NaN"
      ]
     },
     "execution_count": 40,
=======
       "Runs                                     97\n",
       "TerrainParks                              3\n",
       "LongestRun_mi                           5.5\n",
       "SkiableTerrain_ac                      4800\n",
       "Snow Making_ac                         3379\n",
       "daysOpenLastYear                        155\n",
       "yearsOpen                                64\n",
       "averageSnowfall                         360\n",
       "AdultWeekday                            NaN\n",
       "AdultWeekend                            NaN\n",
       "projectedDaysOpen                       157\n",
       "NightSkiing_ac                          NaN"
      ]
     },
     "execution_count": 32,
>>>>>>> Stashed changes
     "metadata": {},
     "output_type": "execute_result"
    }
   ],
   "source": [
    "ski_data[ski_data['Snow Making_ac'] > 3000].T"
   ]
  },
  {
   "cell_type": "markdown",
   "metadata": {},
   "source": [
    "You can adopt a similar approach as for the suspect skiable area value and do some spot checking. To save time, here is a link to the website for [Heavenly Mountain Resort](https://www.skiheavenly.com/the-mountain/about-the-mountain/mountain-info.aspx). From this you can glean that you have values for skiable terrain that agree. Furthermore, you can read that snowmaking covers 60% of the trails."
   ]
  },
  {
   "cell_type": "markdown",
   "metadata": {},
   "source": [
    "What, then, is your rough guess for the area covered by snowmaking?"
   ]
  },
  {
   "cell_type": "code",
<<<<<<< Updated upstream
   "execution_count": 41,
=======
   "execution_count": 33,
>>>>>>> Stashed changes
   "metadata": {},
   "outputs": [
    {
     "data": {
      "text/plain": [
       "2880.0"
      ]
     },
<<<<<<< Updated upstream
     "execution_count": 41,
=======
     "execution_count": 33,
>>>>>>> Stashed changes
     "metadata": {},
     "output_type": "execute_result"
    }
   ],
   "source": [
    ".6 * 4800"
   ]
  },
  {
   "cell_type": "markdown",
   "metadata": {},
   "source": [
    "This is less than the value of 3379 in your data so you may have a judgement call to make. However, notice something else. You have no ticket pricing information at all for this resort. Any further effort spent worrying about values for this resort will be wasted. You'll simply be dropping the entire row!"
   ]
  },
  {
   "cell_type": "markdown",
   "metadata": {},
   "source": [
    "##### 2.6.4.2.3 fastEight<a id='2.6.4.2.3_fastEight'></a>"
   ]
  },
  {
   "cell_type": "markdown",
   "metadata": {},
   "source": [
    "Look at the different fastEight values more closely:"
   ]
  },
  {
   "cell_type": "code",
<<<<<<< Updated upstream
   "execution_count": 42,
=======
   "execution_count": 34,
>>>>>>> Stashed changes
   "metadata": {},
   "outputs": [
    {
     "data": {
      "text/plain": [
       "0.0    163\n",
       "1.0      1\n",
       "Name: fastEight, dtype: int64"
      ]
     },
<<<<<<< Updated upstream
     "execution_count": 42,
=======
     "execution_count": 34,
>>>>>>> Stashed changes
     "metadata": {},
     "output_type": "execute_result"
    }
   ],
   "source": [
    "ski_data.fastEight.value_counts()"
   ]
  },
  {
   "cell_type": "markdown",
   "metadata": {},
   "source": [
    "Drop the fastEight column in its entirety; half the values are missing and all but the others are the value zero. There is essentially no information in this column."
   ]
  },
  {
   "cell_type": "code",
<<<<<<< Updated upstream
   "execution_count": 43,
=======
   "execution_count": null,
>>>>>>> Stashed changes
   "metadata": {},
   "outputs": [],
   "source": [
    "#Code task 24#\n",
    "#Drop the 'fastEight' column from ski_data. Use inplace=True\n",
<<<<<<< Updated upstream
    "ski_data.drop(columns='fastEight', inplace=True)"
=======
    "ski_data.drop(columns=___, inplace=___)"
>>>>>>> Stashed changes
   ]
  },
  {
   "cell_type": "markdown",
   "metadata": {},
   "source": [
    "What about yearsOpen? How many resorts have purportedly been open for more than 100 years?"
   ]
  },
  {
   "cell_type": "code",
<<<<<<< Updated upstream
   "execution_count": 44,
   "metadata": {},
   "outputs": [
    {
     "data": {
      "text/plain": [
       "34      104.0\n",
       "115    2019.0\n",
       "Name: yearsOpen, dtype: float64"
      ]
     },
     "execution_count": 44,
     "metadata": {},
     "output_type": "execute_result"
    }
   ],
   "source": [
    "#Code task 25#\n",
    "#Filter the 'yearsOpen' column for values greater than 100\n",
    "ski_data.yearsOpen[ski_data.yearsOpen > 100]"
=======
   "execution_count": null,
   "metadata": {},
   "outputs": [],
   "source": [
    "#Code task 25#\n",
    "#Filter the 'yearsOpen' column for values greater than 100\n",
    "ski_data.___[ski_data.___ > ___]"
>>>>>>> Stashed changes
   ]
  },
  {
   "cell_type": "markdown",
   "metadata": {},
   "source": [
    "Okay, one seems to have been open for 104 years. But beyond that, one is down as having been open for 2019 years. This is wrong! What shall you do about this?"
   ]
  },
  {
   "cell_type": "markdown",
   "metadata": {},
   "source": [
    "What does the distribution of yearsOpen look like if you exclude just the obviously wrong one?"
   ]
  },
  {
   "cell_type": "code",
<<<<<<< Updated upstream
   "execution_count": 45,
   "metadata": {},
   "outputs": [
    {
     "data": {
      "image/png": "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\n",
      "text/plain": [
       "<Figure size 432x288 with 1 Axes>"
      ]
     },
     "metadata": {
      "needs_background": "light"
     },
     "output_type": "display_data"
    }
   ],
=======
   "execution_count": null,
   "metadata": {},
   "outputs": [],
>>>>>>> Stashed changes
   "source": [
    "#Code task 26#\n",
    "#Call the hist method on 'yearsOpen' after filtering for values under 1000\n",
    "#Pass the argument bins=30 to hist(), but feel free to explore other values\n",
<<<<<<< Updated upstream
    "ski_data.yearsOpen[ski_data.yearsOpen < 1000].hist(bins=30)\n",
=======
    "ski_data.___[ski_data.___ < ___].hist(___)\n",
>>>>>>> Stashed changes
    "plt.xlabel('Years open')\n",
    "plt.ylabel('Count')\n",
    "plt.title('Distribution of years open excluding 2019');"
   ]
  },
  {
   "cell_type": "markdown",
   "metadata": {},
   "source": [
    "The above distribution of years seems entirely plausible, including the 104 year value. You can certainly state that no resort will have been open for 2019 years! It likely means the resort opened in 2019. It could also mean the resort is due to open in 2019. You don't know when these data were gathered!"
   ]
  },
  {
   "cell_type": "markdown",
   "metadata": {},
   "source": [
    "Let's review the summary statistics for the years under 1000."
   ]
  },
  {
   "cell_type": "code",
<<<<<<< Updated upstream
   "execution_count": 46,
=======
   "execution_count": 38,
>>>>>>> Stashed changes
   "metadata": {},
   "outputs": [
    {
     "data": {
      "text/plain": [
       "count    328.000000\n",
       "mean      57.695122\n",
       "std       16.841182\n",
       "min        6.000000\n",
       "25%       50.000000\n",
       "50%       58.000000\n",
       "75%       68.250000\n",
       "max      104.000000\n",
       "Name: yearsOpen, dtype: float64"
      ]
     },
<<<<<<< Updated upstream
     "execution_count": 46,
=======
     "execution_count": 38,
>>>>>>> Stashed changes
     "metadata": {},
     "output_type": "execute_result"
    }
   ],
   "source": [
    "ski_data.yearsOpen[ski_data.yearsOpen < 1000].describe()"
   ]
  },
  {
   "cell_type": "markdown",
   "metadata": {},
   "source": [
    "The smallest number of years open otherwise is 6. You can't be sure whether this resort in question has been open zero years or one year and even whether the numbers are projections or actual. In any case, you would be adding a new youngest resort so it feels best to simply drop this row."
   ]
  },
  {
   "cell_type": "code",
<<<<<<< Updated upstream
   "execution_count": 47,
=======
   "execution_count": 39,
>>>>>>> Stashed changes
   "metadata": {},
   "outputs": [],
   "source": [
    "ski_data = ski_data[ski_data.yearsOpen < 1000]"
   ]
  },
  {
   "cell_type": "markdown",
   "metadata": {},
   "source": [
    "##### 2.6.4.2.4 fastSixes and Trams<a id='2.6.4.2.4_fastSixes_and_Trams'></a>"
   ]
  },
  {
   "cell_type": "markdown",
   "metadata": {},
   "source": [
    "The other features you had mild concern over, you will not investigate further. Perhaps take some care when using these features."
   ]
  },
  {
   "cell_type": "markdown",
   "metadata": {},
   "source": [
    "## 2.7 Derive State-wide Summary Statistics For Our Market Segment<a id='2.7_Derive_State-wide_Summary_Statistics_For_Our_Market_Segment'></a>"
   ]
  },
  {
   "cell_type": "markdown",
   "metadata": {},
   "source": [
    "You have, by this point removed one row, but it was for a resort that may not have opened yet, or perhaps in its first season. Using your business knowledge, you know that state-wide supply and demand of certain skiing resources may well factor into pricing strategies. Does a resort dominate the available night skiing in a state? Or does it account for a large proportion of the total skiable terrain or days open?\n",
    "\n",
    "If you want to add any features to your data that captures the state-wide market size, you should do this now, before dropping any more rows. In the next section, you'll drop rows with missing price information. Although you don't know what those resorts charge for their tickets, you do know the resorts exists and have been open for at least six years. Thus, you'll now calculate some state-wide summary statistics for later use."
   ]
  },
  {
   "cell_type": "markdown",
   "metadata": {},
   "source": [
    "Many features in your data pertain to chairlifts, that is for getting people around each resort. These aren't relevant, nor are the features relating to altitudes. Features that you may be interested in are:\n",
    "\n",
    "* TerrainParks\n",
    "* SkiableTerrain_ac\n",
    "* daysOpenLastYear\n",
    "* NightSkiing_ac\n",
    "\n",
    "When you think about it, these are features it makes sense to sum: the total number of terrain parks, the total skiable area, the total number of days open, and the total area available for night skiing. You might consider the total number of ski runs, but understand that the skiable area is more informative than just a number of runs."
   ]
  },
  {
   "cell_type": "markdown",
   "metadata": {},
   "source": [
    "A fairly new groupby behaviour is [named aggregation](https://pandas-docs.github.io/pandas-docs-travis/whatsnew/v0.25.0.html). This allows us to clearly perform the aggregations you want whilst also creating informative output column names."
   ]
  },
  {
   "cell_type": "code",
<<<<<<< Updated upstream
   "execution_count": 48,
   "metadata": {},
   "outputs": [
    {
     "data": {
      "text/html": [
       "<div>\n",
       "<style scoped>\n",
       "    .dataframe tbody tr th:only-of-type {\n",
       "        vertical-align: middle;\n",
       "    }\n",
       "\n",
       "    .dataframe tbody tr th {\n",
       "        vertical-align: top;\n",
       "    }\n",
       "\n",
       "    .dataframe thead th {\n",
       "        text-align: right;\n",
       "    }\n",
       "</style>\n",
       "<table border=\"1\" class=\"dataframe\">\n",
       "  <thead>\n",
       "    <tr style=\"text-align: right;\">\n",
       "      <th></th>\n",
       "      <th>state</th>\n",
       "      <th>resorts_per_state</th>\n",
       "      <th>state_total_skiable_area_ac</th>\n",
       "      <th>state_total_days_open</th>\n",
       "      <th>state_total_terrain_parks</th>\n",
       "      <th>state_total_nightskiing_ac</th>\n",
       "    </tr>\n",
       "  </thead>\n",
       "  <tbody>\n",
       "    <tr>\n",
       "      <th>0</th>\n",
       "      <td>Alaska</td>\n",
       "      <td>3</td>\n",
       "      <td>2280.0</td>\n",
       "      <td>345.0</td>\n",
       "      <td>4.0</td>\n",
       "      <td>580.0</td>\n",
       "    </tr>\n",
       "    <tr>\n",
       "      <th>1</th>\n",
       "      <td>Arizona</td>\n",
       "      <td>2</td>\n",
       "      <td>1577.0</td>\n",
       "      <td>237.0</td>\n",
       "      <td>6.0</td>\n",
       "      <td>80.0</td>\n",
       "    </tr>\n",
       "    <tr>\n",
       "      <th>2</th>\n",
       "      <td>California</td>\n",
       "      <td>21</td>\n",
       "      <td>25948.0</td>\n",
       "      <td>2738.0</td>\n",
       "      <td>81.0</td>\n",
       "      <td>587.0</td>\n",
       "    </tr>\n",
       "    <tr>\n",
       "      <th>3</th>\n",
       "      <td>Colorado</td>\n",
       "      <td>22</td>\n",
       "      <td>43682.0</td>\n",
       "      <td>3258.0</td>\n",
       "      <td>74.0</td>\n",
       "      <td>428.0</td>\n",
       "    </tr>\n",
       "    <tr>\n",
       "      <th>4</th>\n",
       "      <td>Connecticut</td>\n",
       "      <td>5</td>\n",
       "      <td>358.0</td>\n",
       "      <td>353.0</td>\n",
       "      <td>10.0</td>\n",
       "      <td>256.0</td>\n",
       "    </tr>\n",
       "  </tbody>\n",
       "</table>\n",
       "</div>"
      ],
      "text/plain": [
       "         state  resorts_per_state  state_total_skiable_area_ac  \\\n",
       "0       Alaska                  3                       2280.0   \n",
       "1      Arizona                  2                       1577.0   \n",
       "2   California                 21                      25948.0   \n",
       "3     Colorado                 22                      43682.0   \n",
       "4  Connecticut                  5                        358.0   \n",
       "\n",
       "   state_total_days_open  state_total_terrain_parks  \\\n",
       "0                  345.0                        4.0   \n",
       "1                  237.0                        6.0   \n",
       "2                 2738.0                       81.0   \n",
       "3                 3258.0                       74.0   \n",
       "4                  353.0                       10.0   \n",
       "\n",
       "   state_total_nightskiing_ac  \n",
       "0                       580.0  \n",
       "1                        80.0  \n",
       "2                       587.0  \n",
       "3                       428.0  \n",
       "4                       256.0  "
      ]
     },
     "execution_count": 48,
     "metadata": {},
     "output_type": "execute_result"
    }
   ],
=======
   "execution_count": null,
   "metadata": {},
   "outputs": [],
>>>>>>> Stashed changes
   "source": [
    "#Code task 27#\n",
    "#Add named aggregations for the sum of 'daysOpenLastYear', 'TerrainParks', and 'NightSkiing_ac'\n",
    "#call them 'state_total_days_open', 'state_total_terrain_parks', and 'state_total_nightskiing_ac',\n",
    "#respectively\n",
    "#Finally, add a call to the reset_index() method (we recommend you experiment with and without this to see\n",
    "#what it does)\n",
    "state_summary = ski_data.groupby('state').agg(\n",
    "    resorts_per_state=pd.NamedAgg(column='Name', aggfunc='size'), #could pick any column here\n",
    "    state_total_skiable_area_ac=pd.NamedAgg(column='SkiableTerrain_ac', aggfunc='sum'),\n",
<<<<<<< Updated upstream
    "    state_total_days_open=pd.NamedAgg(column='daysOpenLastYear', aggfunc='sum'),\n",
    "    state_total_terrain_parks=pd.NamedAgg(column='TerrainParks', aggfunc='sum'),\n",
    "    state_total_nightskiing_ac=pd.NamedAgg(column='NightSkiing_ac', aggfunc='sum')\n",
    ").reset_index()\n",
=======
    "    state_total_days_open=pd.NamedAgg(column=__, aggfunc='sum'),\n",
    "    ___=pd.NamedAgg(column=___, aggfunc=___),\n",
    "    ___=pd.NamedAgg(column=___, aggfunc=___)\n",
    ").___\n",
>>>>>>> Stashed changes
    "state_summary.head()"
   ]
  },
  {
   "cell_type": "markdown",
   "metadata": {},
   "source": [
    "## 2.8 Drop Rows With No Price Data<a id='2.8_Drop_Rows_With_No_Price_Data'></a>"
   ]
  },
  {
   "cell_type": "markdown",
   "metadata": {},
   "source": [
    "You know there are two columns that refer to price: 'AdultWeekend' and 'AdultWeekday'. You can calculate the number of price values missing per row. This will obviously have to be either 0, 1, or 2, where 0 denotes no price values are missing and 2 denotes that both are missing."
   ]
  },
  {
   "cell_type": "code",
<<<<<<< Updated upstream
   "execution_count": 49,
=======
   "execution_count": 41,
>>>>>>> Stashed changes
   "metadata": {},
   "outputs": [
    {
     "data": {
      "text/plain": [
       "0    82.317073\n",
       "2    14.329268\n",
       "1     3.353659\n",
       "dtype: float64"
      ]
     },
<<<<<<< Updated upstream
     "execution_count": 49,
=======
     "execution_count": 41,
>>>>>>> Stashed changes
     "metadata": {},
     "output_type": "execute_result"
    }
   ],
   "source": [
    "missing_price = ski_data[['AdultWeekend', 'AdultWeekday']].isnull().sum(axis=1)\n",
    "missing_price.value_counts()/len(missing_price) * 100"
   ]
  },
  {
   "cell_type": "markdown",
   "metadata": {},
   "source": [
    "About 14% of the rows have no price data. As the price is your target, these rows are of no use. Time to lose them."
   ]
  },
  {
   "cell_type": "code",
<<<<<<< Updated upstream
   "execution_count": 50,
=======
   "execution_count": null,
>>>>>>> Stashed changes
   "metadata": {},
   "outputs": [],
   "source": [
    "#Code task 28#\n",
    "#Use `missing_price` to remove rows from ski_data where both price values are missing\n",
<<<<<<< Updated upstream
    "ski_data = ski_data[missing_price != 2]\n"
=======
    "ski_data = ski_data[___ != 2]"
>>>>>>> Stashed changes
   ]
  },
  {
   "cell_type": "markdown",
   "metadata": {},
   "source": [
    "## 2.9 Review distributions<a id='2.9_Review_distributions'></a>"
   ]
  },
  {
   "cell_type": "code",
<<<<<<< Updated upstream
   "execution_count": 51,
=======
   "execution_count": 43,
>>>>>>> Stashed changes
   "metadata": {},
   "outputs": [
    {
     "data": {
<<<<<<< Updated upstream
      "image/png": "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\n",
=======
      "image/png": "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\n",
>>>>>>> Stashed changes
      "text/plain": [
       "<Figure size 1080x720 with 25 Axes>"
      ]
     },
     "metadata": {
      "needs_background": "light"
     },
     "output_type": "display_data"
    }
   ],
   "source": [
    "ski_data.hist(figsize=(15, 10))\n",
    "plt.subplots_adjust(hspace=0.5);"
   ]
  },
  {
   "cell_type": "markdown",
   "metadata": {},
   "source": [
    "These distributions are much better. There are clearly some skewed distributions, so keep an eye on `fastQuads`, `fastSixes`, and perhaps `trams`. These lack much variance away from 0 and may have a small number of relatively extreme values.  Models failing to rate a feature as important when domain knowledge tells you it should be is an issue to look out for, as is a model being overly influenced by some extreme values. If you build a good machine learning pipeline, hopefully it will be robust to such issues, but you may also wish to consider nonlinear transformations of features."
   ]
  },
  {
   "cell_type": "markdown",
   "metadata": {},
   "source": [
    "## 2.10 Population data<a id='2.10_Population_data'></a>"
   ]
  },
  {
   "cell_type": "markdown",
   "metadata": {},
   "source": [
    "Population and area data for the US states can be obtained from [wikipedia](https://simple.wikipedia.org/wiki/List_of_U.S._states). Listen, you should have a healthy concern about using data you \"found on the Internet\". Make sure it comes from a reputable source. This table of data is useful because it allows you to easily pull and incorporate an external data set. It also allows you to proceed with an analysis that includes state sizes and populations for your 'first cut' model. Be explicit about your source (we documented it here in this workflow) and ensure it is open to inspection. All steps are subject to review, and it may be that a client has a specific source of data they trust that you should use to rerun the analysis."
   ]
  },
  {
   "cell_type": "code",
<<<<<<< Updated upstream
   "execution_count": 52,
=======
   "execution_count": null,
>>>>>>> Stashed changes
   "metadata": {},
   "outputs": [],
   "source": [
    "#Code task 29#\n",
    "#Use pandas' `read_html` method to read the table from the URL below\n",
    "states_url = 'https://simple.wikipedia.org/w/index.php?title=List_of_U.S._states&oldid=7168473'\n",
<<<<<<< Updated upstream
    "usa_states = pd.read_html(states_url)"
=======
    "usa_states = pd.___(___)"
>>>>>>> Stashed changes
   ]
  },
  {
   "cell_type": "code",
<<<<<<< Updated upstream
   "execution_count": 53,
=======
   "execution_count": 45,
>>>>>>> Stashed changes
   "metadata": {},
   "outputs": [
    {
     "data": {
      "text/plain": [
       "list"
      ]
     },
<<<<<<< Updated upstream
     "execution_count": 53,
=======
     "execution_count": 45,
>>>>>>> Stashed changes
     "metadata": {},
     "output_type": "execute_result"
    }
   ],
   "source": [
    "type(usa_states)"
   ]
  },
  {
   "cell_type": "code",
<<<<<<< Updated upstream
   "execution_count": 54,
=======
   "execution_count": 46,
>>>>>>> Stashed changes
   "metadata": {},
   "outputs": [
    {
     "data": {
      "text/plain": [
       "1"
      ]
     },
<<<<<<< Updated upstream
     "execution_count": 54,
=======
     "execution_count": 46,
>>>>>>> Stashed changes
     "metadata": {},
     "output_type": "execute_result"
    }
   ],
   "source": [
    "len(usa_states)"
   ]
  },
  {
   "cell_type": "code",
<<<<<<< Updated upstream
   "execution_count": 55,
=======
   "execution_count": 47,
>>>>>>> Stashed changes
   "metadata": {},
   "outputs": [
    {
     "data": {
      "text/html": [
       "<div>\n",
       "<style scoped>\n",
       "    .dataframe tbody tr th:only-of-type {\n",
       "        vertical-align: middle;\n",
       "    }\n",
       "\n",
       "    .dataframe tbody tr th {\n",
       "        vertical-align: top;\n",
       "    }\n",
       "\n",
       "    .dataframe thead tr th {\n",
       "        text-align: left;\n",
       "    }\n",
       "</style>\n",
       "<table border=\"1\" class=\"dataframe\">\n",
       "  <thead>\n",
       "    <tr>\n",
       "      <th></th>\n",
       "      <th colspan=\"2\" halign=\"left\">Name &amp;postal abbs. [1]</th>\n",
       "      <th colspan=\"2\" halign=\"left\">Cities</th>\n",
<<<<<<< Updated upstream
       "      <th>Established[A]</th>\n",
       "      <th>Population[B][3]</th>\n",
=======
       "      <th>Established[upper-alpha 1]</th>\n",
       "      <th>Population[upper-alpha 2][3]</th>\n",
>>>>>>> Stashed changes
       "      <th colspan=\"2\" halign=\"left\">Total area[4]</th>\n",
       "      <th colspan=\"2\" halign=\"left\">Land area[4]</th>\n",
       "      <th colspan=\"2\" halign=\"left\">Water area[4]</th>\n",
       "      <th>Numberof Reps.</th>\n",
       "    </tr>\n",
       "    <tr>\n",
       "      <th></th>\n",
       "      <th>Name &amp;postal abbs. [1]</th>\n",
       "      <th>Name &amp;postal abbs. [1].1</th>\n",
       "      <th>Capital</th>\n",
       "      <th>Largest[5]</th>\n",
<<<<<<< Updated upstream
       "      <th>Established[A]</th>\n",
       "      <th>Population[B][3]</th>\n",
=======
       "      <th>Established[upper-alpha 1]</th>\n",
       "      <th>Population[upper-alpha 2][3]</th>\n",
>>>>>>> Stashed changes
       "      <th>mi2</th>\n",
       "      <th>km2</th>\n",
       "      <th>mi2</th>\n",
       "      <th>km2</th>\n",
       "      <th>mi2</th>\n",
       "      <th>km2</th>\n",
       "      <th>Numberof Reps.</th>\n",
       "    </tr>\n",
       "  </thead>\n",
       "  <tbody>\n",
       "    <tr>\n",
       "      <th>0</th>\n",
       "      <td>Alabama</td>\n",
       "      <td>AL</td>\n",
       "      <td>Montgomery</td>\n",
       "      <td>Birmingham</td>\n",
       "      <td>Dec 14, 1819</td>\n",
       "      <td>4903185</td>\n",
       "      <td>52420</td>\n",
       "      <td>135767</td>\n",
       "      <td>50645</td>\n",
       "      <td>131171</td>\n",
       "      <td>1775</td>\n",
       "      <td>4597</td>\n",
       "      <td>7</td>\n",
       "    </tr>\n",
       "    <tr>\n",
       "      <th>1</th>\n",
       "      <td>Alaska</td>\n",
       "      <td>AK</td>\n",
       "      <td>Juneau</td>\n",
       "      <td>Anchorage</td>\n",
       "      <td>Jan 3, 1959</td>\n",
       "      <td>731545</td>\n",
       "      <td>665384</td>\n",
       "      <td>1723337</td>\n",
       "      <td>570641</td>\n",
       "      <td>1477953</td>\n",
       "      <td>94743</td>\n",
       "      <td>245384</td>\n",
       "      <td>1</td>\n",
       "    </tr>\n",
       "    <tr>\n",
       "      <th>2</th>\n",
       "      <td>Arizona</td>\n",
       "      <td>AZ</td>\n",
       "      <td>Phoenix</td>\n",
       "      <td>Phoenix</td>\n",
       "      <td>Feb 14, 1912</td>\n",
       "      <td>7278717</td>\n",
       "      <td>113990</td>\n",
       "      <td>295234</td>\n",
       "      <td>113594</td>\n",
       "      <td>294207</td>\n",
       "      <td>396</td>\n",
       "      <td>1026</td>\n",
       "      <td>9</td>\n",
       "    </tr>\n",
       "    <tr>\n",
       "      <th>3</th>\n",
       "      <td>Arkansas</td>\n",
       "      <td>AR</td>\n",
       "      <td>Little Rock</td>\n",
       "      <td>Little Rock</td>\n",
       "      <td>Jun 15, 1836</td>\n",
       "      <td>3017804</td>\n",
       "      <td>53179</td>\n",
       "      <td>137732</td>\n",
       "      <td>52035</td>\n",
       "      <td>134771</td>\n",
       "      <td>1143</td>\n",
       "      <td>2961</td>\n",
       "      <td>4</td>\n",
       "    </tr>\n",
       "    <tr>\n",
       "      <th>4</th>\n",
       "      <td>California</td>\n",
       "      <td>CA</td>\n",
       "      <td>Sacramento</td>\n",
       "      <td>Los Angeles</td>\n",
       "      <td>Sep 9, 1850</td>\n",
       "      <td>39512223</td>\n",
       "      <td>163695</td>\n",
       "      <td>423967</td>\n",
       "      <td>155779</td>\n",
       "      <td>403466</td>\n",
       "      <td>7916</td>\n",
       "      <td>20501</td>\n",
       "      <td>53</td>\n",
       "    </tr>\n",
       "  </tbody>\n",
       "</table>\n",
       "</div>"
      ],
      "text/plain": [
       "  Name &postal abbs. [1]                                Cities               \\\n",
       "  Name &postal abbs. [1] Name &postal abbs. [1].1      Capital   Largest[5]   \n",
       "0                Alabama                       AL   Montgomery   Birmingham   \n",
       "1                 Alaska                       AK       Juneau    Anchorage   \n",
       "2                Arizona                       AZ      Phoenix      Phoenix   \n",
       "3               Arkansas                       AR  Little Rock  Little Rock   \n",
       "4             California                       CA   Sacramento  Los Angeles   \n",
       "\n",
<<<<<<< Updated upstream
       "  Established[A] Population[B][3] Total area[4]          Land area[4]  \\\n",
       "  Established[A] Population[B][3]           mi2      km2          mi2   \n",
       "0   Dec 14, 1819          4903185         52420   135767        50645   \n",
       "1    Jan 3, 1959           731545        665384  1723337       570641   \n",
       "2   Feb 14, 1912          7278717        113990   295234       113594   \n",
       "3   Jun 15, 1836          3017804         53179   137732        52035   \n",
       "4    Sep 9, 1850         39512223        163695   423967       155779   \n",
       "\n",
       "           Water area[4]         Numberof Reps.  \n",
       "       km2           mi2     km2 Numberof Reps.  \n",
       "0   131171          1775    4597              7  \n",
       "1  1477953         94743  245384              1  \n",
       "2   294207           396    1026              9  \n",
       "3   134771          1143    2961              4  \n",
       "4   403466          7916   20501             53  "
      ]
     },
     "execution_count": 55,
=======
       "  Established[upper-alpha 1] Population[upper-alpha 2][3] Total area[4]  \\\n",
       "  Established[upper-alpha 1] Population[upper-alpha 2][3]           mi2   \n",
       "0               Dec 14, 1819                      4903185         52420   \n",
       "1                Jan 3, 1959                       731545        665384   \n",
       "2               Feb 14, 1912                      7278717        113990   \n",
       "3               Jun 15, 1836                      3017804         53179   \n",
       "4                Sep 9, 1850                     39512223        163695   \n",
       "\n",
       "           Land area[4]          Water area[4]         Numberof Reps.  \n",
       "       km2          mi2      km2           mi2     km2 Numberof Reps.  \n",
       "0   135767        50645   131171          1775    4597              7  \n",
       "1  1723337       570641  1477953         94743  245384              1  \n",
       "2   295234       113594   294207           396    1026              9  \n",
       "3   137732        52035   134771          1143    2961              4  \n",
       "4   423967       155779   403466          7916   20501             53  "
      ]
     },
     "execution_count": 47,
>>>>>>> Stashed changes
     "metadata": {},
     "output_type": "execute_result"
    }
   ],
   "source": [
    "usa_states = usa_states[0]\n",
    "usa_states.head()"
   ]
  },
  {
   "cell_type": "markdown",
   "metadata": {},
   "source": [
    "Note, in even the last year, the capability of `pd.read_html()` has improved. The merged cells you see in the web table are now handled much more conveniently, with 'Phoenix' now being duplicated so the subsequent columns remain aligned. But check this anyway. If you extract the established date column, you should just get dates. Recall previously you used the `.loc` accessor, because you were using labels. Now you want to refer to a column by its index position and so use `.iloc`. For a discussion on the difference use cases of `.loc` and `.iloc` refer to the [pandas documentation](https://pandas.pydata.org/pandas-docs/stable/user_guide/indexing.html)."
   ]
  },
  {
   "cell_type": "code",
<<<<<<< Updated upstream
   "execution_count": 56,
=======
   "execution_count": null,
>>>>>>> Stashed changes
   "metadata": {},
   "outputs": [],
   "source": [
    "#Code task 30#\n",
    "#Use the iloc accessor to get the pandas Series for column number 4 from `usa_states`\n",
    "#It should be a column of dates\n",
<<<<<<< Updated upstream
    "established = usa_states.iloc[:, 4]"
=======
    "established = usa_sates.___[:, 4]"
>>>>>>> Stashed changes
   ]
  },
  {
   "cell_type": "code",
<<<<<<< Updated upstream
   "execution_count": 57,
=======
   "execution_count": 49,
>>>>>>> Stashed changes
   "metadata": {},
   "outputs": [
    {
     "data": {
      "text/plain": [
       "0     Dec 14, 1819\n",
       "1      Jan 3, 1959\n",
       "2     Feb 14, 1912\n",
       "3     Jun 15, 1836\n",
       "4      Sep 9, 1850\n",
       "5      Aug 1, 1876\n",
       "6      Jan 9, 1788\n",
       "7      Dec 7, 1787\n",
       "8      Mar 3, 1845\n",
       "9      Jan 2, 1788\n",
       "10    Aug 21, 1959\n",
       "11     Jul 3, 1890\n",
       "12     Dec 3, 1818\n",
       "13    Dec 11, 1816\n",
       "14    Dec 28, 1846\n",
       "15    Jan 29, 1861\n",
       "16     Jun 1, 1792\n",
       "17    Apr 30, 1812\n",
       "18    Mar 15, 1820\n",
       "19    Apr 28, 1788\n",
       "20     Feb 6, 1788\n",
       "21    Jan 26, 1837\n",
       "22    May 11, 1858\n",
       "23    Dec 10, 1817\n",
       "24    Aug 10, 1821\n",
       "25     Nov 8, 1889\n",
       "26     Mar 1, 1867\n",
       "27    Oct 31, 1864\n",
       "28    Jun 21, 1788\n",
       "29    Dec 18, 1787\n",
       "30     Jan 6, 1912\n",
       "31    Jul 26, 1788\n",
       "32    Nov 21, 1789\n",
       "33     Nov 2, 1889\n",
       "34     Mar 1, 1803\n",
       "35    Nov 16, 1907\n",
       "36    Feb 14, 1859\n",
       "37    Dec 12, 1787\n",
       "38    May 29, 1790\n",
       "39    May 23, 1788\n",
       "40     Nov 2, 1889\n",
       "41     Jun 1, 1796\n",
       "42    Dec 29, 1845\n",
       "43     Jan 4, 1896\n",
       "44     Mar 4, 1791\n",
       "45    Jun 25, 1788\n",
       "46    Nov 11, 1889\n",
       "47    Jun 20, 1863\n",
       "48    May 29, 1848\n",
       "49    Jul 10, 1890\n",
<<<<<<< Updated upstream
       "Name: (Established[A], Established[A]), dtype: object"
      ]
     },
     "execution_count": 57,
     "metadata": {},
     "output_type": "execute_result"
    }
   ],
   "source": [
    "established"
   ]
  },
  {
   "cell_type": "markdown",
   "metadata": {},
   "source": [
    "Extract the state name, population, and total area (square miles) columns."
   ]
  },
  {
   "cell_type": "code",
   "execution_count": 58,
   "metadata": {},
   "outputs": [
    {
     "data": {
      "text/html": [
       "<div>\n",
       "<style scoped>\n",
       "    .dataframe tbody tr th:only-of-type {\n",
       "        vertical-align: middle;\n",
       "    }\n",
       "\n",
       "    .dataframe tbody tr th {\n",
       "        vertical-align: top;\n",
       "    }\n",
       "\n",
       "    .dataframe thead th {\n",
       "        text-align: right;\n",
       "    }\n",
       "</style>\n",
       "<table border=\"1\" class=\"dataframe\">\n",
       "  <thead>\n",
       "    <tr style=\"text-align: right;\">\n",
       "      <th></th>\n",
       "      <th>state</th>\n",
       "      <th>state_population</th>\n",
       "      <th>state_area_sq_miles</th>\n",
       "    </tr>\n",
       "  </thead>\n",
       "  <tbody>\n",
       "    <tr>\n",
       "      <th>0</th>\n",
       "      <td>Alabama</td>\n",
       "      <td>4903185</td>\n",
       "      <td>52420</td>\n",
       "    </tr>\n",
       "    <tr>\n",
       "      <th>1</th>\n",
       "      <td>Alaska</td>\n",
       "      <td>731545</td>\n",
       "      <td>665384</td>\n",
       "    </tr>\n",
       "    <tr>\n",
       "      <th>2</th>\n",
       "      <td>Arizona</td>\n",
       "      <td>7278717</td>\n",
       "      <td>113990</td>\n",
       "    </tr>\n",
       "    <tr>\n",
       "      <th>3</th>\n",
       "      <td>Arkansas</td>\n",
       "      <td>3017804</td>\n",
       "      <td>53179</td>\n",
       "    </tr>\n",
       "    <tr>\n",
       "      <th>4</th>\n",
       "      <td>California</td>\n",
       "      <td>39512223</td>\n",
       "      <td>163695</td>\n",
       "    </tr>\n",
       "  </tbody>\n",
       "</table>\n",
       "</div>"
      ],
      "text/plain": [
       "        state  state_population  state_area_sq_miles\n",
       "0     Alabama           4903185                52420\n",
       "1      Alaska            731545               665384\n",
       "2     Arizona           7278717               113990\n",
       "3    Arkansas           3017804                53179\n",
       "4  California          39512223               163695"
      ]
     },
     "execution_count": 58,
=======
       "Name: (Established[upper-alpha 1], Established[upper-alpha 1]), dtype: object"
      ]
     },
     "execution_count": 49,
>>>>>>> Stashed changes
     "metadata": {},
     "output_type": "execute_result"
    }
   ],
   "source": [
<<<<<<< Updated upstream
=======
    "established"
   ]
  },
  {
   "cell_type": "markdown",
   "metadata": {},
   "source": [
    "Extract the state name, population, and total area (square miles) columns."
   ]
  },
  {
   "cell_type": "code",
   "execution_count": null,
   "metadata": {},
   "outputs": [],
   "source": [
>>>>>>> Stashed changes
    "#Code task 31#\n",
    "#Now use the iloc accessor again to extract columns 0, 5, and 6 and the dataframe's `copy()` method\n",
    "#Set the names of these extracted columns to 'state', 'state_population', and 'state_area_sq_miles',\n",
    "#respectively.\n",
<<<<<<< Updated upstream
    "usa_states_sub = usa_states.iloc[:, [0,5,6]].copy()\n",
    "usa_states_sub.columns = ['state','state_population','state_area_sq_miles']\n",
=======
    "usa_states_sub = usa_states.___[:, [___]].copy()\n",
    "usa_states_sub.columns = [___]\n",
>>>>>>> Stashed changes
    "usa_states_sub.head()"
   ]
  },
  {
   "cell_type": "markdown",
   "metadata": {},
   "source": [
    "Do you have all the ski data states accounted for?"
   ]
  },
  {
   "cell_type": "code",
<<<<<<< Updated upstream
   "execution_count": 59,
   "metadata": {},
   "outputs": [
    {
     "data": {
      "text/plain": [
       "{'Massachusetts', 'Pennsylvania', 'Rhode Island', 'Virginia'}"
      ]
     },
     "execution_count": 59,
     "metadata": {},
     "output_type": "execute_result"
    }
   ],
=======
   "execution_count": null,
   "metadata": {},
   "outputs": [],
>>>>>>> Stashed changes
   "source": [
    "#Code task 32#\n",
    "#Find the states in `state_summary` that are not in `usa_states_sub`\n",
    "#Hint: set(list1) - set(list2) is an easy way to get items in list1 that are not in list2\n",
<<<<<<< Updated upstream
    "missing_states = set(state_summary.state) - set(usa_states_sub.state)\n",
=======
    "missing_states = ___(state_summary.state) - ___(usa_states_sub.state)\n",
>>>>>>> Stashed changes
    "missing_states"
   ]
  },
  {
   "cell_type": "markdown",
   "metadata": {},
   "source": [
    "No?? "
   ]
  },
  {
   "cell_type": "markdown",
   "metadata": {},
   "source": [
    "If you look at the table on the web, you can perhaps start to guess what the problem is. You can confirm your suspicion by pulling out state names that _contain_ 'Massachusetts', 'Pennsylvania', or 'Virginia' from usa_states_sub:"
   ]
  },
  {
   "cell_type": "code",
<<<<<<< Updated upstream
   "execution_count": 60,
=======
   "execution_count": 52,
>>>>>>> Stashed changes
   "metadata": {},
   "outputs": [
    {
     "data": {
      "text/plain": [
<<<<<<< Updated upstream
       "20    Massachusetts[C]\n",
       "37     Pennsylvania[C]\n",
       "38     Rhode Island[D]\n",
       "45         Virginia[C]\n",
       "47       West Virginia\n",
       "Name: state, dtype: object"
      ]
     },
     "execution_count": 60,
=======
       "20    Massachusetts[upper-alpha 3]\n",
       "37     Pennsylvania[upper-alpha 3]\n",
       "38     Rhode Island[upper-alpha 4]\n",
       "45         Virginia[upper-alpha 3]\n",
       "47                   West Virginia\n",
       "Name: state, dtype: object"
      ]
     },
     "execution_count": 52,
>>>>>>> Stashed changes
     "metadata": {},
     "output_type": "execute_result"
    }
   ],
   "source": [
    "usa_states_sub.state[usa_states_sub.state.str.contains('Massachusetts|Pennsylvania|Rhode Island|Virginia')]"
   ]
  },
  {
   "cell_type": "markdown",
   "metadata": {},
   "source": [
    "Delete square brackets and their contents and try again:"
   ]
  },
  {
   "cell_type": "code",
<<<<<<< Updated upstream
   "execution_count": 61,
   "metadata": {},
   "outputs": [
    {
     "data": {
      "text/plain": [
       "20    Massachusetts\n",
       "37     Pennsylvania\n",
       "38     Rhode Island\n",
       "45         Virginia\n",
       "47    West Virginia\n",
       "Name: state, dtype: object"
      ]
     },
     "execution_count": 61,
     "metadata": {},
     "output_type": "execute_result"
    }
   ],
=======
   "execution_count": null,
   "metadata": {},
   "outputs": [],
>>>>>>> Stashed changes
   "source": [
    "#Code task 33#\n",
    "#Use pandas' Series' `replace()` method to replace anything within square brackets (including the brackets)\n",
    "#with the empty string. Do this inplace, so you need to specify the arguments:\n",
    "#to_replace='\\[.*\\]' #literal square bracket followed by anything or nothing followed by literal closing bracket\n",
    "#value='' #empty string as replacement\n",
    "#regex=True #we used a regex in our `to_replace` argument\n",
    "#inplace=True #Do this \"in place\"\n",
<<<<<<< Updated upstream
    "usa_states_sub.state.replace(to_replace='\\[.*\\]', value='', regex=True, inplace=True)\n",
=======
    "usa_states_sub.state.___(to_replace=___, value=__, regex=___, inplace=___)\n",
>>>>>>> Stashed changes
    "usa_states_sub.state[usa_states_sub.state.str.contains('Massachusetts|Pennsylvania|Rhode Island|Virginia')]"
   ]
  },
  {
   "cell_type": "code",
<<<<<<< Updated upstream
   "execution_count": 62,
   "metadata": {},
   "outputs": [
    {
     "data": {
      "text/plain": [
       "set()"
      ]
     },
     "execution_count": 62,
     "metadata": {},
     "output_type": "execute_result"
    }
   ],
=======
   "execution_count": null,
   "metadata": {},
   "outputs": [],
>>>>>>> Stashed changes
   "source": [
    "#Code task 34#\n",
    "#And now verify none of our states are missing by checking that there are no states in\n",
    "#state_summary that are not in usa_states_sub (as earlier using `set()`)\n",
<<<<<<< Updated upstream
    "missing_states = set(state_summary.state) - set(usa_states_sub.state)\n",
=======
    "missing_states = ___(state_summary.state) - ___(usa_states_sub.state)\n",
>>>>>>> Stashed changes
    "missing_states"
   ]
  },
  {
   "cell_type": "markdown",
   "metadata": {},
   "source": [
    "Better! You have an empty set for missing states now. You can confidently add the population and state area columns to the ski resort data."
   ]
  },
  {
   "cell_type": "code",
<<<<<<< Updated upstream
   "execution_count": 63,
   "metadata": {},
   "outputs": [
    {
     "data": {
      "text/html": [
       "<div>\n",
       "<style scoped>\n",
       "    .dataframe tbody tr th:only-of-type {\n",
       "        vertical-align: middle;\n",
       "    }\n",
       "\n",
       "    .dataframe tbody tr th {\n",
       "        vertical-align: top;\n",
       "    }\n",
       "\n",
       "    .dataframe thead th {\n",
       "        text-align: right;\n",
       "    }\n",
       "</style>\n",
       "<table border=\"1\" class=\"dataframe\">\n",
       "  <thead>\n",
       "    <tr style=\"text-align: right;\">\n",
       "      <th></th>\n",
       "      <th>state</th>\n",
       "      <th>resorts_per_state</th>\n",
       "      <th>state_total_skiable_area_ac</th>\n",
       "      <th>state_total_days_open</th>\n",
       "      <th>state_total_terrain_parks</th>\n",
       "      <th>state_total_nightskiing_ac</th>\n",
       "      <th>state_population</th>\n",
       "      <th>state_area_sq_miles</th>\n",
       "    </tr>\n",
       "  </thead>\n",
       "  <tbody>\n",
       "    <tr>\n",
       "      <th>0</th>\n",
       "      <td>Alaska</td>\n",
       "      <td>3</td>\n",
       "      <td>2280.0</td>\n",
       "      <td>345.0</td>\n",
       "      <td>4.0</td>\n",
       "      <td>580.0</td>\n",
       "      <td>731545</td>\n",
       "      <td>665384</td>\n",
       "    </tr>\n",
       "    <tr>\n",
       "      <th>1</th>\n",
       "      <td>Arizona</td>\n",
       "      <td>2</td>\n",
       "      <td>1577.0</td>\n",
       "      <td>237.0</td>\n",
       "      <td>6.0</td>\n",
       "      <td>80.0</td>\n",
       "      <td>7278717</td>\n",
       "      <td>113990</td>\n",
       "    </tr>\n",
       "    <tr>\n",
       "      <th>2</th>\n",
       "      <td>California</td>\n",
       "      <td>21</td>\n",
       "      <td>25948.0</td>\n",
       "      <td>2738.0</td>\n",
       "      <td>81.0</td>\n",
       "      <td>587.0</td>\n",
       "      <td>39512223</td>\n",
       "      <td>163695</td>\n",
       "    </tr>\n",
       "    <tr>\n",
       "      <th>3</th>\n",
       "      <td>Colorado</td>\n",
       "      <td>22</td>\n",
       "      <td>43682.0</td>\n",
       "      <td>3258.0</td>\n",
       "      <td>74.0</td>\n",
       "      <td>428.0</td>\n",
       "      <td>5758736</td>\n",
       "      <td>104094</td>\n",
       "    </tr>\n",
       "    <tr>\n",
       "      <th>4</th>\n",
       "      <td>Connecticut</td>\n",
       "      <td>5</td>\n",
       "      <td>358.0</td>\n",
       "      <td>353.0</td>\n",
       "      <td>10.0</td>\n",
       "      <td>256.0</td>\n",
       "      <td>3565278</td>\n",
       "      <td>5543</td>\n",
       "    </tr>\n",
       "  </tbody>\n",
       "</table>\n",
       "</div>"
      ],
      "text/plain": [
       "         state  resorts_per_state  state_total_skiable_area_ac  \\\n",
       "0       Alaska                  3                       2280.0   \n",
       "1      Arizona                  2                       1577.0   \n",
       "2   California                 21                      25948.0   \n",
       "3     Colorado                 22                      43682.0   \n",
       "4  Connecticut                  5                        358.0   \n",
       "\n",
       "   state_total_days_open  state_total_terrain_parks  \\\n",
       "0                  345.0                        4.0   \n",
       "1                  237.0                        6.0   \n",
       "2                 2738.0                       81.0   \n",
       "3                 3258.0                       74.0   \n",
       "4                  353.0                       10.0   \n",
       "\n",
       "   state_total_nightskiing_ac  state_population  state_area_sq_miles  \n",
       "0                       580.0            731545               665384  \n",
       "1                        80.0           7278717               113990  \n",
       "2                       587.0          39512223               163695  \n",
       "3                       428.0           5758736               104094  \n",
       "4                       256.0           3565278                 5543  "
      ]
     },
     "execution_count": 63,
     "metadata": {},
     "output_type": "execute_result"
    }
   ],
=======
   "execution_count": null,
   "metadata": {},
   "outputs": [],
>>>>>>> Stashed changes
   "source": [
    "#Code task 35#\n",
    "#Use 'state_summary's `merge()` method to combine our new data in 'usa_states_sub'\n",
    "#specify the arguments how='left' and on='state'\n",
<<<<<<< Updated upstream
    "state_summary = state_summary.merge(usa_states_sub, how='left', on='state')\n",
=======
    "state_summary = state_summary.___(usa_states_sub, ___=___, ___=___)\n",
>>>>>>> Stashed changes
    "state_summary.head()"
   ]
  },
  {
   "cell_type": "markdown",
   "metadata": {},
   "source": [
    "Having created this data frame of summary statistics for various states, it would seem obvious to join this with the ski resort data to augment it with this additional data. You will do this, but not now. In the next notebook you will be exploring the data, including the relationships between the states. For that you want a separate row for each state, as you have here, and joining the data this soon means you'd need to separate and eliminate redundances in the state data when you wanted it."
   ]
  },
  {
   "cell_type": "markdown",
   "metadata": {},
   "source": [
    "## 2.11 Target Feature<a id='2.11_Target_Feature'></a>"
   ]
  },
  {
   "cell_type": "markdown",
   "metadata": {},
   "source": [
    "Finally, what will your target be when modelling ticket price? What relationship is there between weekday and weekend prices?"
   ]
  },
  {
   "cell_type": "code",
<<<<<<< Updated upstream
   "execution_count": 64,
   "metadata": {},
   "outputs": [
    {
     "data": {
      "image/png": "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\n",
      "text/plain": [
       "<Figure size 432x288 with 1 Axes>"
      ]
     },
     "metadata": {
      "needs_background": "light"
     },
     "output_type": "display_data"
    }
   ],
=======
   "execution_count": null,
   "metadata": {},
   "outputs": [],
>>>>>>> Stashed changes
   "source": [
    "#Code task 36#\n",
    "#Use ski_data's `plot()` method to create a scatterplot (kind='scatter') with 'AdultWeekday' on the x-axis and\n",
    "#'AdultWeekend' on the y-axis\n",
<<<<<<< Updated upstream
    "ski_data.plot(x='AdultWeekday', y='AdultWeekend', kind='scatter');"
=======
    "ski_data.___(x=___, y=___, kind=___);"
>>>>>>> Stashed changes
   ]
  },
  {
   "cell_type": "markdown",
   "metadata": {},
   "source": [
    "A couple of observations can be made. Firstly, there is a clear line where weekend and weekday prices are equal. Weekend prices being higher than weekday prices seem restricted to sub $100 resorts. Recall from the boxplot earlier that the distribution for weekday and weekend prices in Montana seemed equal. Is this confirmed in the actual data for each resort? Big Mountain resort is in Montana, so the relationship between these quantities in this state are particularly relevant."
   ]
  },
  {
   "cell_type": "code",
<<<<<<< Updated upstream
   "execution_count": 65,
   "metadata": {},
   "outputs": [
    {
     "data": {
      "text/html": [
       "<div>\n",
       "<style scoped>\n",
       "    .dataframe tbody tr th:only-of-type {\n",
       "        vertical-align: middle;\n",
       "    }\n",
       "\n",
       "    .dataframe tbody tr th {\n",
       "        vertical-align: top;\n",
       "    }\n",
       "\n",
       "    .dataframe thead th {\n",
       "        text-align: right;\n",
       "    }\n",
       "</style>\n",
       "<table border=\"1\" class=\"dataframe\">\n",
       "  <thead>\n",
       "    <tr style=\"text-align: right;\">\n",
       "      <th></th>\n",
       "      <th>AdultWeekend</th>\n",
       "      <th>AdultWeekday</th>\n",
       "    </tr>\n",
       "  </thead>\n",
       "  <tbody>\n",
       "    <tr>\n",
       "      <th>141</th>\n",
       "      <td>42.0</td>\n",
       "      <td>42.0</td>\n",
       "    </tr>\n",
       "    <tr>\n",
       "      <th>142</th>\n",
       "      <td>63.0</td>\n",
       "      <td>63.0</td>\n",
       "    </tr>\n",
       "    <tr>\n",
       "      <th>143</th>\n",
       "      <td>49.0</td>\n",
       "      <td>49.0</td>\n",
       "    </tr>\n",
       "    <tr>\n",
       "      <th>144</th>\n",
       "      <td>48.0</td>\n",
       "      <td>48.0</td>\n",
       "    </tr>\n",
       "    <tr>\n",
       "      <th>145</th>\n",
       "      <td>46.0</td>\n",
       "      <td>46.0</td>\n",
       "    </tr>\n",
       "    <tr>\n",
       "      <th>146</th>\n",
       "      <td>39.0</td>\n",
       "      <td>39.0</td>\n",
       "    </tr>\n",
       "    <tr>\n",
       "      <th>147</th>\n",
       "      <td>50.0</td>\n",
       "      <td>50.0</td>\n",
       "    </tr>\n",
       "    <tr>\n",
       "      <th>148</th>\n",
       "      <td>67.0</td>\n",
       "      <td>67.0</td>\n",
       "    </tr>\n",
       "    <tr>\n",
       "      <th>149</th>\n",
       "      <td>47.0</td>\n",
       "      <td>47.0</td>\n",
       "    </tr>\n",
       "    <tr>\n",
       "      <th>150</th>\n",
       "      <td>39.0</td>\n",
       "      <td>39.0</td>\n",
       "    </tr>\n",
       "    <tr>\n",
       "      <th>151</th>\n",
       "      <td>81.0</td>\n",
       "      <td>81.0</td>\n",
       "    </tr>\n",
       "  </tbody>\n",
       "</table>\n",
       "</div>"
      ],
      "text/plain": [
       "     AdultWeekend  AdultWeekday\n",
       "141          42.0          42.0\n",
       "142          63.0          63.0\n",
       "143          49.0          49.0\n",
       "144          48.0          48.0\n",
       "145          46.0          46.0\n",
       "146          39.0          39.0\n",
       "147          50.0          50.0\n",
       "148          67.0          67.0\n",
       "149          47.0          47.0\n",
       "150          39.0          39.0\n",
       "151          81.0          81.0"
      ]
     },
     "execution_count": 65,
     "metadata": {},
     "output_type": "execute_result"
    }
   ],
   "source": [
    "#Code task 37#\n",
    "#Use the loc accessor on ski_data to print the 'AdultWeekend' and 'AdultWeekday' columns for Montana only\n",
    "ski_data.loc[ski_data.state == 'Montana', ['AdultWeekend', 'AdultWeekday']]"
=======
   "execution_count": null,
   "metadata": {},
   "outputs": [],
   "source": [
    "#Code task 37#\n",
    "#Use the loc accessor on ski_data to print the 'AdultWeekend' and 'AdultWeekday' columns for Montana only\n",
    "ski_data.___[ski_data.state == ___, [___, ___]]"
>>>>>>> Stashed changes
   ]
  },
  {
   "cell_type": "markdown",
   "metadata": {},
   "source": [
    "Is there any reason to prefer weekend or weekday prices? Which is missing the least?"
   ]
  },
  {
   "cell_type": "code",
<<<<<<< Updated upstream
   "execution_count": 66,
=======
   "execution_count": 58,
>>>>>>> Stashed changes
   "metadata": {},
   "outputs": [
    {
     "data": {
      "text/plain": [
       "AdultWeekend    4\n",
       "AdultWeekday    7\n",
       "dtype: int64"
      ]
     },
<<<<<<< Updated upstream
     "execution_count": 66,
=======
     "execution_count": 58,
>>>>>>> Stashed changes
     "metadata": {},
     "output_type": "execute_result"
    }
   ],
   "source": [
    "ski_data[['AdultWeekend', 'AdultWeekday']].isnull().sum()"
   ]
  },
  {
   "cell_type": "markdown",
   "metadata": {},
   "source": [
    "Weekend prices have the least missing values of the two, so drop the weekday prices and then keep just the rows that have weekend price."
   ]
  },
  {
   "cell_type": "code",
<<<<<<< Updated upstream
   "execution_count": 67,
=======
   "execution_count": 59,
>>>>>>> Stashed changes
   "metadata": {},
   "outputs": [],
   "source": [
    "ski_data.drop(columns='AdultWeekday', inplace=True)\n",
    "ski_data.dropna(subset=['AdultWeekend'], inplace=True)"
   ]
  },
  {
   "cell_type": "code",
<<<<<<< Updated upstream
   "execution_count": 68,
=======
   "execution_count": 60,
>>>>>>> Stashed changes
   "metadata": {},
   "outputs": [
    {
     "data": {
      "text/plain": [
       "(277, 25)"
      ]
     },
<<<<<<< Updated upstream
     "execution_count": 68,
=======
     "execution_count": 60,
>>>>>>> Stashed changes
     "metadata": {},
     "output_type": "execute_result"
    }
   ],
   "source": [
    "ski_data.shape"
   ]
  },
  {
   "cell_type": "markdown",
   "metadata": {},
   "source": [
    "Perform a final quick check on the data."
   ]
  },
  {
   "cell_type": "markdown",
   "metadata": {},
   "source": [
    "### 2.11.1 Number Of Missing Values By Row - Resort<a id='2.11.1_Number_Of_Missing_Values_By_Row_-_Resort'></a>"
   ]
  },
  {
   "cell_type": "markdown",
   "metadata": {},
   "source": [
    "Having dropped rows missing the desired target ticket price, what degree of missingness do you have for the remaining rows?"
   ]
  },
  {
   "cell_type": "code",
<<<<<<< Updated upstream
   "execution_count": 69,
=======
   "execution_count": 61,
>>>>>>> Stashed changes
   "metadata": {},
   "outputs": [
    {
     "data": {
      "text/html": [
       "<div>\n",
       "<style scoped>\n",
       "    .dataframe tbody tr th:only-of-type {\n",
       "        vertical-align: middle;\n",
       "    }\n",
       "\n",
       "    .dataframe tbody tr th {\n",
       "        vertical-align: top;\n",
       "    }\n",
       "\n",
       "    .dataframe thead th {\n",
       "        text-align: right;\n",
       "    }\n",
       "</style>\n",
       "<table border=\"1\" class=\"dataframe\">\n",
       "  <thead>\n",
       "    <tr style=\"text-align: right;\">\n",
       "      <th></th>\n",
       "      <th>count</th>\n",
       "      <th>%</th>\n",
       "    </tr>\n",
       "  </thead>\n",
       "  <tbody>\n",
       "    <tr>\n",
       "      <th>329</th>\n",
       "      <td>5</td>\n",
       "      <td>20.0</td>\n",
       "    </tr>\n",
       "    <tr>\n",
       "      <th>62</th>\n",
       "      <td>5</td>\n",
       "      <td>20.0</td>\n",
       "    </tr>\n",
       "    <tr>\n",
       "      <th>141</th>\n",
       "      <td>5</td>\n",
       "      <td>20.0</td>\n",
       "    </tr>\n",
       "    <tr>\n",
       "      <th>86</th>\n",
       "      <td>5</td>\n",
       "      <td>20.0</td>\n",
       "    </tr>\n",
       "    <tr>\n",
       "      <th>74</th>\n",
       "      <td>5</td>\n",
       "      <td>20.0</td>\n",
       "    </tr>\n",
       "    <tr>\n",
       "      <th>146</th>\n",
       "      <td>5</td>\n",
       "      <td>20.0</td>\n",
       "    </tr>\n",
       "    <tr>\n",
       "      <th>184</th>\n",
       "      <td>4</td>\n",
       "      <td>16.0</td>\n",
       "    </tr>\n",
       "    <tr>\n",
       "      <th>108</th>\n",
       "      <td>4</td>\n",
       "      <td>16.0</td>\n",
       "    </tr>\n",
       "    <tr>\n",
       "      <th>198</th>\n",
       "      <td>4</td>\n",
       "      <td>16.0</td>\n",
       "    </tr>\n",
       "    <tr>\n",
       "      <th>39</th>\n",
       "      <td>4</td>\n",
       "      <td>16.0</td>\n",
       "    </tr>\n",
       "  </tbody>\n",
       "</table>\n",
       "</div>"
      ],
      "text/plain": [
       "     count     %\n",
       "329      5  20.0\n",
       "62       5  20.0\n",
       "141      5  20.0\n",
       "86       5  20.0\n",
       "74       5  20.0\n",
       "146      5  20.0\n",
       "184      4  16.0\n",
       "108      4  16.0\n",
       "198      4  16.0\n",
       "39       4  16.0"
      ]
     },
<<<<<<< Updated upstream
     "execution_count": 69,
=======
     "execution_count": 61,
>>>>>>> Stashed changes
     "metadata": {},
     "output_type": "execute_result"
    }
   ],
   "source": [
    "missing = pd.concat([ski_data.isnull().sum(axis=1), 100 * ski_data.isnull().mean(axis=1)], axis=1)\n",
    "missing.columns=['count', '%']\n",
    "missing.sort_values(by='count', ascending=False).head(10)"
   ]
  },
  {
   "cell_type": "markdown",
   "metadata": {},
   "source": [
    "These seem possibly curiously quantized..."
   ]
  },
  {
   "cell_type": "code",
<<<<<<< Updated upstream
   "execution_count": 70,
=======
   "execution_count": 62,
>>>>>>> Stashed changes
   "metadata": {},
   "outputs": [
    {
     "data": {
      "text/plain": [
       "array([ 0.,  4.,  8., 12., 16., 20.])"
      ]
     },
<<<<<<< Updated upstream
     "execution_count": 70,
=======
     "execution_count": 62,
>>>>>>> Stashed changes
     "metadata": {},
     "output_type": "execute_result"
    }
   ],
   "source": [
    "missing['%'].unique()"
   ]
  },
  {
   "cell_type": "markdown",
   "metadata": {},
   "source": [
    "Yes, the percentage of missing values per row appear in multiples of 4."
   ]
  },
  {
   "cell_type": "code",
<<<<<<< Updated upstream
   "execution_count": 71,
=======
   "execution_count": 63,
>>>>>>> Stashed changes
   "metadata": {},
   "outputs": [
    {
     "data": {
      "text/plain": [
       "0.0     107\n",
       "4.0      94\n",
       "8.0      45\n",
       "12.0     15\n",
       "16.0     10\n",
       "20.0      6\n",
       "Name: %, dtype: int64"
      ]
     },
<<<<<<< Updated upstream
     "execution_count": 71,
=======
     "execution_count": 63,
>>>>>>> Stashed changes
     "metadata": {},
     "output_type": "execute_result"
    }
   ],
   "source": [
    "missing['%'].value_counts()"
   ]
  },
  {
   "cell_type": "markdown",
   "metadata": {},
   "source": [
    "This is almost as if values have been removed artificially... Nevertheless, what you don't know is how useful the missing features are in predicting ticket price. You shouldn't just drop rows that are missing several useless features."
   ]
  },
  {
   "cell_type": "code",
<<<<<<< Updated upstream
   "execution_count": 72,
=======
   "execution_count": 64,
>>>>>>> Stashed changes
   "metadata": {},
   "outputs": [
    {
     "name": "stdout",
     "output_type": "stream",
     "text": [
      "<class 'pandas.core.frame.DataFrame'>\n",
      "Int64Index: 277 entries, 0 to 329\n",
      "Data columns (total 25 columns):\n",
      " #   Column             Non-Null Count  Dtype  \n",
      "---  ------             --------------  -----  \n",
      " 0   Name               277 non-null    object \n",
      " 1   Region             277 non-null    object \n",
      " 2   state              277 non-null    object \n",
      " 3   summit_elev        277 non-null    int64  \n",
      " 4   vertical_drop      277 non-null    int64  \n",
      " 5   base_elev          277 non-null    int64  \n",
      " 6   trams              277 non-null    int64  \n",
      " 7   fastSixes          277 non-null    int64  \n",
      " 8   fastQuads          277 non-null    int64  \n",
      " 9   quad               277 non-null    int64  \n",
      " 10  triple             277 non-null    int64  \n",
      " 11  double             277 non-null    int64  \n",
      " 12  surface            277 non-null    int64  \n",
      " 13  total_chairs       277 non-null    int64  \n",
      " 14  Runs               274 non-null    float64\n",
      " 15  TerrainParks       233 non-null    float64\n",
      " 16  LongestRun_mi      272 non-null    float64\n",
      " 17  SkiableTerrain_ac  275 non-null    float64\n",
      " 18  Snow Making_ac     240 non-null    float64\n",
      " 19  daysOpenLastYear   233 non-null    float64\n",
      " 20  yearsOpen          277 non-null    float64\n",
      " 21  averageSnowfall    268 non-null    float64\n",
      " 22  AdultWeekend       277 non-null    float64\n",
      " 23  projectedDaysOpen  236 non-null    float64\n",
      " 24  NightSkiing_ac     163 non-null    float64\n",
      "dtypes: float64(11), int64(11), object(3)\n",
      "memory usage: 56.3+ KB\n"
     ]
    }
   ],
   "source": [
    "ski_data.info()"
   ]
  },
  {
   "cell_type": "markdown",
   "metadata": {},
   "source": [
    "There are still some missing values, and it's good to be aware of this, but leave them as is for now."
   ]
  },
  {
   "cell_type": "markdown",
   "metadata": {},
   "source": [
    "## 2.12 Save data<a id='2.12_Save_data'></a>"
   ]
  },
  {
   "cell_type": "code",
<<<<<<< Updated upstream
   "execution_count": 73,
=======
   "execution_count": 65,
>>>>>>> Stashed changes
   "metadata": {},
   "outputs": [
    {
     "data": {
      "text/plain": [
       "(277, 25)"
      ]
     },
<<<<<<< Updated upstream
     "execution_count": 73,
=======
     "execution_count": 65,
>>>>>>> Stashed changes
     "metadata": {},
     "output_type": "execute_result"
    }
   ],
   "source": [
    "ski_data.shape"
   ]
  },
  {
   "cell_type": "markdown",
   "metadata": {},
   "source": [
    "Save this to your data directory, separately. Note that you were provided with the data in `raw_data` and you should saving derived data in a separate location. This guards against overwriting our original data."
   ]
  },
  {
   "cell_type": "code",
<<<<<<< Updated upstream
   "execution_count": 74,
   "metadata": {},
   "outputs": [
    {
     "name": "stdout",
     "output_type": "stream",
     "text": [
      "A file already exists with this name.\n",
      "\n",
      "Do you want to overwrite? (Y/N)Y\n",
      "Writing file.  \"../data\\ski_data_cleaned.csv\"\n"
     ]
    }
   ],
=======
   "execution_count": 66,
   "metadata": {},
   "outputs": [],
>>>>>>> Stashed changes
   "source": [
    "# save the data to a new csv file\n",
    "datapath = '../data'\n",
    "save_file(ski_data, 'ski_data_cleaned.csv', datapath)"
   ]
  },
  {
   "cell_type": "code",
<<<<<<< Updated upstream
   "execution_count": 75,
   "metadata": {},
   "outputs": [
    {
     "name": "stdout",
     "output_type": "stream",
     "text": [
      "A file already exists with this name.\n",
      "\n",
      "Do you want to overwrite? (Y/N)Y\n",
      "Writing file.  \"../data\\state_summary.csv\"\n"
     ]
    }
   ],
=======
   "execution_count": 67,
   "metadata": {},
   "outputs": [],
>>>>>>> Stashed changes
   "source": [
    "# save the state_summary separately.\n",
    "datapath = '../data'\n",
    "save_file(state_summary, 'state_summary.csv', datapath)"
   ]
  },
  {
   "cell_type": "markdown",
   "metadata": {},
   "source": [
    "## 2.13 Summary<a id='2.13_Summary'></a>"
   ]
  },
  {
   "cell_type": "markdown",
   "metadata": {},
   "source": [
    "**Q: 3** Write a summary statement that highlights the key processes and findings from this notebook. This should include information such as the original number of rows in the data, whether our own resort was actually present etc. What columns, if any, have been removed? Any rows? Summarise the reasons why. Were any other issues found? What remedial actions did you take? State where you are in the project. Can you confirm what the target feature is for your desire to predict ticket price? How many rows were left in the data? Hint: this is a great opportunity to reread your notebook, check all cells have been executed in order and from a \"blank slate\" (restarting the kernel will do this), and that your workflow makes sense and follows a logical pattern. As you do this you can pull out salient information for inclusion in this summary. Thus, this section will provide an important overview of \"what\" and \"why\" without having to dive into the \"how\" or any unproductive or inconclusive steps along the way."
   ]
  },
  {
   "cell_type": "markdown",
   "metadata": {},
   "source": [
<<<<<<< Updated upstream
    "**A: 3** First, ski_ data which contains resorts in US is used to compare each resorts to set the ticket price. The Big Mountain ski resorts’ data from ski_data was explored to double check if there was any missing values. Also other resorts data was explored to check the missing values in them and realized there are duplicated resort name and checked if they are identical or just the names were the same(concluded that they are two different resort). Also found out that there are multiple regions in each state and plotted the number of resorts in each region and state. After, the column ticket price,(adult weekend, and adult weekday) was analyzed to evaluate the summary of ticket price in each state and was plotted(average). Also seaborn boxplot was created to summarize the ticket price in each state(average, median, max, min, IQR). After, the histogram of each column was plotted to check if there is any odd data and found out that there are some wrong input to the data(snow making, years open, and skiable terrain). The wrong input was fixed and some of them were dropped to create a histogram that shows better information. Also the data frame contains columns including weekend and weekday ticket price and some resorts only contains one ticket price. There were more resorts with only weekend price than only weekday price, therefore I decided to use weekend price to analyze the dataframe. After the us population data was used to merge with ski_data to compare it with the population, area and the resorts in each state. Now the data is ready to be explored."
=======
    "**A: 3** Your answer here"
>>>>>>> Stashed changes
   ]
  }
 ],
 "metadata": {
  "kernelspec": {
   "display_name": "Python 3",
   "language": "python",
   "name": "python3"
  },
  "language_info": {
   "codemirror_mode": {
    "name": "ipython",
    "version": 3
   },
   "file_extension": ".py",
   "mimetype": "text/x-python",
   "name": "python",
   "nbconvert_exporter": "python",
   "pygments_lexer": "ipython3",
   "version": "3.8.8"
  },
  "toc": {
   "base_numbering": 1,
   "nav_menu": {},
   "number_sections": true,
   "sideBar": true,
   "skip_h1_title": false,
   "title_cell": "Table of Contents",
   "title_sidebar": "Contents",
   "toc_cell": false,
   "toc_position": {},
   "toc_section_display": true,
   "toc_window_display": true
  },
  "varInspector": {
   "cols": {
    "lenName": 16,
    "lenType": 16,
    "lenVar": 40
   },
   "kernels_config": {
    "python": {
     "delete_cmd_postfix": "",
     "delete_cmd_prefix": "del ",
     "library": "var_list.py",
     "varRefreshCmd": "print(var_dic_list())"
    },
    "r": {
     "delete_cmd_postfix": ") ",
     "delete_cmd_prefix": "rm(",
     "library": "var_list.r",
     "varRefreshCmd": "cat(var_dic_list()) "
    }
   },
   "types_to_exclude": [
    "module",
    "function",
    "builtin_function_or_method",
    "instance",
    "_Feature"
   ],
   "window_display": false
  }
 },
 "nbformat": 4,
 "nbformat_minor": 4
}
